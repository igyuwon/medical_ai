{
 "cells": [
  {
   "cell_type": "code",
   "execution_count": 22,
   "metadata": {},
   "outputs": [],
   "source": [
    "from sklearn import svm,metrics\n",
    "from sklearn.neighbors import KNeighborsClassifier\n",
    "from sklearn.model_selection import train_test_split\n",
    "import pandas as pd\n",
    "import numpy as np\n",
    "import matplotlib.pyplot as plt\n",
    "import matplotlib\n",
    "import random\n",
    "import glob,os.path,re\n",
    "matplotlib.rcParams['axes.unicode_minus'] = False  # 마이너스 표시 해결\n",
    "matplotlib.rcParams['font.family'] = 'AppleGothic' # Mac사용자\n",
    "matplotlib.rcParams['font.size'] = '10' # 글자크기\n"
   ]
  },
  {
   "cell_type": "code",
   "execution_count": 23,
   "metadata": {},
   "outputs": [],
   "source": [
    "# 각 파일 처리\n",
    "def load_files(path):\n",
    "    freqs = []\n",
    "    results = []\n",
    "    file_list = sorted(glob.glob(path))\n",
    "    for fname in file_list: # 파일개수 : 20번 실행\n",
    "        name = os.path.basename(fname)\n",
    "        lang = name.split('-')[0] # en,en,en,en,en,fr,fr...\n",
    "        \n",
    "        with open(fname,'r',encoding='utf-8') as f:\n",
    "            text = f.read()\n",
    "        \n",
    "        text = text.lower() # 소문자로 바꿔줌\n",
    "        cnt = [0 for n in range(0,26)]\n",
    "        code_a = ord('a')\n",
    "        code_z = ord('z')\n",
    "        \n",
    "        # 모든 문자를 가져와서, a-z 사이의 문자만 저장\n",
    "        for ch in text:\n",
    "            n = ord(ch)\n",
    "            if code_a <= n <= code_z:\n",
    "                cnt[n-code_a] += 1  # b 98-97 = 1 1의 자리에 1 증가\n",
    "        # 정규화 작업 - 각 피쳐마다 비율을 일정하게 맞춤.\n",
    "        total = sum(cnt)\n",
    "        # 데이터의 값이 0~1사이의 값으로 변환\n",
    "        freq = list(map(lambda n: n/total,cnt))\n",
    "        \n",
    "        # data 값 저장\n",
    "        freqs.append(freq)\n",
    "        \n",
    "        # 결과값 리스트 저장\n",
    "        results.append(lang)\n",
    "        \n",
    "    return {'freqs':freqs,'results':results}"
   ]
  },
  {
   "cell_type": "markdown",
   "metadata": {},
   "source": [
    "파일 확인"
   ]
  },
  {
   "cell_type": "code",
   "execution_count": 34,
   "metadata": {},
   "outputs": [
    {
     "data": {
      "text/plain": [
       "'en'"
      ]
     },
     "execution_count": 34,
     "metadata": {},
     "output_type": "execute_result"
    }
   ],
   "source": [
    "path = './lang/train/*.txt'\n",
    "path2 = './lang/test/*.txt'\n",
    "\n",
    "# 함수 호출 - train_input, train_target, test_input, test_target\n",
    "data = load_files(path) # 함수호출 - 20개의 train 데이터를 가져옴.\n",
    "test = load_files(path2) # 함수호출 - 8개의 test데이터를 가져옴\n",
    "data['freqs'][0]\n",
    "test['freqs'][0]\n",
    "data['results'][0]\n",
    "\n"
   ]
  },
  {
   "cell_type": "markdown",
   "metadata": {},
   "source": [
    "### 데이터 전처리 - train 세트, test 세트 생성"
   ]
  },
  {
   "cell_type": "code",
   "execution_count": 35,
   "metadata": {},
   "outputs": [
    {
     "name": "stdout",
     "output_type": "stream",
     "text": [
      "결과값 :  ['en' 'en' 'fr' 'fr' 'id' 'id' 'tl' 'tl']\n"
     ]
    }
   ],
   "source": [
    "# 데이터 학습시키기\n",
    "clf = svm.SVC()\n",
    "clf.fit(data['freqs'],data['results'])\n",
    "\n",
    "# 데이터 예측하기\n",
    "predict = clf.predict(test['freqs'])\n",
    "print('결과값 : ',predict)\n"
   ]
  },
  {
   "cell_type": "code",
   "execution_count": 36,
   "metadata": {},
   "outputs": [
    {
     "name": "stdout",
     "output_type": "stream",
     "text": [
      "정답률 :  1.0\n"
     ]
    }
   ],
   "source": [
    "score = clf.score(test['freqs'],test['results'])\n",
    "print('정답률 : ',score)"
   ]
  },
  {
   "cell_type": "code",
   "execution_count": 37,
   "metadata": {},
   "outputs": [
    {
     "name": "stdout",
     "output_type": "stream",
     "text": [
      "              precision    recall  f1-score   support\n",
      "\n",
      "          en       1.00      1.00      1.00         2\n",
      "          fr       1.00      1.00      1.00         2\n",
      "          id       1.00      1.00      1.00         2\n",
      "          tl       1.00      1.00      1.00         2\n",
      "\n",
      "    accuracy                           1.00         8\n",
      "   macro avg       1.00      1.00      1.00         8\n",
      "weighted avg       1.00      1.00      1.00         8\n",
      "\n"
     ]
    }
   ],
   "source": [
    "cl_report = metrics.classification_report(test['results'],predict)\n",
    "print(cl_report)"
   ]
  },
  {
   "cell_type": "code",
   "execution_count": 46,
   "metadata": {},
   "outputs": [
    {
     "data": {
      "text/plain": [
       "array([<Axes: title={'center': 'en'}>, <Axes: title={'center': 'fr'}>,\n",
       "       <Axes: title={'center': 'id'}>, <Axes: title={'center': 'tl'}>],\n",
       "      dtype=object)"
      ]
     },
     "execution_count": 46,
     "metadata": {},
     "output_type": "execute_result"
    },
    {
     "data": {
      "image/png": "[encoded data removed]",
      "text/plain": [
       "<Figure size 640x480 with 4 Axes>"
      ]
     },
     "metadata": {},
     "output_type": "display_data"
    }
   ],
   "source": [
    "# 그래프 그리기\n",
    "lang_dic = {}\n",
    "for i,result in enumerate(data['results']):\n",
    "    fq = data['freqs'][i] # data부분을 가지고 옴.\n",
    "    if not (result in lang_dic):\n",
    "        lang_dic[result] = fq\n",
    "    for idx, v in enumerate(fq):\n",
    "        lang_dic[result][idx] = (lang_dic[result][idx]+v) / 2\n",
    "# x축의 눈금을 생성\n",
    "asc_list = [chr(n) for n in range(97,122+1)] # 아스키코드 97:a, 122, z\n",
    "df = pd.DataFrame(lang_dic,index=asc_list)\n",
    "df.plot(kind='bar',subplots=True,ylim=(0,0.15))"
   ]
  },
  {
   "cell_type": "code",
   "execution_count": 49,
   "metadata": {},
   "outputs": [
    {
     "data": {
      "text/plain": [
       "(0.0, 0.15)"
      ]
     },
     "execution_count": 49,
     "metadata": {},
     "output_type": "execute_result"
    },
    {
     "data": {
      "image/png": "[encoded data removed]",
      "text/plain": [
       "<Figure size 640x480 with 4 Axes>"
      ]
     },
     "metadata": {},
     "output_type": "display_data"
    }
   ],
   "source": [
    "fig,axs = plt.subplots(4)\n",
    "axs[0].bar(df.index,df['en'],label=df.columns[0])\n",
    "axs[1].bar(df.index,df['fr'],label=df.columns[1])\n",
    "axs[2].bar(df.index,df['id'],label=df.columns[2])\n",
    "axs[3].bar(df.index,df['tl'],label=df.columns[3])\n",
    "axs[0].legend()\n",
    "axs[1].legend()\n",
    "axs[2].legend()\n",
    "axs[3].legend()\n",
    "axs[0].set_ylim(0,0.15)\n",
    "axs[1].set_ylim(0,0.15)\n",
    "axs[2].set_ylim(0,0.15)\n",
    "axs[3].set_ylim(0,0.15)"
   ]
  },
  {
   "cell_type": "code",
   "execution_count": 38,
   "metadata": {},
   "outputs": [
    {
     "data": {
      "text/plain": [
       "[0.20236947237911557,\n",
       " 0.02273040363686458,\n",
       " 0.0195619231299077,\n",
       " 0.03705744592919135,\n",
       " 0.06419617027138724,\n",
       " 0.0057859209257473485,\n",
       " 0.033062405289984845,\n",
       " 0.006750241080038573,\n",
       " 0.07549249207879873,\n",
       " 0.00234192037470726,\n",
       " 0.014740322358451578,\n",
       " 0.0505579280892685,\n",
       " 0.02383248381319741,\n",
       " 0.11489185838269735,\n",
       " 0.06764017082242733,\n",
       " 0.03085824493731919,\n",
       " 0.0017908802865408459,\n",
       " 0.039399366303898606,\n",
       " 0.06502273040363686,\n",
       " 0.04614960738393718,\n",
       " 0.027827524452403912,\n",
       " 0.0048216007714561235,\n",
       " 0.0057859209257473485,\n",
       " 0.00041328006612481057,\n",
       " 0.03388896542223447,\n",
       " 0.0030307204849152774]"
      ]
     },
     "execution_count": 38,
     "metadata": {},
     "output_type": "execute_result"
    }
   ],
   "source": [
    "data['freqs'][19]"
   ]
  },
  {
   "cell_type": "code",
   "execution_count": null,
   "metadata": {},
   "outputs": [],
   "source": []
  }
 ],
 "metadata": {
  "kernelspec": {
   "display_name": "Python 3",
   "language": "python",
   "name": "python3"
  },
  "language_info": {
   "codemirror_mode": {
    "name": "ipython",
    "version": 3
   },
   "file_extension": ".py",
   "mimetype": "text/x-python",
   "name": "python",
   "nbconvert_exporter": "python",
   "pygments_lexer": "ipython3",
   "version": "3.12.3"
  }
 },
 "nbformat": 4,
 "nbformat_minor": 2
}
