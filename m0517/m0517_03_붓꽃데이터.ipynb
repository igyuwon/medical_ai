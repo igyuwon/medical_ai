{
 "cells": [
  {
   "cell_type": "code",
   "execution_count": 128,
   "metadata": {},
   "outputs": [],
   "source": [
    "from sklearn import svm,metrics\n",
    "from sklearn.model_selection import train_test_split\n",
    "import matplotlib.pyplot as plt\n",
    "import matplotlib\n",
    "import numpy as np\n",
    "import pandas as pd\n",
    "import random\n",
    "\n",
    "matplotlib.rcParams['axes.unicode_minus'] = False  # 마이너스 표시 해결\n",
    "# 한글설정\n",
    "matplotlib.rcParams['font.family'] = 'Malgun Gothic' # windows 사용자\n",
    "# matplotlib.rcParams['font.family'] = 'AppleGothic Gothic' # Mac사용자\n",
    "matplotlib.rcParams['font.size'] = '10' # 글자크기"
   ]
  },
  {
   "cell_type": "code",
   "execution_count": 129,
   "metadata": {},
   "outputs": [
    {
     "data": {
      "text/html": [
       "<div>\n",
       "<style scoped>\n",
       "    .dataframe tbody tr th:only-of-type {\n",
       "        vertical-align: middle;\n",
       "    }\n",
       "\n",
       "    .dataframe tbody tr th {\n",
       "        vertical-align: top;\n",
       "    }\n",
       "\n",
       "    .dataframe thead th {\n",
       "        text-align: right;\n",
       "    }\n",
       "</style>\n",
       "<table border=\"1\" class=\"dataframe\">\n",
       "  <thead>\n",
       "    <tr style=\"text-align: right;\">\n",
       "      <th></th>\n",
       "      <th>SepalLength</th>\n",
       "      <th>SepalWidth</th>\n",
       "      <th>PetalLength</th>\n",
       "      <th>PetalWidth</th>\n",
       "      <th>Name</th>\n",
       "    </tr>\n",
       "  </thead>\n",
       "  <tbody>\n",
       "    <tr>\n",
       "      <th>0</th>\n",
       "      <td>5.1</td>\n",
       "      <td>3.5</td>\n",
       "      <td>1.4</td>\n",
       "      <td>0.2</td>\n",
       "      <td>Iris-setosa</td>\n",
       "    </tr>\n",
       "    <tr>\n",
       "      <th>1</th>\n",
       "      <td>4.9</td>\n",
       "      <td>3.0</td>\n",
       "      <td>1.4</td>\n",
       "      <td>0.2</td>\n",
       "      <td>Iris-setosa</td>\n",
       "    </tr>\n",
       "    <tr>\n",
       "      <th>2</th>\n",
       "      <td>4.7</td>\n",
       "      <td>3.2</td>\n",
       "      <td>1.3</td>\n",
       "      <td>0.2</td>\n",
       "      <td>Iris-setosa</td>\n",
       "    </tr>\n",
       "  </tbody>\n",
       "</table>\n",
       "</div>"
      ],
      "text/plain": [
       "   SepalLength  SepalWidth  PetalLength  PetalWidth         Name\n",
       "0          5.1         3.5          1.4         0.2  Iris-setosa\n",
       "1          4.9         3.0          1.4         0.2  Iris-setosa\n",
       "2          4.7         3.2          1.3         0.2  Iris-setosa"
      ]
     },
     "execution_count": 129,
     "metadata": {},
     "output_type": "execute_result"
    }
   ],
   "source": [
    "df = pd.read_csv('../z20_data/iris.csv')\n",
    "df.head(3)"
   ]
  },
  {
   "cell_type": "code",
   "execution_count": 130,
   "metadata": {},
   "outputs": [],
   "source": [
    "# np.random.seed(150)\n",
    "# # 0~149개 배열 생성\n",
    "# index = np.arange(150)\n",
    "# index"
   ]
  },
  {
   "cell_type": "code",
   "execution_count": 131,
   "metadata": {},
   "outputs": [],
   "source": [
    "# 파이썬 random함수\n",
    "# ran_num = [i for i in range(150)]\n",
    "# random.shuffle(ran_num)\n",
    "# # numpy random함수\n",
    "# # random code 0-149 랜덤숫자를 생성\n",
    "# index = np.arange(150)\n",
    "# np.random.shuffle(index)"
   ]
  },
  {
   "cell_type": "code",
   "execution_count": 132,
   "metadata": {},
   "outputs": [],
   "source": [
    "# index로 df에 대입해서 가져오면, 랜덤으로 데이터가 섞여서 가져올 수 있음.\n",
    "# train_input = df.iloc[index[:100],:-1]\n",
    "# train_input"
   ]
  },
  {
   "cell_type": "code",
   "execution_count": 133,
   "metadata": {},
   "outputs": [],
   "source": [
    "# # 100개 4개 컬럼을 가진 데이터를  출력하시오.\n",
    "# # SepalLength\tSepalWidth\tPetalLength\tPetalWidth 만 출력\n",
    "# # train_input\n",
    "# train_input = df[['SepalLength','SepalWidth','PetalLength','PetalWidth']].head(100)\n",
    "# df.iloc[:,:100]\n",
    "\n",
    "# # rows 50게 4개 컬럼을 가진 데이터를  출력하시오.\n",
    "# # SepalLength\tSepalWidth\tPetalLength\tPetalWidth 만 출력\n",
    "# # test_input\n",
    "# test_input = df[['SepalLength','SepalWidth','PetalLength','PetalWidth']].head(50)\n",
    "\n",
    "# # train_target = Name rows 100개\n",
    "# train_target = df['Name'].head(100)\n",
    "# # test_target = Name rows 50개\n",
    "# test_target = df['Name'].head(50)"
   ]
  },
  {
   "cell_type": "code",
   "execution_count": 134,
   "metadata": {},
   "outputs": [],
   "source": [
    "# 1. 데이터 전처리 train, test 데이터 분리\n",
    "# iloc(row, columns)\n",
    "# train_input = df.iloc[:100,:-1]\n",
    "# test_input = df.iloc[100:,:-1]\n",
    "\n",
    "# train_target = df.iloc[:100,4]\n",
    "# test_target = df.iloc[100:,4]\n",
    "\n",
    "# 랜덤으로 데이터 추출\n",
    "# train_input = df.iloc[index[:100],:-1]\n",
    "# test_input = df.iloc[index[100:],:-1]\n",
    "\n",
    "# train_target = df.iloc[index[:100],4]\n",
    "# test_target = df.iloc[index[100:],4]\n"
   ]
  },
  {
   "cell_type": "code",
   "execution_count": 135,
   "metadata": {},
   "outputs": [],
   "source": [
    "# 1. 데이터 전처리 - data,result 데이터 분리\n",
    "# 4개 컬럼\n",
    "datas_input = df.iloc[:,:-1]\n",
    "# Name\n",
    "datas_target = df.iloc[:,4]"
   ]
  },
  {
   "cell_type": "code",
   "execution_count": 136,
   "metadata": {},
   "outputs": [],
   "source": [
    "# 모든 data를 가지고 train, test 데이터 분리\n",
    "# train, test 데이터를 자동으로 분리해줌\n",
    "train_input,test_input,train_target,test_target = train_test_split(datas_input,datas_target)"
   ]
  },
  {
   "cell_type": "code",
   "execution_count": 137,
   "metadata": {},
   "outputs": [
    {
     "data": {
      "text/html": [
       "<div>\n",
       "<style scoped>\n",
       "    .dataframe tbody tr th:only-of-type {\n",
       "        vertical-align: middle;\n",
       "    }\n",
       "\n",
       "    .dataframe tbody tr th {\n",
       "        vertical-align: top;\n",
       "    }\n",
       "\n",
       "    .dataframe thead th {\n",
       "        text-align: right;\n",
       "    }\n",
       "</style>\n",
       "<table border=\"1\" class=\"dataframe\">\n",
       "  <thead>\n",
       "    <tr style=\"text-align: right;\">\n",
       "      <th></th>\n",
       "      <th>SepalLength</th>\n",
       "      <th>SepalWidth</th>\n",
       "      <th>PetalLength</th>\n",
       "      <th>PetalWidth</th>\n",
       "    </tr>\n",
       "  </thead>\n",
       "  <tbody>\n",
       "    <tr>\n",
       "      <th>85</th>\n",
       "      <td>6.0</td>\n",
       "      <td>3.4</td>\n",
       "      <td>4.5</td>\n",
       "      <td>1.6</td>\n",
       "    </tr>\n",
       "    <tr>\n",
       "      <th>94</th>\n",
       "      <td>5.6</td>\n",
       "      <td>2.7</td>\n",
       "      <td>4.2</td>\n",
       "      <td>1.3</td>\n",
       "    </tr>\n",
       "    <tr>\n",
       "      <th>126</th>\n",
       "      <td>6.2</td>\n",
       "      <td>2.8</td>\n",
       "      <td>4.8</td>\n",
       "      <td>1.8</td>\n",
       "    </tr>\n",
       "    <tr>\n",
       "      <th>16</th>\n",
       "      <td>5.4</td>\n",
       "      <td>3.9</td>\n",
       "      <td>1.3</td>\n",
       "      <td>0.4</td>\n",
       "    </tr>\n",
       "    <tr>\n",
       "      <th>8</th>\n",
       "      <td>4.4</td>\n",
       "      <td>2.9</td>\n",
       "      <td>1.4</td>\n",
       "      <td>0.2</td>\n",
       "    </tr>\n",
       "    <tr>\n",
       "      <th>...</th>\n",
       "      <td>...</td>\n",
       "      <td>...</td>\n",
       "      <td>...</td>\n",
       "      <td>...</td>\n",
       "    </tr>\n",
       "    <tr>\n",
       "      <th>79</th>\n",
       "      <td>5.7</td>\n",
       "      <td>2.6</td>\n",
       "      <td>3.5</td>\n",
       "      <td>1.0</td>\n",
       "    </tr>\n",
       "    <tr>\n",
       "      <th>113</th>\n",
       "      <td>5.7</td>\n",
       "      <td>2.5</td>\n",
       "      <td>5.0</td>\n",
       "      <td>2.0</td>\n",
       "    </tr>\n",
       "    <tr>\n",
       "      <th>110</th>\n",
       "      <td>6.5</td>\n",
       "      <td>3.2</td>\n",
       "      <td>5.1</td>\n",
       "      <td>2.0</td>\n",
       "    </tr>\n",
       "    <tr>\n",
       "      <th>9</th>\n",
       "      <td>4.9</td>\n",
       "      <td>3.1</td>\n",
       "      <td>1.5</td>\n",
       "      <td>0.1</td>\n",
       "    </tr>\n",
       "    <tr>\n",
       "      <th>7</th>\n",
       "      <td>5.0</td>\n",
       "      <td>3.4</td>\n",
       "      <td>1.5</td>\n",
       "      <td>0.2</td>\n",
       "    </tr>\n",
       "  </tbody>\n",
       "</table>\n",
       "<p>112 rows × 4 columns</p>\n",
       "</div>"
      ],
      "text/plain": [
       "     SepalLength  SepalWidth  PetalLength  PetalWidth\n",
       "85           6.0         3.4          4.5         1.6\n",
       "94           5.6         2.7          4.2         1.3\n",
       "126          6.2         2.8          4.8         1.8\n",
       "16           5.4         3.9          1.3         0.4\n",
       "8            4.4         2.9          1.4         0.2\n",
       "..           ...         ...          ...         ...\n",
       "79           5.7         2.6          3.5         1.0\n",
       "113          5.7         2.5          5.0         2.0\n",
       "110          6.5         3.2          5.1         2.0\n",
       "9            4.9         3.1          1.5         0.1\n",
       "7            5.0         3.4          1.5         0.2\n",
       "\n",
       "[112 rows x 4 columns]"
      ]
     },
     "execution_count": 137,
     "metadata": {},
     "output_type": "execute_result"
    }
   ],
   "source": [
    "train_input"
   ]
  },
  {
   "cell_type": "code",
   "execution_count": 138,
   "metadata": {},
   "outputs": [
    {
     "name": "stdout",
     "output_type": "stream",
     "text": [
      "정답률 :  0.9473684210526315\n"
     ]
    }
   ],
   "source": [
    "# 2. 데이터 학습시키기 - 모델 선정 후 데이터훈련\n",
    "clf = svm.SVC()\n",
    "# 데이터 훈련\n",
    "clf.fit(train_input,train_target)\n",
    "\n",
    "# 3. 데이터예측하기\n",
    "result = clf.predict(test_input)\n",
    "\n",
    "# 4. 정답률 구하기\n",
    "# score = metrics.accuracy_score(test_target,result)\n",
    "score = clf.score(test_input,test_target)\n",
    "print('정답률 : ',score)\n"
   ]
  },
  {
   "cell_type": "code",
   "execution_count": 141,
   "metadata": {},
   "outputs": [
    {
     "name": "stderr",
     "output_type": "stream",
     "text": [
      "/opt/homebrew/lib/python3.12/site-packages/sklearn/base.py:493: UserWarning: X does not have valid feature names, but SVC was fitted with feature names\n",
      "  warnings.warn(\n"
     ]
    },
    {
     "name": "stdout",
     "output_type": "stream",
     "text": [
      "정답률 :  ['Iris-setosa']\n"
     ]
    },
    {
     "name": "stderr",
     "output_type": "stream",
     "text": [
      "/opt/homebrew/lib/python3.12/site-packages/sklearn/base.py:493: UserWarning: X does not have valid feature names, but SVC was fitted with feature names\n",
      "  warnings.warn(\n"
     ]
    },
    {
     "name": "stdout",
     "output_type": "stream",
     "text": [
      "정답률 :  ['Iris-versicolor']\n"
     ]
    }
   ],
   "source": [
    "# 데이터를 넣었을 때 무슨 품종인지 출력하시오.\n",
    "# 4.9 2.9 1.4 0.2 -> Iris-setosa\n",
    "# 5.6 3 4.1 1.2 -> Iris-versicolor\n",
    "# 6.5 2.8 6.7 2.2 -> Iris-virginica\n",
    "while True:\n",
    "    SepalLength = float(input('SepalLength?(-1. 종료) : '))\n",
    "    if SepalLength == -1:\n",
    "        break\n",
    "    SepalWidth = float(input('SepalWidth? : '))\n",
    "    PetalLength = float(input('PetalLength? : '))\n",
    "    PetalWidth = float(input('PetalWidth? : '))\n",
    "\n",
    "    sample_data = [SepalLength,SepalWidth,PetalLength,PetalWidth]\n",
    "\n",
    "    pre = clf.predict([sample_data])\n",
    "    print('정답률 : ', pre)"
   ]
  },
  {
   "cell_type": "code",
   "execution_count": null,
   "metadata": {},
   "outputs": [],
   "source": []
  }
 ],
 "metadata": {
  "kernelspec": {
   "display_name": "Python 3",
   "language": "python",
   "name": "python3"
  },
  "language_info": {
   "codemirror_mode": {
    "name": "ipython",
    "version": 3
   },
   "file_extension": ".py",
   "mimetype": "text/x-python",
   "name": "python",
   "nbconvert_exporter": "python",
   "pygments_lexer": "ipython3",
   "version": "3.12.3"
  }
 },
 "nbformat": 4,
 "nbformat_minor": 2
}
