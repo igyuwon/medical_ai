{
 "cells": [
  {
   "cell_type": "code",
   "execution_count": 327,
   "metadata": {},
   "outputs": [],
   "source": [
    "# from sklearn import svm,metrics\n",
    "# from sklearn.neighbors import KNeighborsClassifier # 분류\n",
    "# from sklearn.neighbors import KNeighborsRegressor  # 회귀-예측\n",
    "from sklearn.linear_model import LinearRegression  # 선형회귀\n",
    "from sklearn.preprocessing import PolynomialFeatures # 다항특성을 만들어주는 라이브러리\n",
    "from sklearn.model_selection import train_test_split\n",
    "import pandas as pd\n",
    "import numpy as np\n",
    "import random\n",
    "import matplotlib.pyplot as plt\n",
    "import matplotlib\n",
    "matplotlib.rcParams['axes.unicode_minus'] = False  # 마이너스 표시 해결\n",
    "# 한글설정\n",
    "matplotlib.rcParams['font.family'] = 'AppleGothic' # Mac사용자\n",
    "matplotlib.rcParams['font.size'] = '10' # 글자크기"
   ]
  },
  {
   "cell_type": "code",
   "execution_count": 328,
   "metadata": {},
   "outputs": [
    {
     "name": "stdout",
     "output_type": "stream",
     "text": [
      "[('아버지', 'Noun'), ('가방', 'Noun'), ('에', 'Josa'), ('들어가신다', 'Verb'), ('.', 'Punctuation')]\n"
     ]
    }
   ],
   "source": [
    "from konlpy.tag import Okt\n",
    "\n",
    "okt = Okt()\n",
    "m_list = okt.pos('아버지 가방에 들어가신다.')\n",
    "print(m_list)"
   ]
  },
  {
   "cell_type": "code",
   "execution_count": 329,
   "metadata": {},
   "outputs": [],
   "source": [
    "# pos - 말뭉치, 품사 튜플형태로 전달\n",
    "# morphs - 모든 형태소단위로 분리(말뭉치, 어간 추출)\n",
    "# nouns - 명사 추출\n"
   ]
  },
  {
   "cell_type": "code",
   "execution_count": 330,
   "metadata": {},
   "outputs": [
    {
     "name": "stdout",
     "output_type": "stream",
     "text": [
      "[('한글', 'Noun'), ('자연어', 'Noun'), ('처리', 'Noun'), ('는', 'Josa'), ('재밌다', 'Adjective'), ('이제', 'Noun'), ('부터', 'Josa'), ('열심히', 'Adverb'), ('하다', 'Verb'), ('ㅎㅎㅎ', 'KoreanParticle')]\n"
     ]
    }
   ],
   "source": [
    "m_list = okt.pos('한글 자연어 처리는 재밌다 이제부터 열심히 해야지 ㅎㅎㅎ',\n",
    "                 stem=True)\n",
    "print(m_list)"
   ]
  },
  {
   "cell_type": "code",
   "execution_count": 331,
   "metadata": {},
   "outputs": [
    {
     "name": "stdout",
     "output_type": "stream",
     "text": [
      "['한글', '자연어', '처리', '는', '재밌다', '이제', '부터', '열심히', '하다', 'ㅎㅎㅎ']\n"
     ]
    }
   ],
   "source": [
    "m_list = okt.morphs('한글 자연어 처리는 재밌다 이제부터 열심히 해야지 ㅎㅎㅎ',\n",
    "                 stem=True) # stem : 해야지 -> 하다, 들어가신다 -> 들어가다 로 바꿔줌(동사의 어간 추출)\n",
    "print(m_list)"
   ]
  },
  {
   "cell_type": "code",
   "execution_count": 332,
   "metadata": {},
   "outputs": [
    {
     "name": "stdout",
     "output_type": "stream",
     "text": [
      "['한글', '자연어', '처리', '이제']\n"
     ]
    }
   ],
   "source": [
    "m_list = okt.nouns('한글 자연어 처리는 재밌다 이제부터 열심히 해야지 ㅎㅎㅎ')\n",
    "print(m_list)"
   ]
  },
  {
   "cell_type": "code",
   "execution_count": 333,
   "metadata": {},
   "outputs": [
    {
     "data": {
      "text/html": [
       "<div>\n",
       "<style scoped>\n",
       "    .dataframe tbody tr th:only-of-type {\n",
       "        vertical-align: middle;\n",
       "    }\n",
       "\n",
       "    .dataframe tbody tr th {\n",
       "        vertical-align: top;\n",
       "    }\n",
       "\n",
       "    .dataframe thead th {\n",
       "        text-align: right;\n",
       "    }\n",
       "</style>\n",
       "<table border=\"1\" class=\"dataframe\">\n",
       "  <thead>\n",
       "    <tr style=\"text-align: right;\">\n",
       "      <th></th>\n",
       "      <th>score</th>\n",
       "      <th>review</th>\n",
       "      <th>y</th>\n",
       "    </tr>\n",
       "  </thead>\n",
       "  <tbody>\n",
       "    <tr>\n",
       "      <th>0</th>\n",
       "      <td>5</td>\n",
       "      <td>新鮮でおいしいです。너무 맛있어요</td>\n",
       "      <td>1</td>\n",
       "    </tr>\n",
       "    <tr>\n",
       "      <th>1</th>\n",
       "      <td>4</td>\n",
       "      <td>녹는다 녹아</td>\n",
       "      <td>1</td>\n",
       "    </tr>\n",
       "    <tr>\n",
       "      <th>2</th>\n",
       "      <td>4</td>\n",
       "      <td>좋아요</td>\n",
       "      <td>1</td>\n",
       "    </tr>\n",
       "    <tr>\n",
       "      <th>3</th>\n",
       "      <td>5</td>\n",
       "      <td>흠잡을곳 없는 반찬이 정갈합니다</td>\n",
       "      <td>1</td>\n",
       "    </tr>\n",
       "    <tr>\n",
       "      <th>4</th>\n",
       "      <td>5</td>\n",
       "      <td>코로나 땜에 걱정했는데 방역수칙도 잘 지키시고 살치실이랑 등심 부드러워서 너무 좋아...</td>\n",
       "      <td>1</td>\n",
       "    </tr>\n",
       "    <tr>\n",
       "      <th>...</th>\n",
       "      <td>...</td>\n",
       "      <td>...</td>\n",
       "      <td>...</td>\n",
       "    </tr>\n",
       "    <tr>\n",
       "      <th>367</th>\n",
       "      <td>1</td>\n",
       "      <td>핵노맛 식당 분위기가 1점</td>\n",
       "      <td>0</td>\n",
       "    </tr>\n",
       "    <tr>\n",
       "      <th>368</th>\n",
       "      <td>5</td>\n",
       "      <td>깔끔친절죤맛</td>\n",
       "      <td>1</td>\n",
       "    </tr>\n",
       "    <tr>\n",
       "      <th>369</th>\n",
       "      <td>5</td>\n",
       "      <td>주말엔 점심특선 안 됨ㅠ 안 바쁠 때 가서 그런지 하나하나 잘 구워주시고 육즙 굿 ...</td>\n",
       "      <td>1</td>\n",
       "    </tr>\n",
       "    <tr>\n",
       "      <th>370</th>\n",
       "      <td>5</td>\n",
       "      <td>맛있고 직원분들이 친절해서 좋아요. 가성비도 좋음. 생각보다 고기가 많이서 한꺼번에...</td>\n",
       "      <td>1</td>\n",
       "    </tr>\n",
       "    <tr>\n",
       "      <th>371</th>\n",
       "      <td>5</td>\n",
       "      <td>새로 생겨서 정말 깨끗한 인테리어, 마감시간에 지켜봤는데 다 깨끗이 청소하길래 신뢰...</td>\n",
       "      <td>1</td>\n",
       "    </tr>\n",
       "  </tbody>\n",
       "</table>\n",
       "<p>372 rows × 3 columns</p>\n",
       "</div>"
      ],
      "text/plain": [
       "     score                                             review  y\n",
       "0        5                                  新鮮でおいしいです。너무 맛있어요  1\n",
       "1        4                                             녹는다 녹아  1\n",
       "2        4                                                좋아요  1\n",
       "3        5                                 흠잡을곳 없는 반찬이 정갈합니다   1\n",
       "4        5  코로나 땜에 걱정했는데 방역수칙도 잘 지키시고 살치실이랑 등심 부드러워서 너무 좋아...  1\n",
       "..     ...                                                ... ..\n",
       "367      1                                     핵노맛 식당 분위기가 1점  0\n",
       "368      5                                             깔끔친절죤맛  1\n",
       "369      5  주말엔 점심특선 안 됨ㅠ 안 바쁠 때 가서 그런지 하나하나 잘 구워주시고 육즙 굿 ...  1\n",
       "370      5  맛있고 직원분들이 친절해서 좋아요. 가성비도 좋음. 생각보다 고기가 많이서 한꺼번에...  1\n",
       "371      5  새로 생겨서 정말 깨끗한 인테리어, 마감시간에 지켜봤는데 다 깨끗이 청소하길래 신뢰...  1\n",
       "\n",
       "[372 rows x 3 columns]"
      ]
     },
     "execution_count": 333,
     "metadata": {},
     "output_type": "execute_result"
    }
   ],
   "source": [
    "df = pd.read_csv('review_data.csv')\n",
    "df"
   ]
  },
  {
   "cell_type": "code",
   "execution_count": 334,
   "metadata": {},
   "outputs": [
    {
     "name": "stdout",
     "output_type": "stream",
     "text": [
      "<class 'pandas.core.frame.DataFrame'>\n",
      "RangeIndex: 372 entries, 0 to 371\n",
      "Data columns (total 3 columns):\n",
      " #   Column  Non-Null Count  Dtype \n",
      "---  ------  --------------  ----- \n",
      " 0   score   372 non-null    int64 \n",
      " 1   review  372 non-null    object\n",
      " 2   y       372 non-null    int64 \n",
      "dtypes: int64(2), object(1)\n",
      "memory usage: 8.8+ KB\n"
     ]
    }
   ],
   "source": [
    "# 데이터 확인\n",
    "df.info()"
   ]
  },
  {
   "cell_type": "code",
   "execution_count": 335,
   "metadata": {},
   "outputs": [
    {
     "data": {
      "text/plain": [
       "y\n",
       "1    222\n",
       "0    150\n",
       "Name: count, dtype: int64"
      ]
     },
     "execution_count": 335,
     "metadata": {},
     "output_type": "execute_result"
    }
   ],
   "source": [
    "# 0 부정 1 긍정\n",
    "df['y'].value_counts()"
   ]
  },
  {
   "cell_type": "code",
   "execution_count": 336,
   "metadata": {},
   "outputs": [
    {
     "data": {
      "text/html": [
       "<div>\n",
       "<style scoped>\n",
       "    .dataframe tbody tr th:only-of-type {\n",
       "        vertical-align: middle;\n",
       "    }\n",
       "\n",
       "    .dataframe tbody tr th {\n",
       "        vertical-align: top;\n",
       "    }\n",
       "\n",
       "    .dataframe thead th {\n",
       "        text-align: right;\n",
       "    }\n",
       "</style>\n",
       "<table border=\"1\" class=\"dataframe\">\n",
       "  <thead>\n",
       "    <tr style=\"text-align: right;\">\n",
       "      <th></th>\n",
       "      <th>score</th>\n",
       "      <th>review</th>\n",
       "      <th>y</th>\n",
       "    </tr>\n",
       "  </thead>\n",
       "  <tbody>\n",
       "    <tr>\n",
       "      <th>0</th>\n",
       "      <td>5</td>\n",
       "      <td>新鮮でおいしいです。너무 맛있어요</td>\n",
       "      <td>1</td>\n",
       "    </tr>\n",
       "    <tr>\n",
       "      <th>1</th>\n",
       "      <td>4</td>\n",
       "      <td>녹는다 녹아</td>\n",
       "      <td>1</td>\n",
       "    </tr>\n",
       "    <tr>\n",
       "      <th>2</th>\n",
       "      <td>4</td>\n",
       "      <td>좋아요</td>\n",
       "      <td>1</td>\n",
       "    </tr>\n",
       "    <tr>\n",
       "      <th>3</th>\n",
       "      <td>5</td>\n",
       "      <td>흠잡을곳 없는 반찬이 정갈합니다</td>\n",
       "      <td>1</td>\n",
       "    </tr>\n",
       "    <tr>\n",
       "      <th>4</th>\n",
       "      <td>5</td>\n",
       "      <td>코로나 땜에 걱정했는데 방역수칙도 잘 지키시고 살치실이랑 등심 부드러워서 너무 좋아...</td>\n",
       "      <td>1</td>\n",
       "    </tr>\n",
       "  </tbody>\n",
       "</table>\n",
       "</div>"
      ],
      "text/plain": [
       "   score                                             review  y\n",
       "0      5                                  新鮮でおいしいです。너무 맛있어요  1\n",
       "1      4                                             녹는다 녹아  1\n",
       "2      4                                                좋아요  1\n",
       "3      5                                 흠잡을곳 없는 반찬이 정갈합니다   1\n",
       "4      5  코로나 땜에 걱정했는데 방역수칙도 잘 지키시고 살치실이랑 등심 부드러워서 너무 좋아...  1"
      ]
     },
     "execution_count": 336,
     "metadata": {},
     "output_type": "execute_result"
    }
   ],
   "source": [
    "df.head()"
   ]
  },
  {
   "cell_type": "code",
   "execution_count": 337,
   "metadata": {},
   "outputs": [],
   "source": [
    "import re\n",
    "\n",
    "# 빈공백, 한글을 제외하고 모든 문자는 제거\n",
    "# 문자열을 정리\n",
    "def text_cleaning(text):\n",
    "    hangul = re.compile('[^ ㄱ-ㅎ가-힣]') # 빈공백, 한글 반대 인것 선택\n",
    "    result = hangul.sub('',text)\n",
    "    return result"
   ]
  },
  {
   "cell_type": "code",
   "execution_count": 338,
   "metadata": {},
   "outputs": [],
   "source": [
    "# df.columns"
   ]
  },
  {
   "cell_type": "code",
   "execution_count": 339,
   "metadata": {},
   "outputs": [
    {
     "data": {
      "text/plain": [
       "(372, 4)"
      ]
     },
     "execution_count": 339,
     "metadata": {},
     "output_type": "execute_result"
    }
   ],
   "source": [
    "df['ko_text'] = df['review'].apply(lambda x: text_cleaning(x))\n",
    "df['ko_text']\n",
    "\n",
    "# 한글자 이상의 텍스트를 가지고 데이터 추출\n",
    "df = df[df['ko_text'].str.len()>0]\n",
    "df.shape"
   ]
  },
  {
   "cell_type": "code",
   "execution_count": 340,
   "metadata": {},
   "outputs": [],
   "source": [
    "# 형태소 단위 추출\n",
    "from konlpy.tag import Okt\n",
    "\n",
    "# 형태소 분석 함수 생성\n",
    "def get_pos(x):\n",
    "    tagger = Okt()\n",
    "    pos = tagger.pos(x) # (단어, 품사) 튜플\n",
    "    pos = [ '{}/{}'.format(word,tag) for word,tag in pos] # pos 튜플형태(단어, 품사)\n",
    "    return pos"
   ]
  },
  {
   "cell_type": "code",
   "execution_count": 341,
   "metadata": {},
   "outputs": [
    {
     "data": {
      "text/plain": [
       "['너무/Adverb', '맛있어요/Adjective']"
      ]
     },
     "execution_count": 341,
     "metadata": {},
     "output_type": "execute_result"
    }
   ],
   "source": [
    "# 형태소 추출 테스트\n",
    "result = get_pos(df['ko_text'].values[0])\n",
    "result"
   ]
  },
  {
   "cell_type": "code",
   "execution_count": 342,
   "metadata": {},
   "outputs": [
    {
     "name": "stderr",
     "output_type": "stream",
     "text": [
      "/opt/homebrew/lib/python3.12/site-packages/sklearn/feature_extraction/text.py:523: UserWarning: The parameter 'token_pattern' will not be used since 'tokenizer' is not None'\n",
      "  warnings.warn(\n"
     ]
    }
   ],
   "source": [
    "# CountVectorizer : 전체단어에서 각단어에 번호를 부여\n",
    "from sklearn.feature_extraction.text import CountVectorizer\n",
    "\n",
    "index_vectorizer = CountVectorizer(tokenizer=lambda x: get_pos(x))\n",
    "X = index_vectorizer.fit_transform(df['ko_text'].to_list())"
   ]
  },
  {
   "cell_type": "code",
   "execution_count": 343,
   "metadata": {},
   "outputs": [
    {
     "data": {
      "text/plain": [
       "(372, 2343)"
      ]
     },
     "execution_count": 343,
     "metadata": {},
     "output_type": "execute_result"
    }
   ],
   "source": [
    "# 형태소 분석이 된 단어 총 개수 - 2343개\n",
    "X.shape"
   ]
  },
  {
   "cell_type": "code",
   "execution_count": 344,
   "metadata": {},
   "outputs": [
    {
     "name": "stdout",
     "output_type": "stream",
     "text": [
      "['ㄴ/KoreanParticle', 'ㄷㄷㄷ/KoreanParticle', 'ㄹㅇ/KoreanParticle', 'ㅂㅂ/KoreanParticle', 'ㅅ/KoreanParticle', 'ㅇㅇ/KoreanParticle', 'ㅈㄴ/KoreanParticle', 'ㅈㅁㅌㅌㄱㄹ/KoreanParticle', 'ㅋ/KoreanParticle', 'ㅋㅋ/KoreanParticle', 'ㅋㅋㅋ/KoreanParticle', 'ㅋㅋㅋㅋ/KoreanParticle', 'ㅋㅋㅋㅋㅋ/KoreanParticle', 'ㅎ/KoreanParticle', 'ㅎㅎ/KoreanParticle', 'ㅎㅎㅎ/KoreanParticle', 'ㅎㅎㅎㅎ/KoreanParticle', '가/Josa', '가/Verb', '가게/Noun', '가격/Noun', '가고/Verb', '가고싶지/Verb', '가급적/Adverb', '가기/Noun', '가까/Adjective', '가까히/Adjective', '가나/Noun', '가네요/Verb', '가는/Verb', '가는게/Verb', '가능/Noun', '가능하고/Adjective', '가득/Noun', '가득가득/Adverb', '가득해서/Adjective', '가려고요/Verb', '가려는데/Verb', '가맹/Noun', '가면/Noun', '가본/Verb', '가서/Verb', '가성/Noun', '가세/Noun', '가스/Noun', '가슴/Noun', '가시길/Verb', '가시는거라면/Verb', '가시던데/Verb', '가심/Verb', '가장/Noun', '가정/Noun', '가져가/Verb', '가져다/Verb', '가져다가/Verb', '가져다줄/Verb', '가족/Noun', '가지/Noun', '가진/Verb', '각/Noun', '간/Noun', '간/Suffix', '간곳/Noun', '간다/Noun', '간단하게/Adjective', '간하면/Verb', '갈/Verb', '갈릴/Noun', '갈만/Verb', '갈비/Noun', '감/Noun', '감각/Noun', '감도/Verb', '감사한다/Verb', '감사합니다/Verb', '감사합니당/Verb', '감안/Noun', '감자/Noun', '감자전/Noun', '감탄/Noun', '갑/Noun', '갑니다/Verb', '값/Noun', '갓/Noun', '갔는데/Verb', '갔는데도/Verb', '갔다가/Verb', '갔던/Verb', '갔을/Verb', '강/Noun', '강남/Noun', '강남역/Noun', '강추/Noun', '강츄/Noun', '강했고/Adjective', '같고/Adjective', '같긔/Noun', '같네요/Adjective', '같다/Adjective', '같습니다/Adjective', '같아/Adjective', '같아요/Adjective', '같았음/Adjective', '같으니/Adjective', '같으면/Adjective', '같은/Adjective', '같은게/Adjective', '같은데/Adjective', '같음/Adjective', '같이/Adverb', '개/Noun', '개/Suffix', '개개/Noun', '개도/Noun', '개인/Noun', '개존맛/Noun', '개지/Noun', '갠/Noun', '갱신/Noun', '걍/Adverb', '걍개마싯윰/Noun', '거/Noun', '거기/Noun', '거래처/Noun', '거리/Noun', '거림/Noun', '거의/Noun', '거짓/Noun', '거짓말/Noun', '거치곤/Verb', '거품/Noun', '걱정/Noun', '건/Noun', '건가/Noun', '건지/Verb', '걸/Noun', '걸린/Verb', '검색/Noun', '검정색/Noun', '겁나/Verb', '것/Noun', '게/Josa', '게/Noun', '겨/Noun', '겨진/Verb', '격/Noun', '격인/Noun', '결론/Noun', '경/Modifier', '경우/Noun', '곁들여/Verb', '계란찜/Noun', '계산/Noun', '계속/Noun', '계신/Adjective', '고/Josa', '고/Modifier', '고/Noun', '고급/Noun', '고기/Noun', '고기만/Noun', '고깃집/Noun', '고량주/Noun', '고르도록/Verb', '고를줄/Verb', '고무/Noun', '고사리/Noun', '고생/Noun', '고소하고/Adjective', '고소하니/Adjective', '고소해요/Adjective', '고요/Noun', '고유/Noun', '고의/Noun', '고함/Noun', '곱/Noun', '곱창/Noun', '곱창전골/Noun', '곳/Noun', '공간/Noun', '공기/Noun', '곸/Noun', '과/Josa', '관리/Noun', '광양/Noun', '괜찮네요/Adjective', '괜찮다고/Adjective', '괜찮아요/Adjective', '괜찮았습니다/Adjective', '괜찮았어요/Adjective', '괜찮은/Adjective', '괜찮을것/Adjective', '괜찮을듯/Adjective', '괜찮음/Adjective', '굉장히/Adjective', '교대/Noun', '교육/Noun', '구/Modifier', '구/Noun', '구나/Noun', '구려/Noun', '구분/Noun', '구석/Noun', '구성/Noun', '구어주는데/Adjective', '구울/Noun', '구워/Verb', '구워서/Verb', '구워져서/Verb', '구워주고/Verb', '구워주는/Verb', '구워주는것도/Verb', '구워주니까/Verb', '구워주러/Verb', '구워주셔서/Verb', '구워주셨어요/Verb', '구워주시고/Verb', '구워주시는/Verb', '구워줘서/Verb', '구워지는/Verb', '구웠던/Verb', '구웠어요/Verb', '구으세요/Verb', '구이/Noun', '구조/Noun', '구조도/Noun', '국/Noun', '국물/Noun', '국자/Noun', '군대/Noun', '굳/Adjective', '굳이/Noun', '굽/Noun', '굽네요/Verb', '굽네치킨/Noun', '굽느라/Verb', '굽는/Verb', '굿/Noun', '굿굿/Noun', '굿굿굿/Noun', '궁금하네요/Adjective', '귀찮다는/Adjective', '귀하게/Adjective', '그/Determiner', '그/Noun', '그거/Noun', '그걸/Adverb', '그게/Noun', '그나마/Adverb', '그냥/Noun', '그다지/Noun', '그닥/Noun', '그닥또/Noun', '그때/Noun', '그래도/Adjective', '그래도/Adverb', '그래서/Adverb', '그램/Noun', '그랬어요/Adjective', '그러/Adjective', '그러나/Conjunction', '그러시네요/Adjective', '그런/Adjective', '그런거/Adjective', '그런건/Adjective', '그런게/Adjective', '그런데/Conjunction', '그런지/Adjective', '그럴지도/Adjective', '그럼/Adjective', '그렇게/Adverb', '그렇지만/Conjunction', '그리고/Conjunction', '그야말로/Adverb', '그치만/Verb', '극복/Noun', '극찬/Noun', '근데/Adverb', '글/Noun', '글구/Noun', '글쎄/Noun', '금구/Noun', '금액/Noun', '급하게/Adjective', '기/Modifier', '기/Noun', '기고/Noun', '기다려서/Verb', '기다려야하는지/Verb', '기다리라는/Verb', '기다릴/Verb', '기대도/Verb', '기대하고/Adjective', '기대하는/Adjective', '기대한만큼/Adjective', '기도/Noun', '기름/Noun', '기름기/Noun', '기만/Noun', '기복/Noun', '기본/Noun', '기분/Noun', '기억/Noun', '기와/Noun', '기존/Noun', '기준/Noun', '기질/Noun', '긴/Verb', '긴한데/Verb', '길었지만/Adjective', '김희/Noun', '깊은/Adjective', '까요/Verb', '까지/Josa', '까지만/Josa', '까지와/Josa', '까진/Josa', '깍두기/Noun', '깔끔친절죤맛/Noun', '깔끔하게/Adjective', '깔끔하고/Adjective', '깔끔한/Adjective', '깔끔해서/Adjective', '깔끔해요/Adjective', '깔려있음/Verb', '깜놀/Noun', '깜짝/Noun', '깨끗이/Adverb', '깨끗하게/Adjective', '깨끗하고/Adjective', '깨끗한/Adjective', '깻잎/Noun', '껄/Noun', '껍데기/Noun', '껴요/Verb', '꼈어요/Verb', '꼬숩/Noun', '꼭/Noun', '꼽힘/Verb', '꽃/Noun', '꽤/Noun', '꾸역꾸역/Adverb', '꿈틀/Noun', '끝/Noun', '끝내줌/Adjective', '끼/Noun', '끼리/Noun', '나/Josa', '나/Noun', '나가기/Verb', '나가는/Verb', '나가는줄/Verb', '나가셨습니다/Verb', '나갈/Verb', '나고/Verb', '나는줄/Verb', '나름/Noun', '나무/Noun', '나물/Noun', '나빴는데/Adjective', '나쁘게/Adjective', '나쁘지/Adjective', '나쁘진/Adjective', '나서/Verb', '나오고/Verb', '나오기/Verb', '나오는/Verb', '나오다/Verb', '나오면서도/Verb', '나온/Verb', '나온다/Verb', '나와서/Verb', '나왔네요/Verb', '나왔는데/Verb', '나은듯/Verb', '나이/Noun', '나중/Noun', '난/Josa', '난/Noun', '날/Noun', '날수/Noun', '남/Noun', '남겨주세요/Verb', '남깁니다/Verb', '남녀/Noun', '남도/Noun', '남아있는/Verb', '남이섬/Noun', '남자/Noun', '낫다/Noun', '났는지/Verb', '났습니다/Verb', '났어요/Verb', '낮/Noun', '내/Determiner', '내/Noun', '내고/Verb', '내려가지를/Verb', '내려서/Verb', '내부/Noun', '내서/Verb', '냄비/Noun', '냄새/Noun', '냅고/Verb', '냅킨/Noun', '냈는데/Verb', '냉동/Noun', '냉면/Noun', '냉삼/Noun', '냠냠/Adverb', '너/Modifier', '너무/Adverb', '너무나/Adverb', '넓고/Adjective', '넓은/Adjective', '넘/Verb', '넘게/Verb', '넘마/Verb', '넘어가는데/Verb', '넘었음/Verb', '넘흐/Noun', '넣어서/Verb', '네/Noun', '네/Suffix', '네이버/Noun', '녀/Noun', '년대/Noun', '노/Noun', '노른자/Noun', '노소/Noun', '녹는다/Verb', '녹아/Verb', '녹아요/Verb', '놀라실/Verb', '놀라웠고/Adjective', '놀람/Noun', '놀랐던/Verb', '놀랬으면/Adjective', '높아서/Adjective', '높은/Adjective', '놓고/Verb', '놓여있어서/Verb', '누/Noun', '누가/Noun', '누구/Noun', '누렇데/Noun', '누룽지/Noun', '눈/Noun', '눌러도/Verb', '느끼고/Verb', '느끼하고/Adjective', '느끼한/Adjective', '느낄/Verb', '느낌/Noun', '는/Josa', '는데/Eomi', '는커녕/Josa', '늘/Noun', '능력/Noun', '늦게/Verb', '늦은/Verb', '니/Josa', '니글거렸음/Noun', '니까/Josa', '니당/Verb', '님/Suffix', '다/Adverb', '다/Josa', '다기/Noun', '다녀왔는데/Verb', '다닥다닥/Adverb', '다르게/Adjective', '다른/Modifier', '다른/Noun', '다른거/Adjective', '다만/Noun', '다소/Noun', '다시/Noun', '다시는/Verb', '다신/Verb', '다양/Noun', '다음/Noun', '다쳐도/Verb', '닥/Noun', '닦아/Verb', '닦아내고/Verb', '닦았습니다/Verb', '단/Noun', '단골/Noun', '단말/Noun', '단점/Noun', '단체/Noun', '달/Noun', '달기/Noun', '달달/Noun', '달라/Noun', '닭/Noun', '닭갈비/Noun', '닭고기/Noun', '닭도리탕/Noun', '닭볶음탕/Noun', '답변/Noun', '당/Modifier', '당연하고/Adjective', '당연하다는듯이/Adjective', '당일/Noun', '당하기/Adjective', '당하다가/Adjective', '당해서/Adjective', '당황/Noun', '닿는/Verb', '대/Modifier', '대/Suffix', '대가/Noun', '대기/Noun', '대박/Noun', '대박나세용/Verb', '대비/Noun', '대신/Noun', '대의/Noun', '대접/Noun', '대창/Noun', '대충/Noun', '대충대충/Adverb', '대패/Noun', '대해/Noun', '대화/Noun', '댓글/Noun', '댓글단/Verb', '더/Noun', '더니/Noun', '더욱/Noun', '더운데/Adjective', '더움/Noun', '더워요/Adjective', '덕분/Noun', '던지시더라구요/Verb', '덜/Noun', '덤/Noun', '덥다/Adjective', '덩어리/Noun', '데/Noun', '데려간/Verb', '데이트/Noun', '도/Josa', '도/Noun', '도대체/Noun', '도리/Noun', '도와주시고/Verb', '도해/Noun', '돈/Noun', '돈가스/Noun', '돈까스/Noun', '돌아다면서/Verb', '돌아서/Verb', '돌아오는/Verb', '동기/Noun', '동네/Noun', '동료/Noun', '돼있도/Verb', '돼지/Noun', '돼지고기/Noun', '됐네요/Verb', '되/Verb', '되고/Verb', '되는데/Verb', '되어/Verb', '되요/Verb', '된/Adjective', '된것/Verb', '된다고/Verb', '된장/Noun', '된장찌개/Noun', '될듯/Verb', '됨/Verb', '됩니다/Verb', '두/Determiner', '두/Josa', '두고/Verb', '두기/Noun', '두꺼운/Adjective', '두꺼운듯/Adjective', '두껍/Adjective', '두번째/Noun', '두툼/Noun', '둘이가면/Verb', '둘째/Noun', '둠/Verb', '둠을/Verb', '뒤/Noun', '뒤집어주시는데/Verb', '뒤집으면/Verb', '뒷골목/Noun', '드/Noun', '드는/Verb', '드럽게/Adjective', '드릴/Noun', '드립니다/Verb', '드세요/Verb', '드세용/Verb', '드셔/Verb', '드시는/Verb', '든든했어요/Adjective', '든든히/Adjective', '들/Suffix', '들/Verb', '들께는/Verb', '들어/Verb', '들어가구/Verb', '들어가는/Verb', '들어가는데/Verb', '들어가서/Verb', '들어가자마자/Verb', '들어간/Verb', '들어간거라고/Verb', '들어갔다가/Verb', '들어올/Verb', '들어와/Verb', '들어왔는데/Verb', '들었습니다/Verb', '들으시곤/Verb', '듦/Verb', '듬/Noun', '듯/Noun', '등/Noun', '등심/Noun', '디너/Noun', '디저트/Noun', '따라/Verb', '따먹었습니다/Verb', '따져도/Verb', '딱/Adverb', '딱딱하고/Adjective', '딱이였는지/Adjective', '딱히/Adjective', '딴데가세요/Verb', '땀안/Verb', '땅/Noun', '땅코/Noun', '때/Noun', '때문/Noun', '땐/Noun', '땜/Noun', '떠난다/Verb', '떠오르더라구요/Verb', '떠주는데/Verb', '떡/Noun', '떡볶이/Noun', '떨어졌네요/Verb', '떨어질/Verb', '떼기/Verb', '떼는거/Verb', '또/Noun', '또한/Noun', '똥/Noun', '라/Josa', '라고/Josa', '라는/Josa', '라니/Josa', '라도/Josa', '라면/Noun', '라서/Josa', '랑/Josa', '런/Noun', '런가/Noun', '려고/Noun', '로/Josa', '로는/Josa', '루/Noun', '룸/Noun', '류/Noun', '를/Josa', '리뷰/Noun', '리알/Noun', '마감/Noun', '마늘/Noun', '마다/Josa', '마리/Noun', '마세요/Verb', '마셔/Verb', '마셨나/Verb', '마스크/Noun', '마시고/Verb', '마시면서/Verb', '마실/Verb', '마음/Noun', '마인드/Noun', '마지막/Noun', '마찬가지/Noun', '마치/Noun', '마포/Noun', '막국수/Noun', '막창/Noun', '만/Josa', '만/Modifier', '만/Noun', '만든게/Verb', '만들수있는/Verb', '만들어주셔서/Verb', '만원/Noun', '만족/Noun', '만족스럽습니다/Adjective', '만족하셨어요/Adjective', '만족해서/Adjective', '만족했어요/Adjective', '만지고있지/Verb', '만큼/Noun', '많고/Adjective', '많기/Adjective', '많다/Adjective', '많아서/Adjective', '많아요/Adjective', '많은/Adjective', '많음/Adjective', '많이/Adverb', '많이/Modifier', '많지만/Adjective', '말/Noun', '말고/Josa', '말씀/Noun', '맘/Noun', '맙시/Noun', '맛/Noun', '맛남/Noun', '맛맛/Noun', '맛없기/Adjective', '맛없다/Adjective', '맛없어서/Adjective', '맛없음/Adjective', '맛잇으느/Noun', '맛있/Adjective', '맛있게/Adjective', '맛있고/Adjective', '맛있고요/Adjective', '맛있기도/Adjective', '맛있긴한데/Adjective', '맛있네요/Adjective', '맛있는/Adjective', '맛있는것/Adjective', '맛있는네/Adjective', '맛있는데/Adjective', '맛있다/Adjective', '맛있다는/Adjective', '맛있단/Adjective', '맛있당/Adjective', '맛있댜/Noun', '맛있습니다/Adjective', '맛있어/Adjective', '맛있어서/Adjective', '맛있어여/Adjective', '맛있어요/Adjective', '맛있어하는/Adjective', '맛있었고/Adjective', '맛있었는데/Adjective', '맛있었다/Adjective', '맛있었습니다/Adjective', '맛있었어요/Adjective', '맛있었어용/Adjective', '맛있으니/Adjective', '맛있은데/Adjective', '맛있음/Adjective', '맛집/Noun', '망해요/Adjective', '맞게/Verb', '맞고/Verb', '맞다/Verb', '맞춰서/Verb', '맡/Verb', '매/Modifier', '매니저/Noun', '매우/Noun', '매장/Noun', '맥주/Noun', '맨/Noun', '맨손/Noun', '맴/Noun', '맵/Noun', '맵구/Verb', '머리/Noun', '먹고/Verb', '먹고가요/Verb', '먹고나니/Verb', '먹고나서/Verb', '먹고는/Verb', '먹고다/Verb', '먹고다음/Verb', '먹고싶었으나/Verb', '먹고싶을/Verb', '먹고싶진/Verb', '먹기/Noun', '먹는/Verb', '먹는것도/Verb', '먹는데/Verb', '먹는줄/Verb', '먹다/Verb', '먹다가/Verb', '먹더라도/Verb', '먹어/Verb', '먹어도/Verb', '먹어서/Verb', '먹어야/Verb', '먹어요/Verb', '먹었/Verb', '먹었네요/Verb', '먹었는데/Verb', '먹었는지/Verb', '먹었다/Verb', '먹었습니다/Verb', '먹었어요/Verb', '먹었으면/Verb', '먹었음/Verb', '먹으라는/Verb', '먹으러/Verb', '먹으며/Verb', '먹으면/Verb', '먹으면서/Verb', '먹으세요/Verb', '먹은/Verb', '먹은게/Verb', '먹을/Verb', '먹을거면/Verb', '먹을만/Verb', '먹을만한/Verb', '먹을수/Verb', '먹음/Noun', '먹음/Verb', '먹자마자/Verb', '먹죠/Verb', '먼저/Noun', '멀뚱거리/Noun', '멋진/Adjective', '메뉴/Noun', '메볼/Noun', '메인/Noun', '며/Josa', '면/Josa', '면/Noun', '명/Noun', '몇/Modifier', '몇/Noun', '몇개/Noun', '몇번/Noun', '모/Modifier', '모/Noun', '모든/Noun', '모르겠네요/Verb', '모르겠는데/Verb', '모르겠어요/Verb', '모르겠음/Verb', '모르니/Verb', '모르지만/Verb', '모시/Noun', '모시고도/Verb', '모양/Noun', '모임/Noun', '목/Noun', '목살/Noun', '몰라/Verb', '몰라서/Verb', '몰랐다고/Verb', '못/Noun', '못/VerbPrefix', '무/Noun', '무난/Noun', '무례한/Adjective', '무료/Noun', '무서워요/Adjective', '무선/Noun', '무쇠/Noun', '무슨/Modifier', '무시/Noun', '무엇/Noun', '무적/Noun', '무제한/Noun', '무조건/Noun', '무질/Noun', '무한/Noun', '무한리필/Noun', '묵묵/Noun', '묵직하고/Adjective', '묶은/Verb', '문/Noun', '문래동/Noun', '문제/Noun', '문지르더니/Verb', '묻고/Verb', '묻어/Verb', '묻었/Verb', '묻은/Verb', '묻혀서/Verb', '물/Noun', '물냉/Noun', '물론/Adverb', '물수건/Noun', '물어보니/Verb', '물어보면/Verb', '물어봤는데/Verb', '물으니/Verb', '물으면/Verb', '뭐/Noun', '뭐해/Noun', '뭔가/Noun', '뭘/Noun', '믄/Modifier', '미디움/Noun', '미리/Noun', '미식/Noun', '미안/Noun', '미안하/Adjective', '미쳤고/Adjective', '미쳤네요/Adjective', '미쳤습니다/Adjective', '미침/Adjective', '민망했어요/Adjective', '믿고/Verb', '믿기지/Verb', '밋있어/Noun', '및/Noun', '밑/Noun', '밑반찬/Noun', '바/Noun', '바꾸고/Verb', '바꿔/Verb', '바꿔주는건/Verb', '바라는게/Verb', '바빠서/Adjective', '바쁘고/Adjective', '바쁜/Adjective', '바쁠/Adjective', '바삭바삭/Adverb', '밖에/Josa', '반/Modifier', '반/Noun', '반찬/Noun', '받고/Verb', '받기/Verb', '받았습니다/Verb', '받을/Verb', '받음/Verb', '밤/Noun', '밥/Noun', '밥그릇/Noun', '밥맛/Noun', '방문/Noun', '방법/Noun', '방역/Noun', '방이/Noun', '방치/Noun', '배/Noun', '배고/Verb', '배부르게/Adjective', '배불러요/Adjective', '배식/Noun', '배신/Noun', '배아/Noun', '배치도/Noun', '배탈/Noun', '백억/Noun', '백프로/Noun', '밴다는/Verb', '뱉고싶은/Verb', '뱉다/Verb', '뱉어내고/Verb', '버너/Noun', '버려서/Verb', '버리고/Verb', '번/Noun', '벗고/Verb', '베리/Noun', '베이스/Noun', '벨/Noun', '변두리/Noun', '별/Modifier', '별/Noun', '별로/Noun', '별루/Noun', '병/Noun', '보/Noun', '보고/Noun', '보기/Noun', '보내고/Verb', '보는/Verb', '보니/Verb', '보다/Josa', '보다/Verb', '보다는/Josa', '보단/Josa', '보면/Verb', '보세요/Verb', '보셈/Verb', '보시/Noun', '보여주니/Verb', '보였네요/Verb', '보이/Noun', '보이는/Verb', '보이는데/Verb', '보일테니까/Verb', '보임/Noun', '보통/Noun', '복의/Noun', '복작복작/Adverb', '복통/Noun', '볶고/Verb', '볶음/Noun', '볶음밥/Noun', '본/Modifier', '본/Verb', '본것/Verb', '본점/Noun', '볼/Noun', '봄/Noun', '봐/Verb', '봐서/Verb', '봐주셔서/Verb', '봤는데/Verb', '봤더니/Verb', '봤더라/Verb', '부가/Noun', '부근/Noun', '부담/Noun', '부답/Adjective', '부드러움/Noun', '부드러워서/Adjective', '부드럽고/Adjective', '부른줄/Verb', '부모님/Noun', '부분/Noun', '부시/Noun', '부실하고/Adjective', '부위/Noun', '부족해/Adjective', '부족해서인지/Adjective', '부추/Noun', '부탁/Noun', '부터/Josa', '부터/Noun', '부턴/Josa', '분/Noun', '분/Suffix', '분들/Suffix', '분위기/Noun', '불/Noun', '불고기/Noun', '불러도/Verb', '불렀더니/Verb', '불로/Noun', '불리/Noun', '불만/Noun', '불모/Noun', '불문/Noun', '불안/Noun', '불친절/Noun', '불친절하고요/Adjective', '불친절하네요/Adjective', '불친절함/Adjective', '불친절합니다/Adjective', '불친절해서/Adjective', '불친절해요/Adjective', '불판/Noun', '불판앞/Noun', '불편함을/Adjective', '불편했어여/Adjective', '붙어/Verb', '붙어있는/Verb', '붙어있는데/Verb', '븐/Noun', '블로그/Noun', '비/Noun', '비갑/Noun', '비계/Noun', '비교/Noun', '비눗물/Noun', '비는/Verb', '비도/Noun', '비린내가/Adjective', '비빈/Verb', '비빔국수/Noun', '비빔냉면/Noun', '비싸다/Adjective', '비싸다으/Adjective', '비싸서/Adjective', '비싸지만/Adjective', '비싼/Adjective', '비싼데/Adjective', '비싼만큼/Adjective', '비쌀/Adjective', '비쌈/Adjective', '비었던데/Verb', '비위생적/Noun', '비주/Noun', '비추/Verb', '비해/Verb', '빗룸/Noun', '빠져나가는/Verb', '빠지/Verb', '빠지는/Verb', '빨/Noun', '빨랐고/Adjective', '빨리/Adverb', '빵빵/Noun', '빼/Noun', '빼고는/Verb', '빼곤/Verb', '뺴/Noun', '뻔/Noun', '뻔한/Adjective', '뻔함/Adjective', '뻔햇/Noun', '뿌듯한/Adjective', '뿌려져/Verb', '사갔는데/Verb', '사건/Noun', '사과/Noun', '사는/Verb', '사람/Noun', '사리/Noun', '사먹었네요/Verb', '사먹을/Verb', '사세요/Verb', '사실/Noun', '사이드/Noun', '사장/Noun', '사준다/Verb', '사진/Noun', '사회/Noun', '삭함/Noun', '산/Noun', '살/Noun', '살면서/Verb', '살이/Noun', '살이었음/Verb', '살치/Verb', '살치실이랑/Verb', '살코기/Noun', '삼/Modifier', '삼/Noun', '삼겹/Noun', '삼겹살/Noun', '삼킬수가/Verb', '상/Suffix', '상관/Noun', '상권/Noun', '상당한데/Adjective', '상당히/Adjective', '상대/Noun', '상태/Noun', '상품권/Noun', '새로/Adjective', '새로오시는/Adjective', '샌드위치/Noun', '샐러드/Noun', '생/Noun', '생각/Noun', '생각났는데/Verb', '생겨서/Verb', '생겼습니다/Verb', '생신/Noun', '생활/Noun', '서/Josa', '서/Modifier', '서/Verb', '서고/Noun', '서는/Verb', '서비스/Noun', '서빙/Noun', '서서/Noun', '서야/Verb', '서있음/Verb', '서하/Noun', '석/Noun', '선/Noun', '선사/Noun', '선호/Noun', '설렁설렁/Adverb', '설명/Noun', '설사/Noun', '섭할/Adjective', '성/Modifier', '세/Modifier', '세게/Verb', '세번/Noun', '세상/Noun', '세트/Noun', '세팅/Noun', '셀프/Noun', '셀프서비스/Noun', '셋팅/Noun', '셧/Noun', '소/Modifier', '소고기/Noun', '소로/Noun', '소스/Noun', '소주/Noun', '손/Noun', '손놈/Noun', '손님/Noun', '손질/Noun', '솔직한가/Adjective', '솔직히/Adjective', '수/Modifier', '수/Noun', '수가/Noun', '수도/Noun', '수량/Noun', '수세미/Noun', '수저/Noun', '수정/Noun', '수준/Noun', '숙성/Noun', '숟가락/Noun', '술/Noun', '술술/Noun', '술안주/Noun', '술집/Noun', '술취해/Noun', '숯/Noun', '쉽습니다/Verb', '슈도/Noun', '스러웠/Adjective', '스킬/Noun', '스타일/Noun', '스티커/Noun', '스페셜/Noun', '슬픔/Noun', '습/Noun', '시/Noun', '시간/Noun', '시국/Noun', '시끄러/Adjective', '시끄러운것/Adjective', '시끄러워서/Adjective', '시끄럽다/Adjective', '시나/Noun', '시스템/Noun', '시원해서/Adjective', '시장/Noun', '시켜/Verb', '시켰는데/Verb', '시켰더니/Verb', '시켰으면/Verb', '시키는걸/Verb', '시키셔야/Verb', '시킨것도/Verb', '시킬/Verb', '식/Noun', '식/Suffix', '식감/Noun', '식당/Noun', '식사/Noun', '식탁/Noun', '신경/Noun', '신기하게도/Adjective', '신기하다/Adjective', '신년/Noun', '신뢰/Noun', '신분/Noun', '신선한/Adjective', '신선합니다/Adjective', '신촌/Noun', '실내/Noun', '실망/Noun', '실수/Noun', '실패할까봐/Adjective', '싫으시면/Adjective', '싫은건/Adjective', '심/Noun', '심정/Noun', '심하고/Adjective', '심하세요/Adjective', '심해서/Adjective', '십사/Noun', '싱싱한/Adjective', '싶어/Verb', '싶으면/Verb', '싶을/Verb', '싶지/Verb', '싸/VerbPrefix', '싸가지/Noun', '싸게/Verb', '싸고/Verb', '싸긴/Verb', '싸서/Verb', '싹/Noun', '싹싹/Noun', '싼/Verb', '싼값/Noun', '싼데/Verb', '써/Verb', '써줌/Verb', '썰어서/Verb', '썼더니/Verb', '썼으면/Verb', '쎄게/Adjective', '쎈/Adjective', '쏘/Verb', '쓰/Verb', '쓰고/Verb', '쓰는/Verb', '쓰는게/Verb', '쓰니/Verb', '쓰시는거/Verb', '쓰이긴/Verb', '쓱/Noun', '씀/Verb', '씨끄럽다/Noun', '씩/Suffix', '씹는/Verb', '씹다/Verb', '씹히는거/Verb', '씻는거/Verb', '씻은/Verb', '아/Exclamation', '아/Josa', '아까/Adjective', '아까운/Adjective', '아까웁니/Noun', '아깝습니다/Adjective', '아니/Adjective', '아니고/Adjective', '아니고요/Adjective', '아니기에/Adjective', '아니다/Adjective', '아니라/Adjective', '아니라면서/Adjective', '아니라서/Adjective', '아니면/Adjective', '아닌/Adjective', '아닌가요/Adjective', '아닌것/Adjective', '아닌데/Adjective', '아닌지/Adjective', '아님/Adjective', '아래/Noun', '아마도/Adverb', '아무/Noun', '아무런/Adjective', '아쉬운건/Adjective', '아쉬움/Noun', '아쉬워요/Adjective', '아쉬웠습니다/Adjective', '아쉬웠어요/Adjective', '아쉬웠지만/Adjective', '아쉽네요/Adjective', '아예/Noun', '아이스크림/Noun', '아주/Noun', '아주머니/Noun', '아팠습니다/Adjective', '아픔/Noun', '안/Noun', '안/VerbPrefix', '안가요/Verb', '안감/Noun', '안경/Noun', '안끼/Noun', '안나/Noun', '안내/Noun', '안되는/Adjective', '안된다고/Adjective', '안될/Adjective', '안배/Noun', '안성맞춤/Noun', '안심/Noun', '안좋네요/Adjective', '안좋습니다/Adjective', '안좋은/Adjective', '안주/Noun', '안주시/Noun', '안타/Noun', '안퍽퍽해/Noun', '안함/Noun', '앉아도/Verb', '앉으시길래/Verb', '않고/Verb', '않나/Verb', '않나요/Verb', '않냐/Verb', '않네여/Verb', '않네요/Verb', '않는/Verb', '않습니다/Verb', '않아요/Verb', '않았다/Verb', '않았으나/Verb', '않았지만/Verb', '않은/Verb', '않은데/Verb', '않을까요/Verb', '않을듯/Verb', '않음/Verb', '않지만/Verb', '알/Noun', '알겠는데/Verb', '알려/Verb', '알려주/Verb', '알맞은/Adjective', '알바/Noun', '알바생/Noun', '알았네요/Verb', '알았는데/Verb', '알았습니다/Verb', '알았음/Verb', '알차고/Adjective', '앞/Noun', '앞치마/Noun', '애인/Noun', '애찬/Noun', '액션/Noun', '앵/Adverb', '야간/Noun', '야채/Noun', '야함/Adjective', '약/Modifier', '약간/Noun', '약해/Adjective', '얇게/Adjective', '얇고/Adjective', '얇디/Adjective', '얇아요/Adjective', '얇은/Adjective', '얇음/Adjective', '얐/Noun', '양/Modifier', '양/Noun', '양념/Noun', '양대/Modifier', '양도/Noun', '양배추/Noun', '양식/Noun', '양재/Noun', '양파/Noun', '얘기/Noun', '어/Eomi', '어/Suffix', '어깨/Noun', '어느/Modifier', '어두움/Noun', '어둡다/Adjective', '어둡다는/Adjective', '어디/Noun', '어디서/Adverb', '어딜/Adverb', '어떻게/Adjective', '어려운데/Adjective', '어머니/Noun', '어수선함/Adjective', '어어/Noun', '어이/Noun', '어제/Noun', '어쩌구/Noun', '어쩌라고/Adverb', '어쩐지/Noun', '어쩔/Adverb', '어쩔/Modifier', '어찌/Noun', '어치/Noun', '어후/Noun', '어흥/Adverb', '언능/Adverb', '언제나/Adverb', '얼/Noun', '얼마나/Noun', '엄마/Noun', '엄청/Adverb', '업음/Verb', '없게/Adjective', '없고/Adjective', '없나요/Adjective', '없냐고/Adjective', '없네요/Adjective', '없는/Adjective', '없는건/Adjective', '없는데/Adjective', '없다/Adjective', '없다고/Adjective', '없다네요/Adjective', '없다하고/Adjective', '없던/Adjective', '없습니다/Adjective', '없어서/Adjective', '없어요/Adjective', '없었/Adjective', '없었는데/Adjective', '없었다/Adjective', '없었습니다/Adjective', '없었지만/Adjective', '없을/Adjective', '없음/Adjective', '없이/Adverb', '없잖아요/Adjective', '없지/Adjective', '엉망/Noun', '에/Josa', '에가/Josa', '에는/Josa', '에도/Josa', '에바/Noun', '에서/Josa', '에서는/Josa', '에서도/Josa', '에서의/Josa', '에어컨/Noun', '에요/Josa', '엔/Josa', '엥꼬나/Noun', '여/Josa', '여/Modifier', '여기/Noun', '여긴/Verb', '여름/Noun', '여자/Noun', '여쭤/Verb', '여친/Noun', '역/Noun', '역시/Noun', '연인/Noun', '열심히/Adverb', '였다/Verb', '였어여/Verb', '였어요/Verb', '였으나/Verb', '였음/Verb', '영수증/Noun', '영업/Noun', '옆/Noun', '옆팀/Noun', '예/Modifier', '예민하/Adjective', '예민하지/Adjective', '예쁜/Adjective', '예상/Noun', '예약/Noun', '예요/Josa', '예전/Noun', '오/Modifier', '오고싶은/Verb', '오고싶을/Verb', '오늘/Noun', '오늘이/Noun', '오랜/Modifier', '오랫/Modifier', '오르구/Verb', '오시/Noun', '오시길래/Verb', '오신/Noun', '오십분/Noun', '오자/Noun', '오지/Noun', '오프너/Noun', '오호/Exclamation', '온/Noun', '온도/Noun', '올랐어요/Verb', '올려/Verb', '올려진/Verb', '옮겨/Verb', '옷/Noun', '와/Josa', '와/Verb', '와사비/Noun', '와서/Verb', '와야겠네요/Verb', '와인/Noun', '완도/Noun', '완료/Noun', '완벽/Noun', '완벽한/Adjective', '완전/Noun', '왔는데/Verb', '왔다가/Verb', '왔습니다/Verb', '왔어요/Verb', '왔을/Verb', '왜/Noun', '왠만해/Adjective', '왠지/Adverb', '외/Noun', '외국인/Noun', '외식/Noun', '요/Josa', '요/Noun', '요기/Noun', '요새/Noun', '요즘/Noun', '욤/Noun', '욧/Noun', '용/Noun', '용하겠습니다/Adjective', '용할것/Adjective', '우동/Noun', '우리/Noun', '우십니다/Verb', '우울하네요/Adjective', '우유/Noun', '우지/Noun', '운동/Noun', '운영/Noun', '울/Modifier', '움/Noun', '웃음/Noun', '워/Noun', '원/Modifier', '원/Noun', '원래/Noun', '원인/Noun', '원해서/Adjective', '월일/Noun', '월초/Noun', '웨이/Noun', '웨이팅/Noun', '위/Noun', '위생/Noun', '위치/Noun', '유명해지기/Adjective', '유명해진만큼/Adjective', '유튜브/Noun', '육/Modifier', '육전/Noun', '육즙/Noun', '육회/Noun', '율도/Noun', '융숭/Noun', '으로/Josa', '으로만/Josa', '으로서/Josa', '으론/Josa', '은/Josa', '을/Josa', '음/Noun', '음료/Noun', '음식/Noun', '음식점/Noun', '응대/Noun', '의/Josa', '의미/Noun', '의아/Noun', '의외/Noun', '의자/Noun', '의향/Noun', '이/Determiner', '이/Josa', '이/Noun', '이/Suffix', '이고/Josa', '이글/Noun', '이나/Josa', '이냐/Josa', '이네/Josa', '이다/Josa', '이드/Noun', '이라/Josa', '이라고/Josa', '이라고는/Josa', '이라니/Josa', '이라도/Josa', '이라서/Josa', '이란/Josa', '이랑/Josa', '이랬으면/Adjective', '이러기/Verb', '이런/Adjective', '이런/Modifier', '이런거/Adjective', '이럴꺼면/Adjective', '이렇게/Adverb', '이름/Noun', '이만/Noun', '이면/Noun', '이쁘고/Adjective', '이상/Noun', '이서/Noun', '이어/Verb', '이어서/Josa', '이었/Verb', '이었고/Verb', '이었구/Verb', '이었는데/Verb', '이었어요/Verb', '이었음/Verb', '이에요/Josa', '이용/Noun', '이유/Noun', '이이이/Noun', '이자/Noun', '이제/Noun', '이지/Josa', '이지만/Josa', '이진/Noun', '이해/Noun', '이후/Noun', '익은거라고/Verb', '익은게/Verb', '인/Josa', '인/Suffix', '인가/Josa', '인간/Noun', '인거/Josa', '인걸/Josa', '인근/Noun', '인당/Verb', '인데/Josa', '인분/Noun', '인사/Noun', '인상/Noun', '인생/Noun', '인성/Noun', '인스타/Noun', '인원/Noun', '인이가도/Verb', '인정/Noun', '인지/Josa', '인지/Noun', '인터넷/Noun', '인테리어/Noun', '일/Noun', '일단/Noun', '일반/Noun', '일산/Noun', '일수/Noun', '일일이/Noun', '일품/Noun', '잃으면/Verb', '임/Noun', '임대료/Noun', '임데/Verb', '입/Noun', '입는/Verb', '입니다/Adjective', '입맛/Noun', '입사/Noun', '잇게/Verb', '있거나/Adjective', '있게/Adjective', '있냐고/Adjective', '있네/Adjective', '있네요/Adjective', '있는/Adjective', '있는건/Adjective', '있는데/Adjective', '있다/Adjective', '있다는/Adjective', '있다니/Adjective', '있더군요/Adjective', '있던데/Adjective', '있습니다/Adjective', '있어/Adjective', '있어서/Adjective', '있어요/Adjective', '있었나요/Adjective', '있었는데/Adjective', '있었음/Adjective', '있었지만/Adjective', '있으나/Adjective', '있으며/Adjective', '있으시던/Adjective', '있음/Adjective', '있지만/Adjective', '자극/Noun', '자꾸/Noun', '자랑/Noun', '자르는/Verb', '자리/Noun', '자시/Noun', '자주/Noun', '자체/Noun', '작고/Noun', '작은/Adjective', '잔/Noun', '잔뜩/Noun', '잘/Verb', '잘/VerbPrefix', '잘나오구요/Verb', '잘라/Verb', '잘라주/Verb', '잘못/Noun', '잡/Noun', '잡내/Verb', '잡내가/Verb', '잡아서/Verb', '잡아주는/Verb', '잡치게/Verb', '잡침/Noun', '장/Suffix', '장갑/Noun', '장난/Noun', '장모/Noun', '장모님/Noun', '장사/Noun', '장사치/Noun', '장소/Noun', '장어/Noun', '장인/Noun', '장인어른/Noun', '장점/Noun', '재/Noun', '재래/Noun', '재료/Noun', '저/Determiner', '저/Noun', '저녁/Noun', '저런/Noun', '저렇게/Adverb', '저렴하고/Adjective', '저렴하더라도/Adjective', '저렴하지/Adjective', '저렴하지만/Adjective', '저렴한/Adjective', '저렴한지/Adjective', '저렴해/Adjective', '저희/Modifier', '저희/Noun', '적/Suffix', '적게/Verb', '적고/Verb', '적극/Noun', '적네라고/Verb', '적다/Verb', '적당하고/Adjective', '적당하네요/Adjective', '적당한/Adjective', '적당했습니다/Adjective', '적어요/Verb', '적은/Verb', '적은거/Verb', '적음/Verb', '적절하게/Adjective', '전/Modifier', '전/Noun', '전반/Noun', '전부/Noun', '전체/Noun', '전혀/Noun', '전화/Noun', '절대/Noun', '절임/Noun', '점/Noun', '점도/Noun', '점심/Noun', '점심식사/Noun', '점점/Noun', '점주/Noun', '접시/Noun', '젓가락/Noun', '정갈하게/Adjective', '정갈하고/Adjective', '정갈합니다/Adjective', '정도/Noun', '정돈/Noun', '정말/Noun', '정신/Noun', '정원/Noun', '제/Modifier', '제/Noun', '제격/Noun', '제공/Noun', '제때/Noun', '제로/Noun', '제발/Noun', '제외/Noun', '제일/Noun', '제품/Noun', '조각/Noun', '조금/Noun', '조끼/Noun', '조리/Noun', '조명/Noun', '조용한/Adjective', '조작/Noun', '조차도/Josa', '존/Noun', '존맛/Noun', '존중/Noun', '좀/Noun', '좀비/Noun', '종로/Noun', '종업원/Noun', '종이컵/Noun', '종일/Noun', '좋/Adjective', '좋게/Adjective', '좋고/Adjective', '좋네요/Adjective', '좋다/Adjective', '좋다고는/Adjective', '좋더라고요/Adjective', '좋습니다/Adjective', '좋습니다만/Adjective', '좋아서/Adjective', '좋아요/Adjective', '좋아하는데/Adjective', '좋아하던/Adjective', '좋아하시는/Adjective', '좋아할/Adjective', '좋았고/Adjective', '좋았다/Adjective', '좋았습니다/Adjective', '좋았어요/Adjective', '좋았으면/Adjective', '좋았음/Adjective', '좋으십니다/Adjective', '좋은/Adjective', '좋은고/Adjective', '좋은데/Adjective', '좋을/Adjective', '좋음/Adjective', '좋지/Adjective', '죄송하다고/Adjective', '죠/Josa', '주/Modifier', '주/Noun', '주고/Verb', '주나요/Verb', '주는/Verb', '주는데/Verb', '주든가/Verb', '주말/Noun', '주문/Noun', '주방/Noun', '주셔서/Verb', '주전자/Noun', '주차장/Noun', '죽/Noun', '준/Noun', '준다면서/Verb', '준비/Noun', '줄/Noun', '줌/Noun', '중/Noun', '중/Suffix', '중단/Noun', '즐거운/Adjective', '즐겨찾기/Noun', '즐길/Verb', '즐비하고/Adjective', '지/Josa', '지/Modifier', '지고/Noun', '지금/Noun', '지금껏/Noun', '지난/Noun', '지도/Noun', '지려/Verb', '지만/Josa', '지불/Noun', '지역/Noun', '지오다노/Noun', '지우지/Verb', '지움/Verb', '지인/Noun', '지저분하고/Adjective', '지저분합니다/Adjective', '지점/Noun', '지켜봤는데/Verb', '지키시고/Verb', '지하/Noun', '직/Noun', '직원/Noun', '직장/Noun', '직접/Noun', '진심/Noun', '진짜/Noun', '질/Noun', '질겅질겅/Noun', '질겨/Noun', '질기/Verb', '질긴/Verb', '질도/Noun', '집/Noun', '집게/Noun', '집중/Noun', '짜/Verb', '짜요/Verb', '짜증/Noun', '짜증나/Adjective', '짜증나는건/Adjective', '짠/Verb', '짠단/Verb', '짱/Noun', '째/Suffix', '쩔어있고/Verb', '쪼금/Noun', '쪽/Noun', '쫀득/Noun', '쫄깃한데/Noun', '쯤/Suffix', '찌개/Noun', '찌게/Noun', '찍어/Verb', '찐/Verb', '차는/Verb', '차돌/Noun', '차돌박이/Noun', '차이/Noun', '차있어서/Verb', '착석/Noun', '착용/Noun', '착한/Adjective', '착함/Adjective', '찬/Noun', '참/Verb', '참고/Noun', '참여/Noun', '창/Noun', '창고/Noun', '창문/Noun', '창집/Noun', '찾기/Noun', '찾는다면/Verb', '찾다니/Verb', '찾아/Verb', '찾아갔는데/Verb', '찾아볼/Verb', '찾을/Verb', '채전/Verb', '채전은/Verb', '처럼/Josa', '처음/Noun', '천/Modifier', '천원/Noun', '철/Noun', '첨/Adverb', '첨/Noun', '첫/Modifier', '첫/Noun', '청결하고/Adjective', '청소/Noun', '체인/Noun', '체인점/Noun', '쳐다볼듯/Verb', '초심/Noun', '최고/Noun', '최근/Noun', '최대한/Noun', '최소/Noun', '최악/Noun', '쵝/Noun', '추가/Noun', '추억/Noun', '추천/Noun', '추해요/Adjective', '춘천/Noun', '충/Noun', '충격/Noun', '충분/Noun', '충분한/Adjective', '충분히/Adjective', '충전/Noun', '취하/Noun', '취향/Noun', '층집/Noun', '치고/Josa', '치즈/Noun', '치킨/Noun', '칙/Noun', '친구/Noun', '친절/Noun', '친절하/Adjective', '친절하게/Adjective', '친절하고/Adjective', '친절하다/Adjective', '친절하세요/Adjective', '친절하셔서/Adjective', '친절하셨습니다/Adjective', '친절하셨어요/Adjective', '친절하셨음/Adjective', '친절하시고/Adjective', '친절하시다/Adjective', '친절해서/Adjective', '친절해요/Adjective', '친절했어요/Adjective', '카운터/Noun', '캐/Noun', '커녕/Noun', '케찹/Noun', '코/Noun', '코로나/Noun', '코목살/Noun', '콜라/Noun', '콜키/Noun', '콩나물/Noun', '콩나물국/Noun', '퀄리티/Noun', '크/Verb', '크게/Noun', '크고/Verb', '큰/Verb', '클리어/Noun', '키/Noun', '타/Noun', '타고/Noun', '타이어/Noun', '탈/Noun', '탑/Noun', '탕/Noun', '태우고/Verb', '태우듯이/Verb', '태우시고/Verb', '탱/Adverb', '터지는/Verb', '터질거/Verb', '터짐/Verb', '턱/Noun', '턱스/Noun', '텅텅/Noun', '테러/Noun', '테이블/Noun', '토/Noun', '토요일/Noun', '통/Noun', '통통하고/Adjective', '통통하니/Adjective', '퇴근/Noun', '투뿔/Noun', '튀고/Verb', '튀기듯이/Verb', '튀긴/Verb', '튀김전이어서/Verb', '튀김전인지/Verb', '특/Noun', '특별하면/Adjective', '특별함은/Adjective', '특별했으면/Adjective', '특선/Noun', '특양/Noun', '특유/Noun', '특이한거/Adjective', '특히/Adverb', '틀어주고/Verb', '팀/Noun', '팁/Noun', '팅/Noun', '파/Noun', '파김치/Noun', '판이/Noun', '패딩/Noun', '팬/Noun', '퍽퍽/Noun', '퍽퍽함/Noun', '페이/Noun', '편/Noun', '편안하게/Adjective', '편하게/Adjective', '편하고/Adjective', '편했고/Adjective', '편했다/Adjective', '평가/Noun', '평범해요/Adjective', '평소/Noun', '평이/Noun', '평일/Noun', '평점/Noun', '평타/Noun', '포근했고/Adjective', '포슬포슬/Adverb', '포장마차/Noun', '폭격/Noun', '퐁퐁/Noun', '퐁퐁뿌리/Noun', '표정/Noun', '푸석푸석한/Adjective', '품격/Noun', '품절/Noun', '프라이/Noun', '프랜차이즈/Noun', '프렌차이즈/Noun', '프리/Noun', '프리미엄/Noun', '필요/Noun', '필요없어요/Adjective', '필요한거/Adjective', '필요합니다/Adjective', '하/Exclamation', '하/Suffix', '하게/Verb', '하겠다는/Verb', '하고/Josa', '하고/Verb', '하고는/Josa', '하기/Verb', '하기에/Verb', '하기에도/Verb', '하길래/Verb', '하나/Noun', '하나로/Noun', '하남/Noun', '하냐/Verb', '하네요/Verb', '하는/Verb', '하는거/Verb', '하는건/Verb', '하는게/Verb', '하는데/Verb', '하니/Noun', '하니/Verb', '하니까/Verb', '하다가/Verb', '하더라구요/Verb', '하던것처럼/Verb', '하러/Verb', '하려고/Verb', '하루/Noun', '하며/Verb', '하면/Verb', '하면서/Verb', '하세요/Verb', '하셔서/Verb', '하시나요/Verb', '하시는건/Verb', '하시는것/Verb', '하시려/Verb', '하신/Verb', '하신다/Verb', '하였습니다/Verb', '하이/Noun', '하자/Noun', '하지/Verb', '하지만/Conjunction', '하질/Verb', '하하/Noun', '학생/Noun', '한/Determiner', '한/Josa', '한/Modifier', '한/Verb', '한건데/Verb', '한꺼/Verb', '한다고/Verb', '한다네요/Verb', '한다는/Modifier', '한동안/Adverb', '한마디/Noun', '한번/Noun', '한우/Noun', '한정/Noun', '한참/Noun', '한해/Noun', '할/Verb', '할게요/Verb', '할께/Verb', '할께요/Verb', '할말은/Verb', '할수/Verb', '할수있나싶네요/Verb', '함/Noun', '함께/Adverb', '합/Noun', '합니다/Verb', '합니당/Verb', '핫/Noun', '항상/Noun', '항정/Noun', '항정살/Noun', '해/Verb', '해놓고/Verb', '해달라고/Verb', '해도/Noun', '해물탕/Noun', '해보니/Verb', '해서/Verb', '해야/Verb', '해야하고/Verb', '해야하는거/Verb', '해야하는지는/Verb', '해요/Verb', '해주고/Verb', '해주는/Verb', '해주더니/Verb', '해주던가/Verb', '해주셨고/Verb', '해주시/Noun', '해주시고/Verb', '해준거/Verb', '해줄/Verb', '해줌/Verb', '해줘야하는데/Verb', '해줬는데/Verb', '핵노맛/Noun', '핸드폰/Noun', '했/Verb', '했고/Verb', '했네요/Verb', '했는데/Verb', '했는데요/Verb', '했더니/Verb', '했습니다/Verb', '했어도/Verb', '했어요/Verb', '했으나/Verb', '했으므로/Verb', '했을/Verb', '했을까요/Verb', '했음/Verb', '했지만/Verb', '헌혈/Noun', '헛수/Noun', '헤맸는데/Verb', '헤으응/Noun', '헹주같은겅려/Noun', '협소/Noun', '호불호/Noun', '호일/Noun', '혹/Noun', '혹시/Noun', '혹은/Adverb', '홀/Noun', '홍보/Noun', '화가/Noun', '화난/Noun', '화로/Noun', '화장실/Noun', '확실히/Adjective', '환기/Noun', '활/Noun', '황소/Noun', '황제/Noun', '회/Noun', '회사/Noun', '회식/Noun', '회전/Noun', '후/Noun', '후기/Noun', '후론/Noun', '후식/Noun', '훈제/Noun', '훌륭하고/Adjective', '훌륭하다/Adjective', '훌륭한/Adjective', '훌륭한데/Adjective', '훌륭했고/Adjective', '훨씬/Adverb', '휴지/Noun', '흐물흐물/Noun', '흘리고/Verb', '흠/Noun', '흠잡을/Adjective', '흥/Noun', '흥흥/Noun', '흩/Verb', '힐끔/Noun', '힘든/Adjective', '힘든데/Adjective', '힘들더라구요/Adjective', '힘들어서/Adjective']\n"
     ]
    }
   ],
   "source": [
    "print(sorted(index_vectorizer.vocabulary_))"
   ]
  },
  {
   "cell_type": "code",
   "execution_count": 345,
   "metadata": {},
   "outputs": [
    {
     "name": "stdout",
     "output_type": "stream",
     "text": [
      "{'너무/Adverb': 411, '맛있어요/Adjective': 750, '녹는다/Verb': 430, '녹아/Verb': 431, '좋아요/Adjective': 1888, '흠잡을/Adjective': 2334, '곳/Noun': 178, '없는/Adjective': 1470, '반찬/Noun': 933, '이/Josa': 1640, '정갈합니다/Adjective': 1845, '코로나/Noun': 2075, '땜/Noun': 642, '에/Josa': 1492, '걱정/Noun': 131, '했는데/Verb': 2281, '방역/Noun': 945, '수/Modifier': 1199, '칙/Noun': 2053, '도/Josa': 544, '잘/Verb': 1769, '지키시고/Verb': 1953, '살치실이랑/Verb': 1132, '등심/Noun': 625, '부드러워서/Adjective': 1022, '좋아서/Adjective': 1887, '댓글/Noun': 527, '남깁니다/Verb': 383, '살치/Verb': 1131, '살/Noun': 1127, '미쳤네요/Adjective': 910, '대박/Noun': 515, '입니다/Adjective': 1727, '퀄리티/Noun': 2081, '굳이/Noun': 231, '에요/Josa': 1502, '최고/Noun': 2030, '외식/Noun': 1578, '하기에/Verb': 2179, '딱/Adverb': 631, '좋습니다/Adjective': 1885, '격/Noun': 145, '자체/Noun': 1764, '가/Josa': 17, '다른/Noun': 473, '음식/Noun': 1630, '의/Josa': 1633, '품격/Noun': 2160, '서비스/Noun': 1163, '마인드/Noun': 686, '뭐/Noun': 899, '하나/Noun': 2182, '정말/Noun': 1848, '멋진/Adjective': 830, '식당/Noun': 1247, '이네/Josa': 1647, '요/Noun': 1580, '자주/Noun': 1763, '이/Suffix': 1642, '용하겠습니다/Adjective': 1587, '한우/Noun': 2232, '살이/Noun': 1129, '아주/Noun': 1345, '그냥/Noun': 249, '입/Noun': 1725, '에서/Josa': 1497, '녹아요/Verb': 432, '한번/Noun': 2231, '왔는데/Verb': 1568, '또/Noun': 652, '오고싶은/Verb': 1535, '맛/Noun': 722, '예요/Josa': 1532, '요즘/Noun': 1583, '날/Noun': 379, '더운데/Adjective': 532, '헌혈/Noun': 2293, '도해/Noun': 549, '서/Josa': 1158, '소고기/Noun': 1189, '생각났는데/Verb': 1153, '하면/Verb': 2202, '블로그/Noun': 1066, '핫/Noun': 2248, '한/Josa': 2221, '남도/Noun': 385, '애찬/Noun': 1406, '떠오르더라구요/Verb': 644, '기대하고/Adjective': 292, '방문/Noun': 943, '역시/Noun': 1514, '기대한만큼/Adjective': 294, '고기/Noun': 159, '질/Noun': 1961, '은/Josa': 1626, '물론/Adverb': 892, '사장/Noun': 1121, '님/Suffix': 465, '친절하셔서/Adjective': 2061, '뿌듯한/Adjective': 1108, '하루/Noun': 2200, '됐네요/Verb': 562, '갈비/Noun': 69, '먹고싶을/Verb': 787, '땐/Noun': 641, '무조건/Noun': 874, '여/Modifier': 1506, '기와/Noun': 303, '먹어요/Verb': 801, 'ㅎㅎ/KoreanParticle': 14, '강남/Noun': 90, '회식/Noun': 2317, '장소/Noun': 1789, '로/Josa': 666, '제격/Noun': 1853, '깔끔한/Adjective': 321, '내부/Noun': 399, '냉면/Noun': 407, '일품/Noun': 1720, '가장/Noun': 50, '좋은/Adjective': 1900, '건/Noun': 132, '할/Verb': 2236, '때/Noun': 639, '누구/Noun': 444, '는/Josa': 454, '굽느라/Verb': 235, '정신/Noun': 1849, '없는데/Adjective': 1472, '구워주셔서/Verb': 214, '좋았습니다/Adjective': 1895, '가족/Noun': 56, '끼리/Noun': 346, '참/Verb': 1999, '괜찮은/Adjective': 190, '집/Noun': 1967, '이라고/Josa': 1651, '생각/Noun': 1152, '해요/Verb': 2263, '깔끔하게/Adjective': 319, '잘나오구요/Verb': 1771, '완전/Noun': 1567, '맛있음/Adjective': 760, '어제/Noun': 1448, '퇴근/Noun': 2111, '후/Noun': 2319, '직장/Noun': 1957, '동료/Noun': 558, '들/Suffix': 604, '과/Josa': 182, '간단하게/Adjective': 64, '먹었는데/Verb': 804, '맛있고/Adjective': 732, '직원/Noun': 1956, '분들/Suffix': 1039, '일단/Noun': 1715, '친절했어요/Adjective': 2069, '장/Suffix': 1782, '소로/Noun': 1190, '괜찮을것/Adjective': 191, '같네요/Adjective': 97, '앞/Noun': 1403, '으로/Josa': 1622, '용할것/Adjective': 1588, '같은/Adjective': 105, '느낌/Noun': 453, '이드/Noun': 1649, '네/Suffix': 423, '요/Josa': 1579, '맛있습니다/Adjective': 746, '부모님/Noun': 1025, '모시/Noun': 851, '고/Josa': 155, '토요일/Noun': 2107, '이라/Josa': 1650, '다녀왔는데/Verb': 469, '검색/Noun': 137, '해보니/Verb': 2257, '어쩐지/Noun': 1451, '양재/Noun': 1429, '봤더라/Verb': 1016, '강남역/Noun': 91, '에도/Josa': 1495, '있더군요/Adjective': 1742, '깔끔하고/Adjective': 320, '본점/Noun': 1008, '마찬가지/Noun': 688, '정갈하고/Adjective': 1844, '특히/Adverb': 2126, '장어/Noun': 1790, '랑/Josa': 662, '괜찮았습니다/Adjective': 188, '회사/Noun': 2316, '나/Josa': 347, '거래처/Noun': 123, '식사/Noun': 1248, '잡/Noun': 1775, '을/Josa': 1627, '이/Determiner': 1639, '쪽/Noun': 1981, '와야겠네요/Verb': 1561, '개인/Noun': 114, '적/Suffix': 1811, '만족/Noun': 700, '광양/Noun': 184, '불고기/Noun': 1042, '직접/Noun': 1958, '구워줘서/Verb': 218, '편했고/Adjective': 2143, '맛있게/Adjective': 731, '먹었습니다/Verb': 807, '훌륭하고/Adjective': 2324, '비빔냉면/Noun': 1077, '먹어/Verb': 797, '본/Verb': 1006, '중/Noun': 1927, '제일/Noun': 1859, '맛있었습니다/Adjective': 755, '친절/Noun': 2055, '까지/Josa': 313, '같이/Adverb': 109, '먹을수/Verb': 823, '있어서/Adjective': 1746, '오늘/Noun': 1537, '여친/Noun': 1512, '너무나/Adverb': 412, '기분/Noun': 301, '데이트/Noun': 543, '하고/Josa': 2175, '가네요/Verb': 28, '대박나세용/Verb': 516, '상권/Noun': 1141, '귀하게/Adjective': 242, '넓은/Adjective': 414, '주차장/Noun': 1920, '있으며/Adjective': 1753, '분위기/Noun': 1040, '고급/Noun': 158, '지고/Noun': 1936, '거기/Noun': 122, '다/Josa': 467, '높은/Adjective': 439, '이만/Noun': 1666, '고깃집/Noun': 161, '없을/Adjective': 1486, '듯/Noun': 623, '아니/Adjective': 1317, '몇/Modifier': 838, '만/Modifier': 694, '원/Modifier': 1601, '어치/Noun': 1455, '를/Josa': 671, '먹는데/Verb': 792, '계속/Noun': 153, '안/VerbPrefix': 1350, '구워주고/Verb': 209, '벨/Noun': 970, '눌러도/Verb': 448, '묵묵/Noun': 878, '부답/Adjective': 1020, '진짜/Noun': 1960, '비/Noun': 1067, '싼값/Noun': 1285, '내고/Verb': 396, '짜증나/Adjective': 1973, '죽/Noun': 1921, '뻔함/Adjective': 1106, '월초/Noun': 1607, '당일/Noun': 505, '전화/Noun': 1832, '예약/Noun': 1531, '주/Modifier': 1908, '메뉴/Noun': 831, '개/Noun': 110, '있는/Adjective': 1736, '안심/Noun': 1362, '없다/Adjective': 1473, '함/Noun': 2243, '착석/Noun': 1994, '전/Noun': 1827, '카운터/Noun': 2070, '알려/Verb': 1393, '주든가/Verb': 1914, '마늘/Noun': 675, '다/Adverb': 466, '타/Noun': 2088, '들어가서/Verb': 611, '불렀더니/Verb': 1044, '멀뚱거리/Noun': 829, '며/Josa': 834, '어쩌라고/Adverb': 1450, '하는/Verb': 2187, '표정/Noun': 2158, '서있음/Verb': 1167, '테이블/Noun': 2105, '수/Noun': 1200, '대비/Noun': 517, '인원/Noun': 1707, '많이/Adverb': 714, '부족해/Adjective': 1030, '보임/Noun': 997, '가격/Noun': 20, '실수/Noun': 1261, '응대/Noun': 1632, '별로/Noun': 974, '왠지/Adverb': 1575, '모르지만/Verb': 850, '기복/Noun': 299, '있어요/Adjective': 1747, '그리고/Conjunction': 272, '나갈/Verb': 353, '쯤/Suffix': 1984, '이면/Noun': 1667, '거의/Noun': 126, '훈제/Noun': 2323, '인간/Noun': 1695, '됨/Verb': 574, '호불호/Noun': 2299, '확실히/Adjective': 2310, '갈릴/Noun': 67, '거/Noun': 121, '같아요/Adjective': 101, '보통/Noun': 998, '이에요/Josa': 1679, '후식/Noun': 2322, '있었나요/Adjective': 1748, '못/VerbPrefix': 861, '먹음/Verb': 825, '디너/Noun': 626, '창고/Noun': 2003, '스페셜/Noun': 1222, '고/Modifier': 156, '기질/Noun': 306, '좋고/Adjective': 1880, '구워/Verb': 206, '줌/Noun': 1926, '비싼/Adjective': 1082, '편/Noun': 2139, '인당/Verb': 1699, '만/Noun': 695, '지불/Noun': 1943, '친절하셨어요/Adjective': 2063, '구워주시고/Verb': 216, '없게/Adjective': 1465, '먹는/Verb': 790, '이란/Josa': 1656, '받았습니다/Verb': 936, '상태/Noun': 1145, '좋은데/Adjective': 1902, '구워주시는/Verb': 217, '분/Noun': 1037, '따라/Verb': 628, '평가/Noun': 2145, '것/Noun': 140, '어찌/Noun': 1454, '난/Josa': 377, '없나요/Adjective': 1467, '냄새/Noun': 402, '나고/Verb': 354, '푸석푸석한/Adjective': 2159, '깍두기/Noun': 317, '아/Exclamation': 1311, '삭함/Noun': 1125, '전혀/Noun': 1831, '없고/Adjective': 1466, '누룽지/Noun': 446, '식감/Noun': 1246, '나온/Verb': 369, '고사리/Noun': 166, '조차도/Josa': 1868, '도대체/Noun': 546, '뭘/Noun': 902, '먹으라는/Verb': 811, '건지/Verb': 134, '초심/Noun': 2029, '잃으면/Verb': 1721, '망해요/Adjective': 762, '팬/Noun': 2135, '무쇠/Noun': 868, '인거/Josa': 1696, '같은데/Adjective': 107, '굽네요/Verb': 233, '점심식사/Noun': 1838, '외/Noun': 1576, '에는/Josa': 1494, '비추/Verb': 1090, '돈/Noun': 550, '아깝습니다/Adjective': 1316, '좋네요/Adjective': 1881, '점/Noun': 1835, '맛있다/Adjective': 741, '친절하다/Adjective': 2059, '안/Noun': 1349, '공기/Noun': 180, '매/Modifier': 768, '캐/Noun': 2071, '하/Suffix': 2172, '환기/Noun': 2311, '목/Noun': 855, '아픔/Noun': 1348, '어둡다/Adjective': 1437, '지하/Noun': 1954, '인데/Josa': 1700, '창문/Noun': 2004, '조명/Noun': 1865, '어두움/Noun': 1436, '다닥다닥/Adverb': 470, '붙어/Verb': 1062, '씨끄럽다/Noun': 1304, '비싼만큼/Adjective': 1084, '비싸다/Adjective': 1078, '결론/Noun': 147, '다신/Verb': 479, '안감/Noun': 1352, '삼/Modifier': 1134, '성/Modifier': 1177, '훨씬/Adverb': 2329, '낫다/Noun': 389, '명/Noun': 837, '이서/Noun': 1670, '만원/Noun': 699, '이나/Josa': 1645, '자리/Noun': 1761, '구석/Noun': 202, '탱/Adverb': 2097, '주고/Verb': 1910, '서빙/Noun': 1164, '엉망/Noun': 1491, '이고/Josa': 1643, '별루/Noun': 975, '석/Noun': 1169, '텅텅/Noun': 2103, '비었던데/Verb': 1087, '저/Noun': 1798, '왜/Noun': 1573, '그렇게/Adverb': 270, '주나요/Verb': 1911, '별/Modifier': 972, '루/Noun': 668, '였어요/Verb': 1519, '편하게/Adjective': 2141, '있음/Adjective': 1755, '맛남/Noun': 723, '언제나/Adverb': 1459, '조금/Noun': 1862, '어둡다는/Adjective': 1438, '단점/Noun': 490, '빼고는/Verb': 1101, '좋음/Adjective': 1904, '어머니/Noun': 1444, '생신/Noun': 1156, '전반/Noun': 1828, '좋았고/Adjective': 1893, '육회/Noun': 1619, '굿/Noun': 237, '비싸지만/Adjective': 1081, '면/Noun': 836, '에서는/Josa': 1498, '일산/Noun': 1717, '보다는/Josa': 985, '훌륭한데/Adjective': 2327, '더/Noun': 529, '좋았음/Adjective': 1898, '내/Noun': 395, '만든게/Verb': 696, '개도/Noun': 113, '아까운/Adjective': 1314, '인생/Noun': 1704, '최악/Noun': 2034, '닭갈비/Noun': 497, '남이섬/Noun': 387, '먹은/Verb': 817, '장사치/Noun': 1788, '지금껏/Noun': 1938, '이었/Verb': 1673, 'ㄴ/KoreanParticle': 0, '는데/Eomi': 455, '여기/Noun': 1507, '갱신/Noun': 118, '했네요/Verb': 2280, '달/Noun': 492, '짜/Verb': 1970, '기만/Noun': 298, '소스/Noun': 1191, '사리/Noun': 1115, '추가/Noun': 2036, '닭/Noun': 496, '양배추/Noun': 1427, '몇개/Noun': 840, '볶음밥/Noun': 1004, '달기/Noun': 493, '만/Josa': 693, '하고/Verb': 2176, '꾸역꾸역/Adverb': 341, '한/Verb': 2223, '먹고/Verb': 779, '싹/Noun': 1282, '버리고/Verb': 965, '나와서/Verb': 371, '샌드위치/Noun': 1149, '사먹었네요/Verb': 1116, '맛있는/Adjective': 737, '알/Noun': 1391, '기대도/Verb': 291, '맛있는데/Adjective': 740, '재료/Noun': 1796, '안좋은/Adjective': 1365, '조리/Noun': 1864, '잘못/Noun': 1774, '하신/Verb': 2210, '없네요/Adjective': 1469, '이/Noun': 1641, '게/Josa': 141, '인분/Noun': 1701, '한/Determiner': 2220, '조각/Noun': 1861, '운동/Noun': 1595, 'ㅋ/KoreanParticle': 8, '신기하게도/Adjective': 1251, '알바/Noun': 1396, '전부/Noun': 1829, '불친절합니다/Adjective': 1055, 'ㅋㅋ/KoreanParticle': 9, '일/Noun': 1714, '하기/Verb': 2178, '싫은건/Adjective': 1264, '알겠는데/Verb': 1392, '손님/Noun': 1195, '잡치게/Verb': 1780, '필요/Noun': 2167, '없잖아요/Adjective': 1489, '오늘이/Noun': 1538, '첨/Adverb': 2020, '이자/Noun': 1683, '마지막/Noun': 687, 'ㅂㅂ/KoreanParticle': 3, '배탈/Noun': 956, '났습니다/Verb': 391, '배/Noun': 948, '안좋네요/Adjective': 1363, '프렌차이즈/Noun': 2164, '약간/Noun': 1413, '있지만/Adjective': 1756, '정도/Noun': 1846, '아니고/Adjective': 1318, '해서/Verb': 2258, '전체/Noun': 1830, '지난/Noun': 1939, '뒤/Noun': 589, '인/Josa': 1692, '지금/Noun': 1937, '배아/Noun': 954, '파/Noun': 2131, '혹/Noun': 2301, '시나/Noun': 1232, '들어와/Verb': 617, '봤더니/Verb': 1015, '그러시네요/Adjective': 261, '에바/Noun': 1496, '쓰는/Verb': 1297, '같은게/Adjective': 106, '시간/Noun': 1226, '부터/Josa': 1034, '종일/Noun': 1877, '설사/Noun': 1175, '했어요/Verb': 2286, '밑/Noun': 918, '리뷰/Noun': 672, '보/Noun': 977, '니까/Josa': 463, '사람/Noun': 1114, '있던데/Adjective': 1743, '그런게/Adjective': 265, '아니라/Adjective': 1322, '원래/Noun': 1603, '그런/Adjective': 262, '같으니/Adjective': 103, '가급적/Adverb': 23, '가지/Noun': 57, '마세요/Verb': 678, '보다/Josa': 983, '불친절/Noun': 1051, '기본/Noun': 300, '비위생적/Noun': 1088, '임/Noun': 1722, '춘천/Noun': 2040, '맛있단/Adjective': 743, '말/Noun': 717, '그/Determiner': 243, '정돈/Noun': 1847, '아니고요/Adjective': 1319, '동네/Noun': 557, '가성/Noun': 42, '있게/Adjective': 1732, '먹을만/Verb': 821, '합니당/Verb': 2247, '갈/Verb': 66, '마다/Josa': 676, '존맛/Noun': 1870, '배불러요/Adjective': 951, '헤으응/Noun': 2296, '평타/Noun': 2151, '빨리/Adverb': 1098, '먹기/Noun': 789, '나오기/Verb': 365, '치즈/Noun': 2051, '넣어서/Verb': 421, '먹으면/Verb': 814, '괜찮네요/Adjective': 185, '좋아하던/Adjective': 1890, '떨어졌네요/Verb': 648, '나서/Verb': 363, '아팠습니다/Adjective': 1347, '갔던/Verb': 87, '친구/Noun': 2054, '복통/Noun': 1001, '엄청/Adverb': 1463, '고생/Noun': 167, '새로오시는/Adjective': 1148, '가까히/Adjective': 26, '앉으시길래/Verb': 1372, '거리/Noun': 124, '두기/Noun': 579, '해달라고/Verb': 2254, '부탁/Noun': 1033, '했더니/Verb': 2283, '알바생/Noun': 1397, '저희/Noun': 1810, '그런거/Adjective': 263, '한다네요/Verb': 2227, '넘어가는데/Verb': 418, '하는게/Verb': 2190, '좋지/Adjective': 1905, '않을까요/Verb': 1387, '실망/Noun': 1260, '예전/Noun': 1533, '봐서/Verb': 1012, '키/Noun': 2087, '큰/Verb': 2085, '겁나/Verb': 139, '양/Noun': 1423, '걍/Adverb': 119, '제/Modifier': 1851, '육/Modifier': 1616, '볶음/Noun': 1003, '이었음/Verb': 1678, '양도/Noun': 1426, '너/Modifier': 410, '무적/Noun': 872, '어/Suffix': 1433, '주문/Noun': 1916, '잘/VerbPrefix': 1770, '들어간/Verb': 613, '건가/Noun': 133, '했을/Verb': 2289, '깨끗하고/Adjective': 329, '위치/Noun': 1612, '좋/Adjective': 1878, '긴한데/Verb': 308, '적고/Verb': 1813, '그닥또/Noun': 252, '가진/Verb': 58, '않을듯/Verb': 1388, '그나마/Adverb': 248, '맛있어서/Adjective': 748, '봐/Verb': 1011, '밋있어/Noun': 916, '같고/Adjective': 95, '넘흐/Noun': 420, '복작복작/Adverb': 1000, '두/Determiner': 576, '기도/Noun': 295, '있었음/Adjective': 1750, '아까/Adjective': 1313, '움/Noun': 1598, '엔/Josa': 1503, '반/Noun': 932, '야채/Noun': 1410, '지/Modifier': 1935, '이이이/Noun': 1682, '적어요/Verb': 1821, '맛잇으느/Noun': 729, '비싸다으/Adjective': 1079, '오호/Exclamation': 1549, '친절하고/Adjective': 2058, '맛있었어요/Adjective': 756, '잇게/Verb': 1730, '근데/Adverb': 277, '비싼데/Adjective': 1083, '없어요/Adjective': 1480, '드세요/Verb': 598, 'ㅈㅁㅌㅌㄱㄹ/KoreanParticle': 7, '비는/Verb': 1072, '않아요/Verb': 1381, '매우/Noun': 770, '비쌈/Adjective': 1086, '제/Noun': 1852, '크게/Noun': 2083, '선호/Noun': 1172, '하지/Verb': 2215, '않는/Verb': 1379, '여긴/Verb': 1508, '데려간/Verb': 542, '지인/Noun': 1948, '만족했어요/Adjective': 704, '삼겹/Noun': 1136, '목살/Noun': 856, '항정살/Noun': 2251, '세/Modifier': 1178, '본/Modifier': 1005, '중/Suffix': 1928, '갠/Noun': 117, '으론/Josa': 1625, '손/Noun': 1193, '꼽힘/Verb': 338, '그러나/Conjunction': 260, '두번째/Noun': 583, '까진/Josa': 316, '이렇게/Adverb': 1664, '부위/Noun': 1029, '얐/Noun': 1421, '구나/Noun': 199, '감탄/Noun': 79, '세번/Noun': 1180, '째/Suffix': 1978, '먹으면서/Verb': 815, '몇번/Noun': 841, '씹히는거/Verb': 1308, '뱉어내고/Verb': 962, '먹었음/Verb': 810, '질겨/Noun': 1963, '그때/Noun': 253, '여름/Noun': 1509, '어쩌구/Noun': 1449, '얘기/Noun': 1431, '해줬는데/Verb': 2275, '굽는/Verb': 236, '스킬/Noun': 1219, '다른거/Adjective': 474, '기/Modifier': 284, '손질/Noun': 1196, '좀/Noun': 1872, '된것/Verb': 569, '같았음/Adjective': 102, '있는데/Adjective': 1738, '스러웠/Adjective': 1218, '후론/Noun': 2321, '실패할까봐/Adjective': 1262, '가는/Verb': 29, '아쉽네요/Adjective': 1342, '깜놀/Noun': 325, '육즙/Noun': 1618, '미침/Adjective': 912, '친절하시고/Adjective': 2065, '감사합니다/Verb': 74, '먹고가요/Verb': 780, '다르게/Adjective': 471, '불친절하네요/Adjective': 1053, '물어보면/Verb': 895, '귀찮다는/Adjective': 241, '심하세요/Adjective': 1268, '삼겹살/Noun': 1137, '육전/Noun': 1617, '필요없어요/Adjective': 2168, '운영/Noun': 1596, '좋으십니다/Adjective': 1899, '올랐어요/Verb': 1552, '나/Noun': 348, '찾아/Verb': 2009, '떠난다/Verb': 643, '오랜/Modifier': 1539, '웨이/Noun': 1608, '팅/Noun': 2130, '해야하는지는/Verb': 2262, '굳/Adjective': 230, '많아서/Adjective': 710, '노/Noun': 427, '아쉬워요/Adjective': 1338, '그닥/Noun': 251, '넘/Verb': 415, '싸가지/Noun': 1277, '없음/Adjective': 1487, '들/Verb': 605, '가시길/Verb': 46, '점도/Noun': 1836, '그램/Noun': 257, '원/Noun': 1602, '각/Noun': 59, '씩/Suffix': 1305, '하려고/Verb': 2199, '했으나/Verb': 2287, '첫/Noun': 2023, '최소/Noun': 2033, '해야/Verb': 2259, '한다고/Verb': 2226, '이라도/Josa': 1654, '특별하면/Adjective': 2119, '몰라/Verb': 857, '하남/Noun': 2184, '돼지/Noun': 560, '수준/Noun': 1207, '매장/Noun': 771, '시끄러/Adjective': 1228, '도/Noun': 545, '떼기/Verb': 650, '시장/Noun': 1235, 'ㅇㅇ/KoreanParticle': 5, '바빠서/Adjective': 925, '런가/Noun': 664, '짜증/Noun': 1972, '베이스/Noun': 969, '깔려있음/Verb': 324, '넓고/Adjective': 413, '밴다는/Verb': 959, '장점/Noun': 1793, '특별함은/Adjective': 2120, '있으나/Adjective': 1752, '비싸서/Adjective': 1080, '놀랐던/Verb': 436, '기억/Noun': 302, '나쁘진/Adjective': 362, '않은데/Verb': 1386, '훌륭한/Adjective': 2326, '아니다/Adjective': 1321, '요기/Noun': 1581, '같으면/Adjective': 104, '땅코/Noun': 638, '간다/Noun': 63, '위생/Noun': 1611, '샐러드/Noun': 1150, '철/Noun': 2019, '수세미/Noun': 1204, '나왔는데/Verb': 373, '인지/Josa': 1710, '미안하/Adjective': 908, '단말/Noun': 489, '한마디/Noun': 2230, '바꿔/Verb': 922, '드릴/Noun': 596, '까요/Verb': 312, '바꿔주는건/Verb': 923, '당연하고/Adjective': 503, '사과/Noun': 1112, '해야하는거/Verb': 2261, '아닌가요/Adjective': 1327, '구워주러/Verb': 213, '오신/Noun': 1544, '남자/Noun': 388, '분/Suffix': 1038, '대충대충/Adverb': 523, '싫으시면/Adjective': 1263, '바라는게/Verb': 924, '불편함을/Adjective': 1060, '느낄/Verb': 452, '점주/Noun': 1840, '인걸/Josa': 1697, '이글/Noun': 1644, '지우지/Verb': 1946, '마시고/Verb': 682, '제발/Noun': 1857, '문제/Noun': 883, '태우시고/Verb': 2096, '얇게/Adjective': 1415, '썰어서/Verb': 1289, '교육/Noun': 196, '필요합니다/Adjective': 2170, '편하고/Adjective': 2142, '안배/Noun': 1360, '다만/Noun': 475, '어수선함/Adjective': 1445, '쏘/Verb': 1294, '적은거/Verb': 1823, '같긔/Noun': 96, '숙성/Noun': 1208, '옷/Noun': 1556, '안나/Noun': 1355, '땀안/Verb': 636, '흘리고/Verb': 2332, '왔어요/Verb': 1571, '깔끔해서/Adjective': 322, '무례한/Adjective': 864, '단체/Noun': 491, '손놈/Noun': 1194, '능력/Noun': 458, '매니저/Noun': 769, '계란찜/Noun': 151, '꼭/Noun': 337, '먹으세요/Verb': 816, '이랑/Josa': 1657, '부드럽고/Adjective': 1023, '맛있네요/Adjective': 736, '먹었어요/Verb': 808, '아쉬웠어요/Adjective': 1340, '맛있는네/Adjective': 739, '폭격/Noun': 2155, '질도/Noun': 1966, '시끄러워서/Adjective': 1230, '아쉬움/Noun': 1337, '좋게/Adjective': 1879, '굽네치킨/Noun': 234, '싸게/Verb': 1278, '나쁘게/Adjective': 360, '예상/Noun': 1530, '뻔한/Adjective': 1105, '음료/Noun': 1629, '무료/Noun': 865, '이런/Adjective': 1660, '찾다니/Verb': 2008, '회전/Noun': 2318, '율도/Noun': 1620, '빨/Noun': 1096, '라서/Josa': 661, '신선합니다/Adjective': 1257, '술/Noun': 1210, '무제한/Noun': 873, '지려/Verb': 1941, '다양/Noun': 480, '무한리필/Noun': 877, '월일/Noun': 1606, '했는데요/Verb': 2282, '혹시/Noun': 2302, '저희/Modifier': 1809, '탈/Noun': 2091, '먹고다음/Verb': 785, '났는지/Verb': 390, '궁금하네요/Adjective': 240, '남겨주세요/Verb': 382, '갑/Noun': 80, '소주/Noun': 1192, '맥주/Noun': 772, '무한/Noun': 876, '천원/Noun': 2018, '쵝/Noun': 2035, 'ㅎ/KoreanParticle': 13, '종업원/Noun': 1875, '청결하고/Adjective': 2024, '갓/Noun': 83, '튀긴/Verb': 2115, '치킨/Noun': 2052, '비갑/Noun': 1068, '싸고/Verb': 1279, '잔/Noun': 1767, '덤/Noun': 538, '모든/Noun': 844, '완벽/Noun': 1565, '어흥/Adverb': 1457, '흥흥/Noun': 2336, '흥/Noun': 2335, '팁/Noun': 2129, '소/Modifier': 1188, '금구/Noun': 281, '불로/Noun': 1045, '굽/Noun': 232, '양념/Noun': 1424, '불/Noun': 1041, '내려서/Verb': 398, '구으세요/Verb': 222, '굿굿굿/Noun': 239, '이지만/Josa': 1686, '괜찮음/Adjective': 193, '저렴하지만/Adjective': 1805, '저렴하지/Adjective': 1804, '않았다/Verb': 1382, '막국수/Noun': 691, '맛있었고/Adjective': 752, '배부르게/Adjective': 950, '가게/Noun': 19, '친절하셨습니다/Adjective': 2062, '짱/Noun': 1977, '걍개마싯윰/Noun': 120, 'ㄹㅇ/KoreanParticle': 2, '좀비/Noun': 1873, '싸긴/Verb': 1280, 'ㅋㅋㅋ/KoreanParticle': 10, '된장/Noun': 571, '밥/Noun': 940, '비빔국수/Noun': 1076, '유명해지기/Adjective': 1613, '부터/Noun': 1035, '갔는데/Verb': 84, '하/Exclamation': 2171, '맛집/Noun': 761, '되/Verb': 563, '버려서/Verb': 964, '줄/Noun': 1925, '서야/Verb': 1166, '우울하네요/Adjective': 1592, '콜키/Noun': 2078, '지/Josa': 1934, '프리/Noun': 2165, '베리/Noun': 968, '코목살/Noun': 2076, '퍽퍽/Noun': 2136, '했고/Verb': 2279, '이름/Noun': 1665, '값/Noun': 82, '먹자마자/Verb': 826, '오지/Noun': 1547, '개존맛/Noun': 115, '된/Adjective': 568, '일반/Noun': 1716, '체인점/Noun': 2027, '하고는/Josa': 2177, '차이/Noun': 1992, '있네요/Adjective': 1735, '그런건/Adjective': 264, '이해/Noun': 1688, '되는데/Verb': 565, '먹으러/Verb': 812, '갔다가/Verb': 86, '잡침/Noun': 1781, '저렴한/Adjective': 1806, '아닌/Adjective': 1326, '저렇게/Adverb': 1801, '저렴한지/Adjective': 1807, '모르겠음/Verb': 848, '처음/Noun': 2016, '있냐고/Adjective': 1733, '물어봤는데/Verb': 896, '네/Noun': 422, '물으면/Verb': 898, '몇/Noun': 839, '팀/Noun': 2128, '혹은/Adverb': 2303, '얼마나/Noun': 1461, '기다려야하는지/Verb': 288, '해줘야하는데/Verb': 2274, '라니/Josa': 658, '딱히/Adjective': 634, '먹을만한/Verb': 822, '없어서/Adjective': 1479, '화가/Noun': 2306, '처럼/Josa': 2015, '돌아다면서/Verb': 553, '고/Noun': 157, '돼지고기/Noun': 561, '늘/Noun': 457, '웨이팅/Noun': 1609, '있습니다/Adjective': 1744, '별/Noun': 973, '아까웁니/Noun': 1315, '점심/Noun': 1837, '불친절함/Adjective': 1054, '느끼고/Verb': 449, '싶으면/Verb': 1273, '가세/Noun': 43, '들어왔는데/Verb': 618, '안내/Noun': 1356, '커녕/Noun': 2072, '인사/Noun': 1702, '셋팅/Noun': 1186, '우리/Noun': 1590, '늦게/Verb': 459, '온/Noun': 1550, '해주고/Verb': 2264, '바쁜/Adjective': 927, '같아/Adjective': 100, '올려진/Verb': 1554, '물수건/Noun': 893, '가져다가/Verb': 54, '썼더니/Verb': 1290, '그거/Noun': 245, '아니라면서/Adjective': 1323, '옆팀/Noun': 1525, '보는/Verb': 981, '던지시더라구요/Verb': 536, '몰랐다고/Verb': 859, '죄송하다고/Adjective': 1906, '놀랬으면/Adjective': 437, '대화/Noun': 526, '중단/Noun': 1929, '했을까요/Verb': 2290, '맛있긴한데/Adjective': 735, '협소/Noun': 2298, '흠/Noun': 2333, '비해/Verb': 1091, '평범해요/Adjective': 2146, '라고/Josa': 656, '와인/Noun': 1562, '사갔는데/Verb': 1110, '오프너/Noun': 1548, '제공/Noun': 1854, '하더라구요/Verb': 2196, '음식점/Noun': 1631, '이런/Modifier': 1661, '경우/Noun': 149, '당황/Noun': 509, '했지만/Verb': 2292, '불판앞/Noun': 1059, '따먹었습니다/Verb': 629, 'ㅋㅋㅋㅋ/KoreanParticle': 11, '민망했어요/Adjective': 913, '하하/Noun': 2218, '맛있/Adjective': 730, '다기/Noun': 468, '두꺼운/Adjective': 580, '맛있다는/Adjective': 742, '인상/Noun': 1703, '강했고/Adjective': 94, '하자/Noun': 2214, '면/Josa': 835, '껍데기/Noun': 333, '특별했으면/Adjective': 2121, '걸/Noun': 135, '충분/Noun': 2043, '임대료/Noun': 1723, '때문/Noun': 640, '미식/Noun': 906, '불모/Noun': 1048, '훌륭하다/Adjective': 2325, '추천/Noun': 2038, '먹을거면/Verb': 820, '말고/Josa': 718, '먹고싶었으나/Verb': 786, '늦은/Verb': 460, '품절/Noun': 2161, '부근/Noun': 1018, '찾기/Noun': 2006, '힘들어서/Adjective': 2342, '않았지만/Verb': 1384, '부실하고/Adjective': 1028, '구워주는것도/Verb': 211, '설렁설렁/Adverb': 1173, '프리미엄/Noun': 2166, '많기/Adjective': 708, '재/Noun': 1794, '먹음/Noun': 824, '안되는/Adjective': 1357, '찐/Verb': 1988, '인정/Noun': 1709, '맞게/Verb': 763, '터지는/Verb': 2098, '길었지만/Adjective': 309, '충분히/Adjective': 2045, '한/Modifier': 2222, '이었어요/Verb': 1677, '지저분합니다/Adjective': 1950, '인터넷/Noun': 1712, '찾아갔는데/Verb': 2010, '한정/Noun': 2233, '왔습니다/Verb': 1570, '주방/Noun': 1917, '에서의/Josa': 1500, '있었지만/Adjective': 1751, '그걸/Adverb': 246, '극복/Noun': 275, '하네요/Verb': 2186, '지역/Noun': 1944, '지오다노/Noun': 1945, '뒷골목/Noun': 592, '프랜차이즈/Noun': 2163, '즐비하고/Adjective': 1933, '먹을/Verb': 819, '없었는데/Adjective': 1482, '생겼습니다/Verb': 1155, '상당한데/Adjective': 1142, '구워주니까/Verb': 212, '더욱/Noun': 531, '마음/Noun': 685, '들었습니다/Verb': 619, '한해/Noun': 2235, '곁들여/Verb': 150, '좋아하시는/Adjective': 1891, '참고/Noun': 2000, '하세요/Verb': 2204, '저렴해/Adjective': 1808, '보이/Noun': 993, '지만/Josa': 1942, '먹다/Verb': 794, '보면/Verb': 987, '먹어서/Verb': 799, '계산/Noun': 152, '금액/Noun': 282, '이다/Josa': 1648, '하지만/Conjunction': 2216, '어디서/Adverb': 1440, '먹더라도/Verb': 796, '비쌀/Adjective': 1085, '항정/Noun': 2250, '수량/Noun': 1203, '보니/Verb': 982, '맛있으니/Adjective': 758, '감안/Noun': 76, '좋을/Adjective': 1903, '같다/Adjective': 98, '사이드/Noun': 1120, '쫀득/Noun': 1982, '게/Noun': 142, '입맛/Noun': 1728, '맞다/Verb': 765, '맘/Noun': 720, '놓고/Verb': 440, '불리/Noun': 1046, '먹어도/Verb': 798, '적당한/Adjective': 1819, '착한/Adjective': 1996, '가/Verb': 18, '맛없기/Adjective': 725, '어려운데/Adjective': 1443, '재래/Noun': 1795, '기/Noun': 285, '양파/Noun': 1430, '절임/Noun': 1834, '이런거/Adjective': 1662, '다쳐도/Verb': 482, '퍽퍽함/Noun': 2137, '자르는/Verb': 1760, '비계/Noun': 1069, '있거나/Adjective': 1731, '살코기/Noun': 1133, '있었는데/Adjective': 1749, '맛없음/Adjective': 728, '찾아볼/Verb': 2011, '슈도/Noun': 1217, '없었다/Adjective': 1483, '평소/Noun': 2147, '먹고다/Verb': 784, '녀/Noun': 425, 'ㅋㅋㅋㅋㅋ/KoreanParticle': 12, '네이버/Noun': 424, '보고/Noun': 978, '무질/Noun': 875, '겨/Noun': 143, '삼킬수가/Verb': 1138, '할말은/Verb': 2240, '많지만/Adjective': 716, '않습니다/Verb': 1380, '신촌/Noun': 1258, '황소/Noun': 2313, '곱창/Noun': 176, '같음/Adjective': 108, '부담/Noun': 1019, '들으시곤/Verb': 620, '자꾸/Noun': 1758, '참여/Noun': 2001, '하시려/Verb': 2209, '번/Noun': 966, '아니기에/Adjective': 1320, '신경/Noun': 1250, '쓰이긴/Verb': 1301, '했음/Verb': 2291, '부족해서인지/Adjective': 1031, '필요한거/Adjective': 2169, '제때/Noun': 1855, '받기/Verb': 935, '힘들더라구요/Adjective': 2341, '시켰으면/Verb': 1239, '섭할/Adjective': 1176, '뻔/Noun': 1104, '했습니다/Verb': 2284, '좋았으면/Adjective': 1897, '닥/Noun': 483, '무난/Noun': 863, '맛없다/Adjective': 726, '였음/Verb': 1521, '기름/Noun': 296, '빠지는/Verb': 1095, '구조도/Noun': 225, '아니라서/Adjective': 1324, '안타/Noun': 1368, '수가/Noun': 1201, '바쁘고/Adjective': 926, '방치/Noun': 947, '당하기/Adjective': 506, '쉽습니다/Verb': 1216, '질긴/Verb': 1965, '당해서/Adjective': 508, '겨진/Verb': 144, '아쉬웠습니다/Adjective': 1339, '당하다가/Adjective': 507, '집게/Noun': 1968, '라도/Josa': 659, '십사/Noun': 1270, '여쭤/Verb': 1511, '젓가락/Noun': 1842, '뒤집으면/Verb': 591, '된다고/Verb': 570, '하셔서/Verb': 2205, '튀고/Verb': 2113, '많고/Adjective': 707, '무슨/Modifier': 869, '먹었는지/Verb': 805, '모르겠어요/Verb': 847, '가서/Verb': 41, '시킬/Verb': 1243, '없었/Adjective': 1481, '많다/Adjective': 709, '써줌/Verb': 1288, '질기/Verb': 1964, '맛있었는데/Adjective': 753, '요새/Noun': 1582, '안가요/Verb': 1351, '저/Determiner': 1797, '세상/Noun': 1181, '잡내/Verb': 1776, '고무/Noun': 165, '첫/Modifier': 2022, '뱉고싶은/Verb': 960, '심정/Noun': 1266, '심하고/Adjective': 1267, '턱/Noun': 2101, '갑니다/Verb': 81, 'ㅅ/KoreanParticle': 4, '바/Noun': 920, '인성/Noun': 1705, '무엇/Noun': 871, '괜찮았어요/Adjective': 189, '많은/Adjective': 712, '마시면서/Verb': 683, '안주/Noun': 1366, '나쁘지/Adjective': 361, '않지만/Verb': 1390, '예민하지/Adjective': 1528, '점점/Noun': 1839, '오르구/Verb': 1541, '판이/Noun': 2133, '라/Josa': 655, '느끼하고/Adjective': 450, '찬/Noun': 1998, '어/Eomi': 1432, '난/Noun': 378, '아래/Noun': 1332, '않은/Verb': 1385, '후기/Noun': 2320, '있네/Adjective': 1734, '한건데/Verb': 2224, '어느/Modifier': 1435, '구/Modifier': 197, '우지/Noun': 1594, '언능/Adverb': 1458, '야함/Adjective': 1411, '튀기듯이/Verb': 2114, '볶고/Verb': 1002, '자시/Noun': 1762, '가져다/Verb': 53, '주는데/Verb': 1913, '부턴/Josa': 1036, '최대한/Noun': 2032, '백프로/Noun': 958, '좋아하는데/Adjective': 1889, '살면서/Verb': 1128, '나가는/Verb': 350, '알았음/Verb': 1401, '타이어/Noun': 2090, '식/Suffix': 1245, '감/Noun': 70, '깊은/Adjective': 311, '냄비/Noun': 401, '데/Noun': 541, '구워서/Verb': 207, '빠져나가는/Verb': 1093, '구조/Noun': 224, '국/Noun': 226, '먹는줄/Verb': 793, '빼/Noun': 1100, '달라/Noun': 495, '국자/Noun': 228, '일일이/Noun': 1719, '떠주는데/Verb': 645, '그래도/Adverb': 255, '쩔어있고/Verb': 1979, '앵/Adverb': 1408, '간하면/Verb': 65, '나가는줄/Verb': 351, '알았습니다/Verb': 1400, '씹다/Verb': 1307, '뱉다/Verb': 961, '유명해진만큼/Adjective': 1614, '제품/Noun': 1860, '썼으면/Verb': 1291, '덕분/Noun': 535, '한동안/Adverb': 2229, '쳐다볼듯/Verb': 2028, 'ㄷㄷㄷ/KoreanParticle': 1, '질겅질겅/Noun': 1962, '빠지/Verb': 1094, '믄/Modifier': 903, '모/Noun': 843, '둠을/Verb': 588, '시켰는데/Verb': 1237, '맛있었다/Adjective': 754, '그런데/Conjunction': 266, '먹고나니/Verb': 781, '니글거렸음/Noun': 462, '기름기/Noun': 297, '많음/Adjective': 713, '냅고/Verb': 403, '콩나물국/Noun': 2080, '비린내가/Adjective': 1074, '남/Noun': 381, '나오는/Verb': 366, '빨랐고/Adjective': 1097, '구워져서/Verb': 208, '비교/Noun': 1070, '덜/Noun': 537, '집중/Noun': 1969, '나은듯/Verb': 374, '친절하시다/Adjective': 2066, '있다는/Adjective': 1740, '믿기지/Verb': 915, '않음/Verb': 1389, '인근/Noun': 1698, '찾는다면/Verb': 2007, '떡/Noun': 646, '도리/Noun': 547, '탕/Noun': 2093, '맛있댜/Noun': 745, '메인/Noun': 833, '하게/Verb': 2173, '되요/Verb': 567, '감자/Noun': 77, '채전은/Verb': 2014, '두툼/Noun': 584, '바삭바삭/Adverb': 929, '포슬포슬/Adverb': 2153, '케찹/Noun': 2073, '찍어/Verb': 1987, '먹어야/Verb': 800, '맛있은데/Adjective': 759, '자극/Noun': 1757, '일수/Noun': 1718, '닭볶음탕/Noun': 500, '이지/Josa': 1685, '않나요/Verb': 1375, '먹죠/Verb': 827, '맛있어하는/Adjective': 751, '충격/Noun': 2042, '닭도리탕/Noun': 499, '기대하는/Adjective': 293, '감자전/Noun': 78, '튀김전인지/Verb': 2117, '몰라서/Verb': 858, '딱딱하고/Adjective': 632, '맛없어서/Adjective': 727, '짜요/Verb': 1971, '떡볶이/Noun': 647, '있는건/Adjective': 1737, '둘째/Noun': 586, '치고/Josa': 2050, '더움/Noun': 533, '마스크/Noun': 681, '씀/Verb': 1303, 'ㅎㅎㅎ/KoreanParticle': 15, '붙어있는/Verb': 1063, '떼는거/Verb': 651, '맨손/Noun': 774, 'ㅎㅎㅎㅎ/KoreanParticle': 16, '숟가락/Noun': 1209, '가져다줄/Verb': 55, '씻은/Verb': 1310, '닿는/Verb': 510, '부분/Noun': 1026, '잡아서/Verb': 1778, '고요/Noun': 171, '씻는거/Verb': 1309, '보였네요/Verb': 992, '힐끔/Noun': 2338, '에서도/Josa': 1499, '껴요/Verb': 334, '감각/Noun': 71, '제로/Noun': 1856, '밤/Noun': 939, '술취해/Noun': 1214, '가면/Noun': 39, '보일테니까/Verb': 996, '취하/Noun': 2047, '시/Noun': 1225, '드세용/Verb': 599, '낮/Noun': 393, '에가/Josa': 1493, '서/Verb': 1160, '토/Noun': 2106, '뻔햇/Noun': 1107, '내/Determiner': 394, '부가/Noun': 1017, '어어/Noun': 1446, '무/Noun': 862, '덥다/Adjective': 539, '가스/Noun': 44, '버너/Noun': 963, '이어서/Josa': 1672, '그래도/Adjective': 254, '실내/Noun': 1259, '온도/Noun': 1551, '내려가지를/Verb': 397, '에어컨/Noun': 1501, '새로/Adjective': 1147, '사세요/Verb': 1118, '닭고기/Noun': 498, '가슴/Noun': 45, '기준/Noun': 305, '반/Modifier': 931, '마리/Noun': 677, '들어가는데/Verb': 610, '살이었음/Verb': 1130, '개개/Noun': 112, '개/Suffix': 111, '미쳤고/Adjective': 909, '안퍽퍽해/Noun': 1369, '와/Verb': 1558, '국물/Noun': 227, '친절해요/Adjective': 2068, '대신/Noun': 518, '쪼금/Noun': 1980, '아쉬운건/Adjective': 1336, '빵빵/Noun': 1099, '더워요/Adjective': 534, '빼곤/Verb': 1102, '오고싶을/Verb': 1536, '페이/Noun': 2138, '가맹/Noun': 38, '아님/Adjective': 1331, '문/Noun': 881, '스티커/Noun': 1221, '붙어있는데/Verb': 1064, '안된다고/Adjective': 1358, '상품권/Noun': 1146, '못/Noun': 860, '쓰니/Verb': 1299, '헛수/Noun': 2294, '왔다가/Verb': 1569, '다시/Noun': 477, '오/Modifier': 1534, '려고/Noun': 665, '즐겨찾기/Noun': 1931, '지움/Verb': 1947, '평일/Noun': 2149, '저녁/Noun': 1799, '술집/Noun': 1213, '가까/Adjective': 25, '특이한거/Adjective': 2125, '들어간거라고/Verb': 614, '될듯/Verb': 573, '해놓고/Verb': 2253, '영수증/Noun': 1522, '두/Josa': 577, '안주시/Noun': 1367, '냈는데/Verb': 405, '고의/Noun': 173, '모르겠네요/Verb': 845, '학생/Noun': 2219, '좋아할/Adjective': 1892, '맵/Noun': 776, '않고/Verb': 1373, '달달/Noun': 494, '부드러움/Noun': 1021, '술안주/Noun': 1212, '채전/Verb': 2013, '튀김전이어서/Verb': 2116, '스타일/Noun': 1220, '이었구/Verb': 1675, '적절하게/Adjective': 1825, '맵구/Verb': 777, '콩나물/Noun': 2079, '맛있어/Adjective': 747, '욤/Noun': 1584, '적당했습니다/Adjective': 1820, '대기/Noun': 514, '업음/Verb': 1464, '대충/Noun': 522, '들어갔다가/Verb': 615, '감사합니당/Verb': 75, '어후/Noun': 1456, '먹고는/Verb': 783, '안될/Adjective': 1359, '마실/Verb': 684, '터질거/Verb': 2099, '하면서/Verb': 2203, '나오면서도/Verb': 368, '오자/Noun': 1546, '나왔네요/Verb': 372, '인가/Josa': 1694, '아닌데/Adjective': 1329, '진심/Noun': 1959, '고소하니/Adjective': 169, '든든했어요/Adjective': 602, '모/Modifier': 842, '듬/Noun': 622, '구이/Noun': 223, '적당하고/Adjective': 1817, '적당하네요/Adjective': 1818, '강/Noun': 89, '추해요/Adjective': 2039, '대창/Noun': 521, '이었는데/Verb': 1676, '맞고/Verb': 764, '좋았어요/Adjective': 1896, '든든히/Adjective': 603, '보단/Josa': 986, '기고/Noun': 286, '나무/Noun': 357, '이라니/Josa': 1653, '종이컵/Noun': 1876, '어디/Noun': 1439, '포장마차/Noun': 2154, '먹는것도/Verb': 791, '맛있어여/Adjective': 749, '곱/Noun': 175, '가득가득/Adverb': 34, '맛있기도/Adjective': 734, '대/Modifier': 511, '파김치/Noun': 2132, '느끼한/Adjective': 451, '잡아주는/Verb': 1779, '콜라/Noun': 2077, '드시는/Verb': 601, '강츄/Noun': 93, '단/Noun': 487, '짠단/Verb': 1976, '짠/Verb': 1975, '가능/Noun': 31, '문래동/Noun': 882, '만족해서/Adjective': 703, '간/Noun': 60, '배신/Noun': 953, '하질/Verb': 2217, '믿고/Verb': 914, '강추/Noun': 92, '통통하고/Adjective': 2109, '쫄깃한데/Noun': 1983, '신선한/Adjective': 1256, '쓰시는거/Verb': 1300, '싹싹/Noun': 1283, '먹었네요/Verb': 803, '그치만/Verb': 274, '가득해서/Adjective': 35, '고소해요/Adjective': 170, '지도/Noun': 1940, '둠/Verb': 587, '고소하고/Adjective': 168, '항상/Noun': 2249, '헤맸는데/Verb': 2295, '단골/Noun': 488, '괜찮아요/Adjective': 187, '구워지는/Verb': 219, '봐주셔서/Verb': 1013, '그렇지만/Conjunction': 271, '글/Noun': 278, '외국인/Noun': 1577, '준다면서/Verb': 1923, '잘라/Verb': 1772, '잘라주/Verb': 1773, '곸/Noun': 181, '불편했어여/Adjective': 1061, '글구/Noun': 279, '이러기/Verb': 1659, '힘든데/Adjective': 2340, '잡내가/Verb': 1777, '나는줄/Verb': 355, '알았는데/Verb': 1399, '이후/Noun': 1689, '꼈어요/Verb': 335, '할께요/Verb': 2239, '가득/Noun': 33, '차있어서/Verb': 1993, '꼬숩/Noun': 336, '술술/Noun': 1211, '들어가는/Verb': 609, '부추/Noun': 1032, '싸서/Verb': 1281, '죠/Josa': 1907, '넘마/Verb': 417, '맛있는것/Adjective': 738, '통통하니/Adjective': 2110, '테러/Noun': 2104, '하러/Verb': 2198, '가본/Verb': 40, '구려/Noun': 200, '아닌지/Adjective': 1330, '구분/Noun': 201, '마셨나/Verb': 680, '받을/Verb': 937, '불친절하고요/Adjective': 1052, '첨/Noun': 2021, '먼저/Noun': 828, '나오고/Verb': 364, '나중/Noun': 376, '불판/Noun': 1058, '니/Josa': 461, '위/Noun': 1610, '옮겨/Verb': 1555, '그러/Adjective': 259, '드/Noun': 593, '구/Noun': 198, '그래서/Adverb': 256, '비주/Noun': 1089, '얼/Noun': 1460, '똥/Noun': 654, '사진/Noun': 1123, '보시/Noun': 990, '맛있었어용/Adjective': 757, '모시고도/Verb': 852, '가려고요/Verb': 36, '구성/Noun': 203, '알차고/Adjective': 1402, '만족스럽습니다/Adjective': 701, '다음/Noun': 481, '할게요/Verb': 2237, '냉동/Noun': 406, '탑/Noun': 2092, '호일/Noun': 2300, '쓰는게/Verb': 1298, '그/Noun': 244, '고유/Noun': 172, '굿굿/Noun': 238, '친절하세요/Adjective': 2060, '어딜/Adverb': 1441, '가나/Noun': 27, '어쩔/Modifier': 1453, '없다고/Adjective': 1474, '갔을/Verb': 88, '친절하셨음/Adjective': 2064, '부시/Noun': 1027, '싶을/Verb': 1274, '돈가스/Noun': 551, '왔을/Verb': 1572, '친절하/Adjective': 2056, '셧/Noun': 1187, '용/Noun': 1586, '싼/Verb': 1284, '예민하/Adjective': 1527, '신분/Noun': 1255, '들께는/Verb': 606, '날수/Noun': 380, '원인/Noun': 1604, '거치곤/Verb': 129, '먹었/Verb': 802, '습/Noun': 1224, '니당/Verb': 464, '주전자/Noun': 1919, '우동/Noun': 1589, '많아요/Adjective': 711, '모르겠는데/Verb': 846, '되고/Verb': 564, '안경/Noun': 1353, '안끼/Noun': 1354, '조끼/Noun': 1863, '패딩/Noun': 2134, '입는/Verb': 1726, 'ㅈㄴ/KoreanParticle': 6, '밥맛/Noun': 942, '떨어질/Verb': 649, '이상/Noun': 1669, '해야하고/Verb': 2260, '변두리/Noun': 971, '까지와/Josa': 315, '이유/Noun': 1681, '알맞은/Adjective': 1395, '로는/Josa': 667, '않았으나/Verb': 1383, '불친절해요/Adjective': 1057, '저렴하더라도/Adjective': 1803, '적게/Verb': 1812, '시킨것도/Verb': 1242, '찌개/Noun': 1985, '들어가자마자/Verb': 612, '이용/Noun': 1680, '없었습니다/Adjective': 1484, '선/Noun': 1170, '밑반찬/Noun': 919, '및/Noun': 917, '수저/Noun': 1205, '셀프/Noun': 1184, '미리/Noun': 905, '상관/Noun': 1140, '없었지만/Adjective': 1485, '합니다/Verb': 2246, '주/Noun': 1909, '턱스/Noun': 2102, '크/Verb': 2082, '아니면/Adjective': 1325, '벗고/Verb': 967, '상대/Noun': 1144, '만지고있지/Verb': 705, '않나/Verb': 1374, '시켰더니/Verb': 1238, '돼있도/Verb': 559, '깻잎/Noun': 331, '노른자/Noun': 428, '비빈/Verb': 1075, '하니/Noun': 2192, '없다하고/Adjective': 1476, '그럼/Adjective': 269, '간/Suffix': 61, '해주던가/Verb': 2267, '드셔/Verb': 600, '보세요/Verb': 988, '세게/Verb': 1179, '이라서/Josa': 1655, '라는/Josa': 657, '액션/Noun': 1407, '들어올/Verb': 616, '눈/Noun': 447, '는커녕/Josa': 456, '사는/Verb': 1113, '생활/Noun': 1157, '인/Suffix': 1693, '으로서/Josa': 1624, '드는/Verb': 594, '대의/Noun': 519, '조용한/Adjective': 1866, '룸/Noun': 669, '하겠다는/Verb': 2174, '신기하다/Adjective': 1252, '거짓말/Noun': 128, '하시나요/Verb': 2206, '오십분/Noun': 1545, '걸린/Verb': 136, '기다릴/Verb': 290, '만큼/Noun': 706, '셀프서비스/Noun': 1185, '이진/Noun': 1687, '않네여/Verb': 1377, '하는데/Verb': 2191, '들어가구/Verb': 608, '먹고싶진/Verb': 788, '않네요/Verb': 1378, '모임/Noun': 854, '원해서/Adjective': 1605, '예/Modifier': 1526, '약/Modifier': 1412, '맞춰서/Verb': 766, '방이/Noun': 946, '없냐고/Adjective': 1468, '하니까/Verb': 2194, '했어도/Verb': 2285, '할수/Verb': 2241, '고함/Noun': 174, '그게/Noun': 247, '이냐/Josa': 1646, '물으니/Verb': 897, '해도/Noun': 2255, '시스템/Noun': 1233, '하냐/Verb': 2185, '의미/Noun': 1634, '없지/Adjective': 1490, '않냐/Verb': 1376, '봄/Noun': 1010, '돌아오는/Verb': 555, '답변/Noun': 501, '어쩔/Adverb': 1452, '어떻게/Adjective': 1442, '저런/Noun': 1800, '장사/Noun': 1787, '할수있나싶네요/Verb': 2242, '아무런/Adjective': 1335, '아예/Noun': 1343, '밖에/Josa': 930, '가시는거라면/Verb': 47, '다른/Modifier': 472, '심/Noun': 1265, '불만/Noun': 1047, '돈까스/Noun': 552, '배식/Noun': 952, '대/Suffix': 512, '엥꼬나/Noun': 1504, '군대/Noun': 229, '서서/Noun': 1165, '하던것처럼/Verb': 2197, '기다려서/Verb': 287, '받음/Verb': 938, '이랬으면/Adjective': 1658, '개지/Noun': 116, '땅/Noun': 637, '하는건/Verb': 2189, '존중/Noun': 1871, '받고/Verb': 934, '있다/Adjective': 1739, '제외/Noun': 1858, '으로만/Josa': 1623, '따져도/Verb': 630, '화장실/Noun': 2309, '이었고/Verb': 1674, '앉아도/Verb': 1371, '심해서/Adjective': 1269, '놀람/Noun': 435, '앞치마/Noun': 1404, '지저분하고/Adjective': 1949, '유튜브/Noun': 1615, '인스타/Noun': 1706, '나오다/Verb': 367, '서고/Noun': 1161, '끝내줌/Adjective': 344, '차돌박이/Noun': 1991, '두꺼운듯/Adjective': 581, '저렴하고/Adjective': 1802, '둘이가면/Verb': 585, '터짐/Verb': 2100, '써/Verb': 1287, '사실/Noun': 1119, '인이가도/Verb': 1708, '시키셔야/Verb': 1241, '됩니다/Verb': 575, '홍보/Noun': 2305, '거짓/Noun': 127, '솔직한가/Adjective': 1197, '격인/Noun': 146, '워/Noun': 1600, '싼데/Verb': 1286, '하시는건/Verb': 2207, '아닌것/Adjective': 1328, '같습니다/Adjective': 99, '좋습니다만/Adjective': 1886, '냉삼/Noun': 408, '그다지/Noun': 250, '좋다고는/Adjective': 1883, '없습니다/Adjective': 1478, '그야말로/Adverb': 273, '갈만/Verb': 68, '머리/Noun': 778, '하나로/Noun': 2183, '묶은/Verb': 880, '긴/Verb': 307, '어깨/Noun': 1434, '넘었음/Verb': 419, '여자/Noun': 1510, '익은게/Verb': 1691, '보이는데/Verb': 995, '더니/Noun': 530, '기다리라는/Verb': 289, '넘게/Verb': 416, '오시길래/Verb': 1543, '물어보니/Verb': 894, '익은거라고/Verb': 1690, '상/Suffix': 1139, '보이는/Verb': 994, '보여주니/Verb': 991, '쎄게/Adjective': 1292, '틀어주고/Verb': 2127, '가시던데/Verb': 48, '타고/Noun': 2089, '구웠어요/Verb': 221, '이럴꺼면/Adjective': 1663, '구울/Noun': 205, '껄/Noun': 332, '그랬어요/Adjective': 258, '해줌/Verb': 2273, '핸드폰/Noun': 2277, '무선/Noun': 867, '충전/Noun': 2046, '충/Noun': 2041, '마포/Noun': 690, '이어/Verb': 1671, '정갈하게/Adjective': 1843, '홀/Noun': 2304, '계신/Adjective': 154, '착용/Noun': 1995, '아무/Noun': 1334, '안함/Noun': 1370, '시국/Noun': 1227, '불안/Noun': 1050, '하니/Verb': 2193, '좋았다/Adjective': 1894, '구워주는/Verb': 210, '적다/Verb': 1816, '적음/Verb': 1824, '차는/Verb': 1989, '가기/Noun': 24, '맛맛/Noun': 724, '다시는/Verb': 478, '가고싶지/Verb': 22, '화난/Noun': 2307, '태우듯이/Verb': 2095, '얇고/Adjective': 1416, '취향/Noun': 2048, '라면/Noun': 660, '의아/Noun': 1635, '종로/Noun': 1874, '신년/Noun': 1253, '회/Noun': 2315, '괜찮다고/Adjective': 186, '찌게/Noun': 1986, '등/Noun': 624, '입사/Noun': 1729, '동기/Noun': 556, '무서워요/Adjective': 866, '두껍/Adjective': 582, '삼/Noun': 1135, '임데/Verb': 1724, '얇아요/Adjective': 1418, '그럴지도/Adjective': 268, '모르니/Verb': 849, '와서/Verb': 1560, '수정/Noun': 1206, '안좋습니다/Adjective': 1364, '울/Modifier': 1597, '아/Josa': 1312, '서하/Noun': 1168, '당연하다는듯이/Adjective': 504, '먹었으면/Verb': 809, '함께/Adverb': 2244, '한다는/Modifier': 2228, '어이/Noun': 1447, '황제/Noun': 2314, '세트/Noun': 1182, '합/Noun': 2245, '구어주는데/Adjective': 204, '숯/Noun': 1215, '약해/Adjective': 1414, '흐물흐물/Noun': 2331, '급하게/Adjective': 283, '갔는데도/Verb': 85, '해주시/Noun': 2269, '먹다가/Verb': 795, '보내고/Verb': 980, '만들어주셔서/Verb': 698, '세팅/Noun': 1183, '완료/Noun': 1564, '준비/Noun': 1924, '해주셨고/Verb': 2268, '끝/Noun': 343, '구워주셨어요/Verb': 215, '고를줄/Verb': 164, '봤는데/Verb': 1014, '고르도록/Verb': 163, '도와주시고/Verb': 548, '배고/Verb': 949, '좋더라고요/Adjective': 1884, '양식/Noun': 1428, '특유/Noun': 2124, '코/Noun': 2074, '맴/Noun': 775, '돌아서/Verb': 554, '차돌/Noun': 1990, '이제/Noun': 1684, '해주시고/Verb': 2270, '나가셨습니다/Verb': 352, '적네라고/Verb': 1815, '하며/Verb': 2201, '하였습니다/Verb': 2212, '화로/Noun': 2308, '기존/Noun': 304, '구웠던/Verb': 220, '와/Josa': 1557, '가져가/Verb': 52, '나가기/Verb': 349, '가려는데/Verb': 37, '공간/Noun': 179, '한참/Noun': 2234, '남아있는/Verb': 386, '접시/Noun': 1841, '놓여있어서/Verb': 441, '직/Noun': 1955, '불러도/Verb': 1043, '오시/Noun': 1542, '된장찌개/Noun': 572, '평이/Noun': 2148, '의외/Noun': 1636, '였어여/Verb': 1518, '경/Modifier': 148, '천/Modifier': 2017, '애인/Noun': 1405, '가는게/Verb': 30, '정원/Noun': 1850, '끼/Noun': 345, '였다/Verb': 1517, '편했다/Adjective': 2144, '오랫/Modifier': 1540, '의향/Noun': 1638, '맛있고요/Adjective': 733, '깔끔해요/Adjective': 323, '싱싱한/Adjective': 1271, '완도/Noun': 1563, '산/Noun': 1126, '활/Noun': 2312, '전/Modifier': 1826, '복의/Noun': 999, '꿈틀/Noun': 342, '거림/Noun': 125, '깜짝/Noun': 326, '놀라실/Verb': 433, '보기/Noun': 979, '힘든/Adjective': 2339, '예쁜/Adjective': 1529, '크고/Verb': 2084, '작은/Adjective': 1766, '프라이/Noun': 2162, '빗룸/Noun': 1092, '글쎄/Noun': 280, '말씀/Noun': 719, '자랑/Noun': 1759, '이라고는/Josa': 1652, '투뿔/Noun': 2112, '없다네요/Adjective': 1475, '웃음/Noun': 1599, '선사/Noun': 1171, '해/Verb': 2252, '주는/Verb': 1912, '백억/Noun': 957, '누/Noun': 442, '야간/Noun': 1409, '이쁘고/Adjective': 1668, '만족하셨어요/Adjective': 702, '있어/Adjective': 1745, '놀라웠고/Adjective': 434, '하기에도/Verb': 2180, '적극/Noun': 1814, '먹은게/Verb': 818, '꽃/Noun': 339, '통/Noun': 2108, '물냉/Noun': 891, '아이스크림/Noun': 1344, '먹었다/Verb': 806, '융숭/Noun': 1621, '대접/Noun': 520, '감사한다/Verb': 73, '인테리어/Noun': 1713, '식탁/Noun': 1249, '배치도/Noun': 955, '듦/Verb': 621, '깨끗하게/Adjective': 328, '되어/Verb': 566, '층집/Noun': 2049, '좋은고/Adjective': 1901, '먹으며/Verb': 813, '연인/Noun': 1515, '즐거운/Adjective': 1930, '추억/Noun': 2037, '만들수있는/Verb': 697, '나물/Noun': 358, '와사비/Noun': 1559, '모양/Noun': 853, '나온다/Verb': 370, '드립니다/Verb': 597, '맛있당/Adjective': 744, '싸/VerbPrefix': 1276, '마치/Noun': 689, '얇음/Adjective': 1420, '절대/Noun': 1833, '덩어리/Noun': 540, '없는건/Adjective': 1471, '해물탕/Noun': 2256, '시원해서/Adjective': 1234, '할께/Verb': 2238, '욧/Noun': 1585, '미쳤습니다/Adjective': 911, '묵직하고/Adjective': 879, '디저트/Noun': 627, '우유/Noun': 1593, '남녀/Noun': 384, '노소/Noun': 429, '불문/Noun': 1049, '즐길/Verb': 1932, '체인/Noun': 2026, '교대/Noun': 195, '수도/Noun': 1202, '뭔가/Noun': 901, '작고/Noun': 1765, '장인어른/Noun': 1792, '장모님/Noun': 1786, '간곳/Noun': 62, '왠만해/Adjective': 1574, '장인/Noun': 1791, '장모/Noun': 1785, '극찬/Noun': 276, '없던/Adjective': 1477, '솔직히/Adjective': 1198, '였으나/Verb': 1520, '딱이였는지/Adjective': 633, '굉장히/Adjective': 194, '시켜/Verb': 1236, '본것/Verb': 1007, '대패/Noun': 524, '씹는/Verb': 1306, '식/Noun': 1244, '감도/Verb': 72, '나름/Noun': 356, '훌륭했고/Adjective': 2328, '얇디/Adjective': 1417, '얇은/Adjective': 1419, '충분한/Adjective': 2044, '년대/Noun': 426, '가정/Noun': 51, '들어/Verb': 607, '포근했고/Adjective': 2152, '다소/Noun': 476, '시끄러운것/Adjective': 1229, '뺴/Noun': 1103, '방법/Noun': 944, '알려주/Verb': 1394, '장난/Noun': 1784, '엄마/Noun': 1462, '해준거/Verb': 2271, '보다/Verb': 984, '미안/Noun': 907, '생/Noun': 1151, '사먹을/Verb': 1117, '드럽게/Adjective': 595, '여/Josa': 1505, '댓글단/Verb': 528, '적은/Verb': 1822, '누가/Noun': 443, '사준다/Verb': 1122, '딴데가세요/Verb': 635, '평점/Noun': 2150, '조작/Noun': 1867, '맙시/Noun': 721, '양대/Modifier': 1425, '창집/Noun': 2005, '최근/Noun': 2031, '역/Noun': 1513, '보셈/Verb': 989, '븐/Noun': 1065, '뭐해/Noun': 900, '냠냠/Adverb': 409, '있다니/Adjective': 1741, '리알/Noun': 673, '슬픔/Noun': 1223, '주셔서/Verb': 1918, '편안하게/Adjective': 2140, '준/Noun': 1922, '사건/Noun': 1111, '쓰/Verb': 1295, '완벽한/Adjective': 1566, '지점/Noun': 1951, '아주머니/Noun': 1346, '불친절해서/Adjective': 1056, '가고/Verb': 21, '싶지/Verb': 1275, '특/Noun': 2118, '양/Modifier': 1422, '창/Noun': 2002, '났어요/Verb': 392, '그런지/Adjective': 267, '관리/Noun': 183, '하시는것/Verb': 2208, '쎈/Adjective': 1293, '맨/Noun': 773, '해줄/Verb': 2272, '의자/Noun': 1637, '비눗물/Noun': 1071, '흩/Verb': 2337, '뿌려져/Verb': 1109, '닦았습니다/Verb': 486, '꽤/Noun': 340, '태우고/Verb': 2094, '찾을/Verb': 2012, '없이/Adverb': 1488, '퐁퐁뿌리/Noun': 2157, '거품/Noun': 130, '내서/Verb': 400, '문지르더니/Verb': 884, '휴지/Noun': 2330, '헹주같은겅려/Noun': 2297, '쓱/Noun': 1302, '닦아내고/Verb': 485, '청소/Noun': 2025, '하는거/Verb': 2188, '냅킨/Noun': 404, '물/Noun': 890, '묻혀서/Verb': 889, '닦아/Verb': 484, '누렇데/Noun': 445, '묻어/Verb': 886, '바꾸고/Verb': 921, '밥그릇/Noun': 941, '올려/Verb': 1553, '두고/Verb': 578, '퐁퐁/Noun': 2156, '옆/Noun': 1524, '하다가/Verb': 2195, '잔뜩/Noun': 1768, '묻은/Verb': 888, '장갑/Noun': 1783, '뒤집어주시는데/Verb': 590, '묻고/Verb': 885, '묻었/Verb': 887, '막창/Noun': 692, '부른줄/Verb': 1024, '알았네요/Verb': 1398, '가심/Verb': 49, '안성맞춤/Noun': 1361, '착함/Adjective': 1997, '특양/Noun': 2123, '곱창전골/Noun': 177, '런/Noun': 663, '클리어/Noun': 2086, '시끄럽다/Adjective': 1231, '김희/Noun': 310, '상당히/Adjective': 1143, '우십니다/Verb': 1591, '무시/Noun': 870, '짜증나는건/Adjective': 1974, '나빴는데/Adjective': 359, '검정색/Noun': 138, '까지만/Josa': 314, '쓰고/Verb': 1296, '나이/Noun': 375, '있으시던/Adjective': 1754, '대가/Noun': 513, '높아서/Adjective': 438, '열심히/Adverb': 1516, '설명/Noun': 1174, '해주더니/Verb': 2266, '고기만/Noun': 160, '마감/Noun': 674, '하신다/Verb': 2211, '먹고나서/Verb': 782, '싶어/Verb': 1272, '아쉬웠지만/Adjective': 1341, '사회/Noun': 1124, '영업/Noun': 1523, '가능하고/Adjective': 32, '또한/Noun': 653, '했/Verb': 2278, '음/Noun': 1628, '인지/Noun': 1711, '했으므로/Verb': 2288, '대해/Noun': 525, '서는/Verb': 1162, '류/Noun': 670, '친절하게/Adjective': 2057, '핵노맛/Noun': 2276, '깔끔친절죤맛/Noun': 318, '주말/Noun': 1915, '특선/Noun': 2122, '바쁠/Adjective': 928, '미디움/Noun': 904, '하이/Noun': 2213, '볼/Noun': 1009, '메볼/Noun': 832, '고량주/Noun': 162, '존/Noun': 1869, '맡/Verb': 767, '친절해서/Adjective': 2067, '비도/Noun': 1073, '많이/Modifier': 715, '서/Modifier': 1159, '한꺼/Verb': 2225, '시키는걸/Verb': 1240, '마셔/Verb': 679, '아마도/Adverb': 1333, '괜찮을듯/Adjective': 192, '생겨서/Verb': 1154, '깨끗한/Adjective': 330, '지켜봤는데/Verb': 1952, '깨끗이/Adverb': 327, '하길래/Verb': 2181, '신뢰/Noun': 1254, '병/Noun': 976, '당/Modifier': 502, '좋다/Adjective': 1882, '해주는/Verb': 2265}\n"
     ]
    }
   ],
   "source": [
    "# 확인\n",
    "print(index_vectorizer.vocabulary_)"
   ]
  },
  {
   "cell_type": "code",
   "execution_count": 346,
   "metadata": {},
   "outputs": [
    {
     "name": "stdout",
     "output_type": "stream",
     "text": [
      "너무 맛있어요\n",
      "  (0, 411)\t1\n",
      "  (0, 750)\t1\n"
     ]
    }
   ],
   "source": [
    "print(df['ko_text'].values[0])\n",
    "print(X[0])"
   ]
  },
  {
   "cell_type": "code",
   "execution_count": 347,
   "metadata": {},
   "outputs": [],
   "source": [
    "# 변환기\n",
    "from sklearn.feature_extraction.text import TfidfTransformer\n",
    "\n",
    "# TF-IDF 방법으로, 형태소를 벡터 형태 데이터로 변환\n",
    "tfidf_vectorizer = TfidfTransformer()\n",
    "X = tfidf_vectorizer.fit_transform(X)"
   ]
  },
  {
   "cell_type": "code",
   "execution_count": 348,
   "metadata": {},
   "outputs": [
    {
     "name": "stdout",
     "output_type": "stream",
     "text": [
      "(372, 2343)\n",
      "  (0, 411)\t0.6576785255639858\n",
      "  (0, 750)\t0.7532987169854876\n"
     ]
    }
   ],
   "source": [
    "print(X.shape)\n",
    "print(X[0])"
   ]
  },
  {
   "cell_type": "code",
   "execution_count": 349,
   "metadata": {},
   "outputs": [
    {
     "name": "stdout",
     "output_type": "stream",
     "text": [
      "  (0, 411)\t0.6576785255639858\n",
      "  (0, 750)\t0.7532987169854876\n",
      "  (1, 430)\t0.7071067811865476\n",
      "  (1, 431)\t0.7071067811865476\n",
      "  (2, 1888)\t1.0\n",
      "  (3, 178)\t0.3042004605770822\n",
      "  (3, 933)\t0.4174595892176754\n",
      "  (3, 1470)\t0.43039286289644935\n",
      "  (3, 1640)\t0.19025362148557404\n",
      "  (3, 1845)\t0.5225666594189886\n",
      "  (3, 2334)\t0.4885480536221607\n",
      "  (4, 131)\t0.27027309313102715\n",
      "  (4, 383)\t0.27027309313102715\n",
      "  (4, 411)\t0.14027794721287554\n",
      "  (4, 527)\t0.24019504854904306\n",
      "  (4, 544)\t0.10095305374438543\n",
      "  (4, 625)\t0.23051208095882778\n",
      "  (4, 642)\t0.27027309313102715\n",
      "  (4, 945)\t0.27027309313102715\n",
      "  (4, 1022)\t0.2526785649555473\n",
      "  (4, 1132)\t0.27027309313102715\n",
      "  (4, 1199)\t0.27027309313102715\n",
      "  (4, 1492)\t0.10860241748505198\n",
      "  (4, 1769)\t0.17740824814668021\n",
      "  (4, 1887)\t0.27027309313102715\n",
      "  :\t:\n",
      "  (371, 1154)\t0.17569017317347246\n",
      "  (371, 1163)\t0.24578160535331572\n",
      "  (371, 1191)\t0.14984365240753128\n",
      "  (371, 1226)\t0.12760302633895593\n",
      "  (371, 1254)\t0.17569017317347246\n",
      "  (371, 1492)\t0.21178997858018142\n",
      "  (371, 1562)\t0.14984365240753128\n",
      "  (371, 1640)\t0.06396445525790884\n",
      "  (371, 1713)\t0.16425290553337854\n",
      "  (371, 1848)\t0.12514862918748013\n",
      "  (371, 1879)\t0.14984365240753128\n",
      "  (371, 1882)\t0.17569017317347246\n",
      "  (371, 1894)\t0.16425290553337854\n",
      "  (371, 1900)\t0.10936311419679924\n",
      "  (371, 1940)\t0.16425290553337854\n",
      "  (371, 1952)\t0.17569017317347246\n",
      "  (371, 1958)\t0.13326349972033538\n",
      "  (371, 1998)\t0.16425290553337854\n",
      "  (371, 2025)\t0.16425290553337854\n",
      "  (371, 2078)\t0.14035252000984236\n",
      "  (371, 2181)\t0.17569017317347246\n",
      "  (371, 2230)\t0.16425290553337854\n",
      "  (371, 2255)\t0.15613803500052328\n",
      "  (371, 2265)\t0.17569017317347246\n",
      "  (371, 2324)\t0.16425290553337854\n"
     ]
    }
   ],
   "source": [
    "print(X)"
   ]
  },
  {
   "cell_type": "code",
   "execution_count": 350,
   "metadata": {},
   "outputs": [],
   "source": [
    "target = df['y']\n",
    "train_input,test_input,train_target,test_target = train_test_split(\n",
    "    X,target,test_size=0.3,random_state=42\n",
    ")"
   ]
  },
  {
   "cell_type": "code",
   "execution_count": 351,
   "metadata": {},
   "outputs": [
    {
     "name": "stdout",
     "output_type": "stream",
     "text": [
      "(260, 2343) (112, 2343)\n"
     ]
    }
   ],
   "source": [
    "print(train_input.shape,test_input.shape)"
   ]
  },
  {
   "cell_type": "code",
   "execution_count": 352,
   "metadata": {},
   "outputs": [],
   "source": [
    "# 로지스틱 회귀 모델로 구현하시오\n",
    "from sklearn.linear_model import LogisticRegression"
   ]
  },
  {
   "cell_type": "code",
   "execution_count": 353,
   "metadata": {},
   "outputs": [
    {
     "data": {
      "text/html": [
       "<style>#sk-container-id-14 {\n",
       "  /* Definition of color scheme common for light and dark mode */\n",
       "  --sklearn-color-text: black;\n",
       "  --sklearn-color-line: gray;\n",
       "  /* Definition of color scheme for unfitted estimators */\n",
       "  --sklearn-color-unfitted-level-0: #fff5e6;\n",
       "  --sklearn-color-unfitted-level-1: #f6e4d2;\n",
       "  --sklearn-color-unfitted-level-2: #ffe0b3;\n",
       "  --sklearn-color-unfitted-level-3: chocolate;\n",
       "  /* Definition of color scheme for fitted estimators */\n",
       "  --sklearn-color-fitted-level-0: #f0f8ff;\n",
       "  --sklearn-color-fitted-level-1: #d4ebff;\n",
       "  --sklearn-color-fitted-level-2: #b3dbfd;\n",
       "  --sklearn-color-fitted-level-3: cornflowerblue;\n",
       "\n",
       "  /* Specific color for light theme */\n",
       "  --sklearn-color-text-on-default-background: var(--sg-text-color, var(--theme-code-foreground, var(--jp-content-font-color1, black)));\n",
       "  --sklearn-color-background: var(--sg-background-color, var(--theme-background, var(--jp-layout-color0, white)));\n",
       "  --sklearn-color-border-box: var(--sg-text-color, var(--theme-code-foreground, var(--jp-content-font-color1, black)));\n",
       "  --sklearn-color-icon: #696969;\n",
       "\n",
       "  @media (prefers-color-scheme: dark) {\n",
       "    /* Redefinition of color scheme for dark theme */\n",
       "    --sklearn-color-text-on-default-background: var(--sg-text-color, var(--theme-code-foreground, var(--jp-content-font-color1, white)));\n",
       "    --sklearn-color-background: var(--sg-background-color, var(--theme-background, var(--jp-layout-color0, #111)));\n",
       "    --sklearn-color-border-box: var(--sg-text-color, var(--theme-code-foreground, var(--jp-content-font-color1, white)));\n",
       "    --sklearn-color-icon: #878787;\n",
       "  }\n",
       "}\n",
       "\n",
       "#sk-container-id-14 {\n",
       "  color: var(--sklearn-color-text);\n",
       "}\n",
       "\n",
       "#sk-container-id-14 pre {\n",
       "  padding: 0;\n",
       "}\n",
       "\n",
       "#sk-container-id-14 input.sk-hidden--visually {\n",
       "  border: 0;\n",
       "  clip: rect(1px 1px 1px 1px);\n",
       "  clip: rect(1px, 1px, 1px, 1px);\n",
       "  height: 1px;\n",
       "  margin: -1px;\n",
       "  overflow: hidden;\n",
       "  padding: 0;\n",
       "  position: absolute;\n",
       "  width: 1px;\n",
       "}\n",
       "\n",
       "#sk-container-id-14 div.sk-dashed-wrapped {\n",
       "  border: 1px dashed var(--sklearn-color-line);\n",
       "  margin: 0 0.4em 0.5em 0.4em;\n",
       "  box-sizing: border-box;\n",
       "  padding-bottom: 0.4em;\n",
       "  background-color: var(--sklearn-color-background);\n",
       "}\n",
       "\n",
       "#sk-container-id-14 div.sk-container {\n",
       "  /* jupyter's `normalize.less` sets `[hidden] { display: none; }`\n",
       "     but bootstrap.min.css set `[hidden] { display: none !important; }`\n",
       "     so we also need the `!important` here to be able to override the\n",
       "     default hidden behavior on the sphinx rendered scikit-learn.org.\n",
       "     See: https://github.com/scikit-learn/scikit-learn/issues/21755 */\n",
       "  display: inline-block !important;\n",
       "  position: relative;\n",
       "}\n",
       "\n",
       "#sk-container-id-14 div.sk-text-repr-fallback {\n",
       "  display: none;\n",
       "}\n",
       "\n",
       "div.sk-parallel-item,\n",
       "div.sk-serial,\n",
       "div.sk-item {\n",
       "  /* draw centered vertical line to link estimators */\n",
       "  background-image: linear-gradient(var(--sklearn-color-text-on-default-background), var(--sklearn-color-text-on-default-background));\n",
       "  background-size: 2px 100%;\n",
       "  background-repeat: no-repeat;\n",
       "  background-position: center center;\n",
       "}\n",
       "\n",
       "/* Parallel-specific style estimator block */\n",
       "\n",
       "#sk-container-id-14 div.sk-parallel-item::after {\n",
       "  content: \"\";\n",
       "  width: 100%;\n",
       "  border-bottom: 2px solid var(--sklearn-color-text-on-default-background);\n",
       "  flex-grow: 1;\n",
       "}\n",
       "\n",
       "#sk-container-id-14 div.sk-parallel {\n",
       "  display: flex;\n",
       "  align-items: stretch;\n",
       "  justify-content: center;\n",
       "  background-color: var(--sklearn-color-background);\n",
       "  position: relative;\n",
       "}\n",
       "\n",
       "#sk-container-id-14 div.sk-parallel-item {\n",
       "  display: flex;\n",
       "  flex-direction: column;\n",
       "}\n",
       "\n",
       "#sk-container-id-14 div.sk-parallel-item:first-child::after {\n",
       "  align-self: flex-end;\n",
       "  width: 50%;\n",
       "}\n",
       "\n",
       "#sk-container-id-14 div.sk-parallel-item:last-child::after {\n",
       "  align-self: flex-start;\n",
       "  width: 50%;\n",
       "}\n",
       "\n",
       "#sk-container-id-14 div.sk-parallel-item:only-child::after {\n",
       "  width: 0;\n",
       "}\n",
       "\n",
       "/* Serial-specific style estimator block */\n",
       "\n",
       "#sk-container-id-14 div.sk-serial {\n",
       "  display: flex;\n",
       "  flex-direction: column;\n",
       "  align-items: center;\n",
       "  background-color: var(--sklearn-color-background);\n",
       "  padding-right: 1em;\n",
       "  padding-left: 1em;\n",
       "}\n",
       "\n",
       "\n",
       "/* Toggleable style: style used for estimator/Pipeline/ColumnTransformer box that is\n",
       "clickable and can be expanded/collapsed.\n",
       "- Pipeline and ColumnTransformer use this feature and define the default style\n",
       "- Estimators will overwrite some part of the style using the `sk-estimator` class\n",
       "*/\n",
       "\n",
       "/* Pipeline and ColumnTransformer style (default) */\n",
       "\n",
       "#sk-container-id-14 div.sk-toggleable {\n",
       "  /* Default theme specific background. It is overwritten whether we have a\n",
       "  specific estimator or a Pipeline/ColumnTransformer */\n",
       "  background-color: var(--sklearn-color-background);\n",
       "}\n",
       "\n",
       "/* Toggleable label */\n",
       "#sk-container-id-14 label.sk-toggleable__label {\n",
       "  cursor: pointer;\n",
       "  display: block;\n",
       "  width: 100%;\n",
       "  margin-bottom: 0;\n",
       "  padding: 0.5em;\n",
       "  box-sizing: border-box;\n",
       "  text-align: center;\n",
       "}\n",
       "\n",
       "#sk-container-id-14 label.sk-toggleable__label-arrow:before {\n",
       "  /* Arrow on the left of the label */\n",
       "  content: \"▸\";\n",
       "  float: left;\n",
       "  margin-right: 0.25em;\n",
       "  color: var(--sklearn-color-icon);\n",
       "}\n",
       "\n",
       "#sk-container-id-14 label.sk-toggleable__label-arrow:hover:before {\n",
       "  color: var(--sklearn-color-text);\n",
       "}\n",
       "\n",
       "/* Toggleable content - dropdown */\n",
       "\n",
       "#sk-container-id-14 div.sk-toggleable__content {\n",
       "  max-height: 0;\n",
       "  max-width: 0;\n",
       "  overflow: hidden;\n",
       "  text-align: left;\n",
       "  /* unfitted */\n",
       "  background-color: var(--sklearn-color-unfitted-level-0);\n",
       "}\n",
       "\n",
       "#sk-container-id-14 div.sk-toggleable__content.fitted {\n",
       "  /* fitted */\n",
       "  background-color: var(--sklearn-color-fitted-level-0);\n",
       "}\n",
       "\n",
       "#sk-container-id-14 div.sk-toggleable__content pre {\n",
       "  margin: 0.2em;\n",
       "  border-radius: 0.25em;\n",
       "  color: var(--sklearn-color-text);\n",
       "  /* unfitted */\n",
       "  background-color: var(--sklearn-color-unfitted-level-0);\n",
       "}\n",
       "\n",
       "#sk-container-id-14 div.sk-toggleable__content.fitted pre {\n",
       "  /* unfitted */\n",
       "  background-color: var(--sklearn-color-fitted-level-0);\n",
       "}\n",
       "\n",
       "#sk-container-id-14 input.sk-toggleable__control:checked~div.sk-toggleable__content {\n",
       "  /* Expand drop-down */\n",
       "  max-height: 200px;\n",
       "  max-width: 100%;\n",
       "  overflow: auto;\n",
       "}\n",
       "\n",
       "#sk-container-id-14 input.sk-toggleable__control:checked~label.sk-toggleable__label-arrow:before {\n",
       "  content: \"▾\";\n",
       "}\n",
       "\n",
       "/* Pipeline/ColumnTransformer-specific style */\n",
       "\n",
       "#sk-container-id-14 div.sk-label input.sk-toggleable__control:checked~label.sk-toggleable__label {\n",
       "  color: var(--sklearn-color-text);\n",
       "  background-color: var(--sklearn-color-unfitted-level-2);\n",
       "}\n",
       "\n",
       "#sk-container-id-14 div.sk-label.fitted input.sk-toggleable__control:checked~label.sk-toggleable__label {\n",
       "  background-color: var(--sklearn-color-fitted-level-2);\n",
       "}\n",
       "\n",
       "/* Estimator-specific style */\n",
       "\n",
       "/* Colorize estimator box */\n",
       "#sk-container-id-14 div.sk-estimator input.sk-toggleable__control:checked~label.sk-toggleable__label {\n",
       "  /* unfitted */\n",
       "  background-color: var(--sklearn-color-unfitted-level-2);\n",
       "}\n",
       "\n",
       "#sk-container-id-14 div.sk-estimator.fitted input.sk-toggleable__control:checked~label.sk-toggleable__label {\n",
       "  /* fitted */\n",
       "  background-color: var(--sklearn-color-fitted-level-2);\n",
       "}\n",
       "\n",
       "#sk-container-id-14 div.sk-label label.sk-toggleable__label,\n",
       "#sk-container-id-14 div.sk-label label {\n",
       "  /* The background is the default theme color */\n",
       "  color: var(--sklearn-color-text-on-default-background);\n",
       "}\n",
       "\n",
       "/* On hover, darken the color of the background */\n",
       "#sk-container-id-14 div.sk-label:hover label.sk-toggleable__label {\n",
       "  color: var(--sklearn-color-text);\n",
       "  background-color: var(--sklearn-color-unfitted-level-2);\n",
       "}\n",
       "\n",
       "/* Label box, darken color on hover, fitted */\n",
       "#sk-container-id-14 div.sk-label.fitted:hover label.sk-toggleable__label.fitted {\n",
       "  color: var(--sklearn-color-text);\n",
       "  background-color: var(--sklearn-color-fitted-level-2);\n",
       "}\n",
       "\n",
       "/* Estimator label */\n",
       "\n",
       "#sk-container-id-14 div.sk-label label {\n",
       "  font-family: monospace;\n",
       "  font-weight: bold;\n",
       "  display: inline-block;\n",
       "  line-height: 1.2em;\n",
       "}\n",
       "\n",
       "#sk-container-id-14 div.sk-label-container {\n",
       "  text-align: center;\n",
       "}\n",
       "\n",
       "/* Estimator-specific */\n",
       "#sk-container-id-14 div.sk-estimator {\n",
       "  font-family: monospace;\n",
       "  border: 1px dotted var(--sklearn-color-border-box);\n",
       "  border-radius: 0.25em;\n",
       "  box-sizing: border-box;\n",
       "  margin-bottom: 0.5em;\n",
       "  /* unfitted */\n",
       "  background-color: var(--sklearn-color-unfitted-level-0);\n",
       "}\n",
       "\n",
       "#sk-container-id-14 div.sk-estimator.fitted {\n",
       "  /* fitted */\n",
       "  background-color: var(--sklearn-color-fitted-level-0);\n",
       "}\n",
       "\n",
       "/* on hover */\n",
       "#sk-container-id-14 div.sk-estimator:hover {\n",
       "  /* unfitted */\n",
       "  background-color: var(--sklearn-color-unfitted-level-2);\n",
       "}\n",
       "\n",
       "#sk-container-id-14 div.sk-estimator.fitted:hover {\n",
       "  /* fitted */\n",
       "  background-color: var(--sklearn-color-fitted-level-2);\n",
       "}\n",
       "\n",
       "/* Specification for estimator info (e.g. \"i\" and \"?\") */\n",
       "\n",
       "/* Common style for \"i\" and \"?\" */\n",
       "\n",
       ".sk-estimator-doc-link,\n",
       "a:link.sk-estimator-doc-link,\n",
       "a:visited.sk-estimator-doc-link {\n",
       "  float: right;\n",
       "  font-size: smaller;\n",
       "  line-height: 1em;\n",
       "  font-family: monospace;\n",
       "  background-color: var(--sklearn-color-background);\n",
       "  border-radius: 1em;\n",
       "  height: 1em;\n",
       "  width: 1em;\n",
       "  text-decoration: none !important;\n",
       "  margin-left: 1ex;\n",
       "  /* unfitted */\n",
       "  border: var(--sklearn-color-unfitted-level-1) 1pt solid;\n",
       "  color: var(--sklearn-color-unfitted-level-1);\n",
       "}\n",
       "\n",
       ".sk-estimator-doc-link.fitted,\n",
       "a:link.sk-estimator-doc-link.fitted,\n",
       "a:visited.sk-estimator-doc-link.fitted {\n",
       "  /* fitted */\n",
       "  border: var(--sklearn-color-fitted-level-1) 1pt solid;\n",
       "  color: var(--sklearn-color-fitted-level-1);\n",
       "}\n",
       "\n",
       "/* On hover */\n",
       "div.sk-estimator:hover .sk-estimator-doc-link:hover,\n",
       ".sk-estimator-doc-link:hover,\n",
       "div.sk-label-container:hover .sk-estimator-doc-link:hover,\n",
       ".sk-estimator-doc-link:hover {\n",
       "  /* unfitted */\n",
       "  background-color: var(--sklearn-color-unfitted-level-3);\n",
       "  color: var(--sklearn-color-background);\n",
       "  text-decoration: none;\n",
       "}\n",
       "\n",
       "div.sk-estimator.fitted:hover .sk-estimator-doc-link.fitted:hover,\n",
       ".sk-estimator-doc-link.fitted:hover,\n",
       "div.sk-label-container:hover .sk-estimator-doc-link.fitted:hover,\n",
       ".sk-estimator-doc-link.fitted:hover {\n",
       "  /* fitted */\n",
       "  background-color: var(--sklearn-color-fitted-level-3);\n",
       "  color: var(--sklearn-color-background);\n",
       "  text-decoration: none;\n",
       "}\n",
       "\n",
       "/* Span, style for the box shown on hovering the info icon */\n",
       ".sk-estimator-doc-link span {\n",
       "  display: none;\n",
       "  z-index: 9999;\n",
       "  position: relative;\n",
       "  font-weight: normal;\n",
       "  right: .2ex;\n",
       "  padding: .5ex;\n",
       "  margin: .5ex;\n",
       "  width: min-content;\n",
       "  min-width: 20ex;\n",
       "  max-width: 50ex;\n",
       "  color: var(--sklearn-color-text);\n",
       "  box-shadow: 2pt 2pt 4pt #999;\n",
       "  /* unfitted */\n",
       "  background: var(--sklearn-color-unfitted-level-0);\n",
       "  border: .5pt solid var(--sklearn-color-unfitted-level-3);\n",
       "}\n",
       "\n",
       ".sk-estimator-doc-link.fitted span {\n",
       "  /* fitted */\n",
       "  background: var(--sklearn-color-fitted-level-0);\n",
       "  border: var(--sklearn-color-fitted-level-3);\n",
       "}\n",
       "\n",
       ".sk-estimator-doc-link:hover span {\n",
       "  display: block;\n",
       "}\n",
       "\n",
       "/* \"?\"-specific style due to the `<a>` HTML tag */\n",
       "\n",
       "#sk-container-id-14 a.estimator_doc_link {\n",
       "  float: right;\n",
       "  font-size: 1rem;\n",
       "  line-height: 1em;\n",
       "  font-family: monospace;\n",
       "  background-color: var(--sklearn-color-background);\n",
       "  border-radius: 1rem;\n",
       "  height: 1rem;\n",
       "  width: 1rem;\n",
       "  text-decoration: none;\n",
       "  /* unfitted */\n",
       "  color: var(--sklearn-color-unfitted-level-1);\n",
       "  border: var(--sklearn-color-unfitted-level-1) 1pt solid;\n",
       "}\n",
       "\n",
       "#sk-container-id-14 a.estimator_doc_link.fitted {\n",
       "  /* fitted */\n",
       "  border: var(--sklearn-color-fitted-level-1) 1pt solid;\n",
       "  color: var(--sklearn-color-fitted-level-1);\n",
       "}\n",
       "\n",
       "/* On hover */\n",
       "#sk-container-id-14 a.estimator_doc_link:hover {\n",
       "  /* unfitted */\n",
       "  background-color: var(--sklearn-color-unfitted-level-3);\n",
       "  color: var(--sklearn-color-background);\n",
       "  text-decoration: none;\n",
       "}\n",
       "\n",
       "#sk-container-id-14 a.estimator_doc_link.fitted:hover {\n",
       "  /* fitted */\n",
       "  background-color: var(--sklearn-color-fitted-level-3);\n",
       "}\n",
       "</style><div id=\"sk-container-id-14\" class=\"sk-top-container\"><div class=\"sk-text-repr-fallback\"><pre>LogisticRegression()</pre><b>In a Jupyter environment, please rerun this cell to show the HTML representation or trust the notebook. <br />On GitHub, the HTML representation is unable to render, please try loading this page with nbviewer.org.</b></div><div class=\"sk-container\" hidden><div class=\"sk-item\"><div class=\"sk-estimator fitted sk-toggleable\"><input class=\"sk-toggleable__control sk-hidden--visually\" id=\"sk-estimator-id-14\" type=\"checkbox\" checked><label for=\"sk-estimator-id-14\" class=\"sk-toggleable__label fitted sk-toggleable__label-arrow fitted\">&nbsp;&nbsp;LogisticRegression<a class=\"sk-estimator-doc-link fitted\" rel=\"noreferrer\" target=\"_blank\" href=\"https://scikit-learn.org/1.5/modules/generated/sklearn.linear_model.LogisticRegression.html\">?<span>Documentation for LogisticRegression</span></a><span class=\"sk-estimator-doc-link fitted\">i<span>Fitted</span></span></label><div class=\"sk-toggleable__content fitted\"><pre>LogisticRegression()</pre></div> </div></div></div></div>"
      ],
      "text/plain": [
       "LogisticRegression()"
      ]
     },
     "execution_count": 353,
     "metadata": {},
     "output_type": "execute_result"
    }
   ],
   "source": [
    "lr = LogisticRegression()\n",
    "lr.fit(train_input, train_target)"
   ]
  },
  {
   "cell_type": "code",
   "execution_count": 354,
   "metadata": {},
   "outputs": [
    {
     "name": "stdout",
     "output_type": "stream",
     "text": [
      "0.9807692307692307\n",
      "0.8482142857142857\n"
     ]
    }
   ],
   "source": [
    "# 과적합\n",
    "print(lr.score(train_input,train_target))\n",
    "print(lr.score(test_input,test_target))"
   ]
  },
  {
   "cell_type": "code",
   "execution_count": 355,
   "metadata": {},
   "outputs": [],
   "source": [
    "# 1:1 비율을 랜덤 샘플링 수행\n",
    "# dfidf 수치로 변경된 X의 데이터를 가져오기 위해 index 번호를 저장\n",
    "positive_random_idx = df[df['y']==1].sample(50,random_state=30).index.to_list()\n",
    "negative_random_idx = df[df['y']==0].sample(50,random_state=30).index.to_list()"
   ]
  },
  {
   "cell_type": "code",
   "execution_count": 356,
   "metadata": {},
   "outputs": [
    {
     "data": {
      "text/plain": [
       "50"
      ]
     },
     "execution_count": 356,
     "metadata": {},
     "output_type": "execute_result"
    }
   ],
   "source": [
    "len(positive_random_idx)"
   ]
  },
  {
   "cell_type": "code",
   "execution_count": 357,
   "metadata": {},
   "outputs": [],
   "source": [
    "random_idx = positive_random_idx + negative_random_idx"
   ]
  },
  {
   "cell_type": "code",
   "execution_count": 358,
   "metadata": {},
   "outputs": [
    {
     "name": "stdout",
     "output_type": "stream",
     "text": [
      "(70, 2343) (30, 2343)\n"
     ]
    }
   ],
   "source": [
    "# 랜덤 100개 데이터셋 나누기\n",
    "sample_X = X[random_idx,:]\n",
    "y = df['y'][random_idx]\n",
    "train_input, test_input, train_target, test_target = train_test_split(\n",
    "    sample_X,y,test_size=0.3\n",
    ")\n",
    "print(train_input.shape,test_input.shape)"
   ]
  },
  {
   "cell_type": "code",
   "execution_count": 359,
   "metadata": {},
   "outputs": [
    {
     "data": {
      "text/html": [
       "<style>#sk-container-id-15 {\n",
       "  /* Definition of color scheme common for light and dark mode */\n",
       "  --sklearn-color-text: black;\n",
       "  --sklearn-color-line: gray;\n",
       "  /* Definition of color scheme for unfitted estimators */\n",
       "  --sklearn-color-unfitted-level-0: #fff5e6;\n",
       "  --sklearn-color-unfitted-level-1: #f6e4d2;\n",
       "  --sklearn-color-unfitted-level-2: #ffe0b3;\n",
       "  --sklearn-color-unfitted-level-3: chocolate;\n",
       "  /* Definition of color scheme for fitted estimators */\n",
       "  --sklearn-color-fitted-level-0: #f0f8ff;\n",
       "  --sklearn-color-fitted-level-1: #d4ebff;\n",
       "  --sklearn-color-fitted-level-2: #b3dbfd;\n",
       "  --sklearn-color-fitted-level-3: cornflowerblue;\n",
       "\n",
       "  /* Specific color for light theme */\n",
       "  --sklearn-color-text-on-default-background: var(--sg-text-color, var(--theme-code-foreground, var(--jp-content-font-color1, black)));\n",
       "  --sklearn-color-background: var(--sg-background-color, var(--theme-background, var(--jp-layout-color0, white)));\n",
       "  --sklearn-color-border-box: var(--sg-text-color, var(--theme-code-foreground, var(--jp-content-font-color1, black)));\n",
       "  --sklearn-color-icon: #696969;\n",
       "\n",
       "  @media (prefers-color-scheme: dark) {\n",
       "    /* Redefinition of color scheme for dark theme */\n",
       "    --sklearn-color-text-on-default-background: var(--sg-text-color, var(--theme-code-foreground, var(--jp-content-font-color1, white)));\n",
       "    --sklearn-color-background: var(--sg-background-color, var(--theme-background, var(--jp-layout-color0, #111)));\n",
       "    --sklearn-color-border-box: var(--sg-text-color, var(--theme-code-foreground, var(--jp-content-font-color1, white)));\n",
       "    --sklearn-color-icon: #878787;\n",
       "  }\n",
       "}\n",
       "\n",
       "#sk-container-id-15 {\n",
       "  color: var(--sklearn-color-text);\n",
       "}\n",
       "\n",
       "#sk-container-id-15 pre {\n",
       "  padding: 0;\n",
       "}\n",
       "\n",
       "#sk-container-id-15 input.sk-hidden--visually {\n",
       "  border: 0;\n",
       "  clip: rect(1px 1px 1px 1px);\n",
       "  clip: rect(1px, 1px, 1px, 1px);\n",
       "  height: 1px;\n",
       "  margin: -1px;\n",
       "  overflow: hidden;\n",
       "  padding: 0;\n",
       "  position: absolute;\n",
       "  width: 1px;\n",
       "}\n",
       "\n",
       "#sk-container-id-15 div.sk-dashed-wrapped {\n",
       "  border: 1px dashed var(--sklearn-color-line);\n",
       "  margin: 0 0.4em 0.5em 0.4em;\n",
       "  box-sizing: border-box;\n",
       "  padding-bottom: 0.4em;\n",
       "  background-color: var(--sklearn-color-background);\n",
       "}\n",
       "\n",
       "#sk-container-id-15 div.sk-container {\n",
       "  /* jupyter's `normalize.less` sets `[hidden] { display: none; }`\n",
       "     but bootstrap.min.css set `[hidden] { display: none !important; }`\n",
       "     so we also need the `!important` here to be able to override the\n",
       "     default hidden behavior on the sphinx rendered scikit-learn.org.\n",
       "     See: https://github.com/scikit-learn/scikit-learn/issues/21755 */\n",
       "  display: inline-block !important;\n",
       "  position: relative;\n",
       "}\n",
       "\n",
       "#sk-container-id-15 div.sk-text-repr-fallback {\n",
       "  display: none;\n",
       "}\n",
       "\n",
       "div.sk-parallel-item,\n",
       "div.sk-serial,\n",
       "div.sk-item {\n",
       "  /* draw centered vertical line to link estimators */\n",
       "  background-image: linear-gradient(var(--sklearn-color-text-on-default-background), var(--sklearn-color-text-on-default-background));\n",
       "  background-size: 2px 100%;\n",
       "  background-repeat: no-repeat;\n",
       "  background-position: center center;\n",
       "}\n",
       "\n",
       "/* Parallel-specific style estimator block */\n",
       "\n",
       "#sk-container-id-15 div.sk-parallel-item::after {\n",
       "  content: \"\";\n",
       "  width: 100%;\n",
       "  border-bottom: 2px solid var(--sklearn-color-text-on-default-background);\n",
       "  flex-grow: 1;\n",
       "}\n",
       "\n",
       "#sk-container-id-15 div.sk-parallel {\n",
       "  display: flex;\n",
       "  align-items: stretch;\n",
       "  justify-content: center;\n",
       "  background-color: var(--sklearn-color-background);\n",
       "  position: relative;\n",
       "}\n",
       "\n",
       "#sk-container-id-15 div.sk-parallel-item {\n",
       "  display: flex;\n",
       "  flex-direction: column;\n",
       "}\n",
       "\n",
       "#sk-container-id-15 div.sk-parallel-item:first-child::after {\n",
       "  align-self: flex-end;\n",
       "  width: 50%;\n",
       "}\n",
       "\n",
       "#sk-container-id-15 div.sk-parallel-item:last-child::after {\n",
       "  align-self: flex-start;\n",
       "  width: 50%;\n",
       "}\n",
       "\n",
       "#sk-container-id-15 div.sk-parallel-item:only-child::after {\n",
       "  width: 0;\n",
       "}\n",
       "\n",
       "/* Serial-specific style estimator block */\n",
       "\n",
       "#sk-container-id-15 div.sk-serial {\n",
       "  display: flex;\n",
       "  flex-direction: column;\n",
       "  align-items: center;\n",
       "  background-color: var(--sklearn-color-background);\n",
       "  padding-right: 1em;\n",
       "  padding-left: 1em;\n",
       "}\n",
       "\n",
       "\n",
       "/* Toggleable style: style used for estimator/Pipeline/ColumnTransformer box that is\n",
       "clickable and can be expanded/collapsed.\n",
       "- Pipeline and ColumnTransformer use this feature and define the default style\n",
       "- Estimators will overwrite some part of the style using the `sk-estimator` class\n",
       "*/\n",
       "\n",
       "/* Pipeline and ColumnTransformer style (default) */\n",
       "\n",
       "#sk-container-id-15 div.sk-toggleable {\n",
       "  /* Default theme specific background. It is overwritten whether we have a\n",
       "  specific estimator or a Pipeline/ColumnTransformer */\n",
       "  background-color: var(--sklearn-color-background);\n",
       "}\n",
       "\n",
       "/* Toggleable label */\n",
       "#sk-container-id-15 label.sk-toggleable__label {\n",
       "  cursor: pointer;\n",
       "  display: block;\n",
       "  width: 100%;\n",
       "  margin-bottom: 0;\n",
       "  padding: 0.5em;\n",
       "  box-sizing: border-box;\n",
       "  text-align: center;\n",
       "}\n",
       "\n",
       "#sk-container-id-15 label.sk-toggleable__label-arrow:before {\n",
       "  /* Arrow on the left of the label */\n",
       "  content: \"▸\";\n",
       "  float: left;\n",
       "  margin-right: 0.25em;\n",
       "  color: var(--sklearn-color-icon);\n",
       "}\n",
       "\n",
       "#sk-container-id-15 label.sk-toggleable__label-arrow:hover:before {\n",
       "  color: var(--sklearn-color-text);\n",
       "}\n",
       "\n",
       "/* Toggleable content - dropdown */\n",
       "\n",
       "#sk-container-id-15 div.sk-toggleable__content {\n",
       "  max-height: 0;\n",
       "  max-width: 0;\n",
       "  overflow: hidden;\n",
       "  text-align: left;\n",
       "  /* unfitted */\n",
       "  background-color: var(--sklearn-color-unfitted-level-0);\n",
       "}\n",
       "\n",
       "#sk-container-id-15 div.sk-toggleable__content.fitted {\n",
       "  /* fitted */\n",
       "  background-color: var(--sklearn-color-fitted-level-0);\n",
       "}\n",
       "\n",
       "#sk-container-id-15 div.sk-toggleable__content pre {\n",
       "  margin: 0.2em;\n",
       "  border-radius: 0.25em;\n",
       "  color: var(--sklearn-color-text);\n",
       "  /* unfitted */\n",
       "  background-color: var(--sklearn-color-unfitted-level-0);\n",
       "}\n",
       "\n",
       "#sk-container-id-15 div.sk-toggleable__content.fitted pre {\n",
       "  /* unfitted */\n",
       "  background-color: var(--sklearn-color-fitted-level-0);\n",
       "}\n",
       "\n",
       "#sk-container-id-15 input.sk-toggleable__control:checked~div.sk-toggleable__content {\n",
       "  /* Expand drop-down */\n",
       "  max-height: 200px;\n",
       "  max-width: 100%;\n",
       "  overflow: auto;\n",
       "}\n",
       "\n",
       "#sk-container-id-15 input.sk-toggleable__control:checked~label.sk-toggleable__label-arrow:before {\n",
       "  content: \"▾\";\n",
       "}\n",
       "\n",
       "/* Pipeline/ColumnTransformer-specific style */\n",
       "\n",
       "#sk-container-id-15 div.sk-label input.sk-toggleable__control:checked~label.sk-toggleable__label {\n",
       "  color: var(--sklearn-color-text);\n",
       "  background-color: var(--sklearn-color-unfitted-level-2);\n",
       "}\n",
       "\n",
       "#sk-container-id-15 div.sk-label.fitted input.sk-toggleable__control:checked~label.sk-toggleable__label {\n",
       "  background-color: var(--sklearn-color-fitted-level-2);\n",
       "}\n",
       "\n",
       "/* Estimator-specific style */\n",
       "\n",
       "/* Colorize estimator box */\n",
       "#sk-container-id-15 div.sk-estimator input.sk-toggleable__control:checked~label.sk-toggleable__label {\n",
       "  /* unfitted */\n",
       "  background-color: var(--sklearn-color-unfitted-level-2);\n",
       "}\n",
       "\n",
       "#sk-container-id-15 div.sk-estimator.fitted input.sk-toggleable__control:checked~label.sk-toggleable__label {\n",
       "  /* fitted */\n",
       "  background-color: var(--sklearn-color-fitted-level-2);\n",
       "}\n",
       "\n",
       "#sk-container-id-15 div.sk-label label.sk-toggleable__label,\n",
       "#sk-container-id-15 div.sk-label label {\n",
       "  /* The background is the default theme color */\n",
       "  color: var(--sklearn-color-text-on-default-background);\n",
       "}\n",
       "\n",
       "/* On hover, darken the color of the background */\n",
       "#sk-container-id-15 div.sk-label:hover label.sk-toggleable__label {\n",
       "  color: var(--sklearn-color-text);\n",
       "  background-color: var(--sklearn-color-unfitted-level-2);\n",
       "}\n",
       "\n",
       "/* Label box, darken color on hover, fitted */\n",
       "#sk-container-id-15 div.sk-label.fitted:hover label.sk-toggleable__label.fitted {\n",
       "  color: var(--sklearn-color-text);\n",
       "  background-color: var(--sklearn-color-fitted-level-2);\n",
       "}\n",
       "\n",
       "/* Estimator label */\n",
       "\n",
       "#sk-container-id-15 div.sk-label label {\n",
       "  font-family: monospace;\n",
       "  font-weight: bold;\n",
       "  display: inline-block;\n",
       "  line-height: 1.2em;\n",
       "}\n",
       "\n",
       "#sk-container-id-15 div.sk-label-container {\n",
       "  text-align: center;\n",
       "}\n",
       "\n",
       "/* Estimator-specific */\n",
       "#sk-container-id-15 div.sk-estimator {\n",
       "  font-family: monospace;\n",
       "  border: 1px dotted var(--sklearn-color-border-box);\n",
       "  border-radius: 0.25em;\n",
       "  box-sizing: border-box;\n",
       "  margin-bottom: 0.5em;\n",
       "  /* unfitted */\n",
       "  background-color: var(--sklearn-color-unfitted-level-0);\n",
       "}\n",
       "\n",
       "#sk-container-id-15 div.sk-estimator.fitted {\n",
       "  /* fitted */\n",
       "  background-color: var(--sklearn-color-fitted-level-0);\n",
       "}\n",
       "\n",
       "/* on hover */\n",
       "#sk-container-id-15 div.sk-estimator:hover {\n",
       "  /* unfitted */\n",
       "  background-color: var(--sklearn-color-unfitted-level-2);\n",
       "}\n",
       "\n",
       "#sk-container-id-15 div.sk-estimator.fitted:hover {\n",
       "  /* fitted */\n",
       "  background-color: var(--sklearn-color-fitted-level-2);\n",
       "}\n",
       "\n",
       "/* Specification for estimator info (e.g. \"i\" and \"?\") */\n",
       "\n",
       "/* Common style for \"i\" and \"?\" */\n",
       "\n",
       ".sk-estimator-doc-link,\n",
       "a:link.sk-estimator-doc-link,\n",
       "a:visited.sk-estimator-doc-link {\n",
       "  float: right;\n",
       "  font-size: smaller;\n",
       "  line-height: 1em;\n",
       "  font-family: monospace;\n",
       "  background-color: var(--sklearn-color-background);\n",
       "  border-radius: 1em;\n",
       "  height: 1em;\n",
       "  width: 1em;\n",
       "  text-decoration: none !important;\n",
       "  margin-left: 1ex;\n",
       "  /* unfitted */\n",
       "  border: var(--sklearn-color-unfitted-level-1) 1pt solid;\n",
       "  color: var(--sklearn-color-unfitted-level-1);\n",
       "}\n",
       "\n",
       ".sk-estimator-doc-link.fitted,\n",
       "a:link.sk-estimator-doc-link.fitted,\n",
       "a:visited.sk-estimator-doc-link.fitted {\n",
       "  /* fitted */\n",
       "  border: var(--sklearn-color-fitted-level-1) 1pt solid;\n",
       "  color: var(--sklearn-color-fitted-level-1);\n",
       "}\n",
       "\n",
       "/* On hover */\n",
       "div.sk-estimator:hover .sk-estimator-doc-link:hover,\n",
       ".sk-estimator-doc-link:hover,\n",
       "div.sk-label-container:hover .sk-estimator-doc-link:hover,\n",
       ".sk-estimator-doc-link:hover {\n",
       "  /* unfitted */\n",
       "  background-color: var(--sklearn-color-unfitted-level-3);\n",
       "  color: var(--sklearn-color-background);\n",
       "  text-decoration: none;\n",
       "}\n",
       "\n",
       "div.sk-estimator.fitted:hover .sk-estimator-doc-link.fitted:hover,\n",
       ".sk-estimator-doc-link.fitted:hover,\n",
       "div.sk-label-container:hover .sk-estimator-doc-link.fitted:hover,\n",
       ".sk-estimator-doc-link.fitted:hover {\n",
       "  /* fitted */\n",
       "  background-color: var(--sklearn-color-fitted-level-3);\n",
       "  color: var(--sklearn-color-background);\n",
       "  text-decoration: none;\n",
       "}\n",
       "\n",
       "/* Span, style for the box shown on hovering the info icon */\n",
       ".sk-estimator-doc-link span {\n",
       "  display: none;\n",
       "  z-index: 9999;\n",
       "  position: relative;\n",
       "  font-weight: normal;\n",
       "  right: .2ex;\n",
       "  padding: .5ex;\n",
       "  margin: .5ex;\n",
       "  width: min-content;\n",
       "  min-width: 20ex;\n",
       "  max-width: 50ex;\n",
       "  color: var(--sklearn-color-text);\n",
       "  box-shadow: 2pt 2pt 4pt #999;\n",
       "  /* unfitted */\n",
       "  background: var(--sklearn-color-unfitted-level-0);\n",
       "  border: .5pt solid var(--sklearn-color-unfitted-level-3);\n",
       "}\n",
       "\n",
       ".sk-estimator-doc-link.fitted span {\n",
       "  /* fitted */\n",
       "  background: var(--sklearn-color-fitted-level-0);\n",
       "  border: var(--sklearn-color-fitted-level-3);\n",
       "}\n",
       "\n",
       ".sk-estimator-doc-link:hover span {\n",
       "  display: block;\n",
       "}\n",
       "\n",
       "/* \"?\"-specific style due to the `<a>` HTML tag */\n",
       "\n",
       "#sk-container-id-15 a.estimator_doc_link {\n",
       "  float: right;\n",
       "  font-size: 1rem;\n",
       "  line-height: 1em;\n",
       "  font-family: monospace;\n",
       "  background-color: var(--sklearn-color-background);\n",
       "  border-radius: 1rem;\n",
       "  height: 1rem;\n",
       "  width: 1rem;\n",
       "  text-decoration: none;\n",
       "  /* unfitted */\n",
       "  color: var(--sklearn-color-unfitted-level-1);\n",
       "  border: var(--sklearn-color-unfitted-level-1) 1pt solid;\n",
       "}\n",
       "\n",
       "#sk-container-id-15 a.estimator_doc_link.fitted {\n",
       "  /* fitted */\n",
       "  border: var(--sklearn-color-fitted-level-1) 1pt solid;\n",
       "  color: var(--sklearn-color-fitted-level-1);\n",
       "}\n",
       "\n",
       "/* On hover */\n",
       "#sk-container-id-15 a.estimator_doc_link:hover {\n",
       "  /* unfitted */\n",
       "  background-color: var(--sklearn-color-unfitted-level-3);\n",
       "  color: var(--sklearn-color-background);\n",
       "  text-decoration: none;\n",
       "}\n",
       "\n",
       "#sk-container-id-15 a.estimator_doc_link.fitted:hover {\n",
       "  /* fitted */\n",
       "  background-color: var(--sklearn-color-fitted-level-3);\n",
       "}\n",
       "</style><div id=\"sk-container-id-15\" class=\"sk-top-container\"><div class=\"sk-text-repr-fallback\"><pre>LogisticRegression()</pre><b>In a Jupyter environment, please rerun this cell to show the HTML representation or trust the notebook. <br />On GitHub, the HTML representation is unable to render, please try loading this page with nbviewer.org.</b></div><div class=\"sk-container\" hidden><div class=\"sk-item\"><div class=\"sk-estimator fitted sk-toggleable\"><input class=\"sk-toggleable__control sk-hidden--visually\" id=\"sk-estimator-id-15\" type=\"checkbox\" checked><label for=\"sk-estimator-id-15\" class=\"sk-toggleable__label fitted sk-toggleable__label-arrow fitted\">&nbsp;&nbsp;LogisticRegression<a class=\"sk-estimator-doc-link fitted\" rel=\"noreferrer\" target=\"_blank\" href=\"https://scikit-learn.org/1.5/modules/generated/sklearn.linear_model.LogisticRegression.html\">?<span>Documentation for LogisticRegression</span></a><span class=\"sk-estimator-doc-link fitted\">i<span>Fitted</span></span></label><div class=\"sk-toggleable__content fitted\"><pre>LogisticRegression()</pre></div> </div></div></div></div>"
      ],
      "text/plain": [
       "LogisticRegression()"
      ]
     },
     "execution_count": 359,
     "metadata": {},
     "output_type": "execute_result"
    }
   ],
   "source": [
    "lr = LogisticRegression()\n",
    "lr.fit(train_input, train_target)"
   ]
  },
  {
   "cell_type": "code",
   "execution_count": 360,
   "metadata": {},
   "outputs": [
    {
     "name": "stdout",
     "output_type": "stream",
     "text": [
      "1.0\n",
      "0.6\n"
     ]
    }
   ],
   "source": [
    "# 과대적합 - 데이터를 추가해서 늘려서 다시 테스트\n",
    "print(lr.score(train_input,train_target))\n",
    "print(lr.score(test_input,test_target))"
   ]
  },
  {
   "cell_type": "code",
   "execution_count": 361,
   "metadata": {},
   "outputs": [
    {
     "name": "stdout",
     "output_type": "stream",
     "text": [
      "[[ 0.         -0.08767451  0.17790945 ...  0.          0.\n",
      "   0.        ]] [0.13541162]\n"
     ]
    }
   ],
   "source": [
    "print(lr.coef_,lr.intercept_)"
   ]
  },
  {
   "cell_type": "code",
   "execution_count": 362,
   "metadata": {},
   "outputs": [
    {
     "data": {
      "text/plain": [
       "<BarContainer object of 2343 artists>"
      ]
     },
     "execution_count": 362,
     "metadata": {},
     "output_type": "execute_result"
    },
    {
     "data": {
      "image/png": "[encoded data removed]",
      "text/plain": [
       "<Figure size 1000x800 with 1 Axes>"
      ]
     },
     "metadata": {},
     "output_type": "display_data"
    }
   ],
   "source": [
    "plt.rcParams['figure.figsize']=(10,8)\n",
    "plt.bar(range(len(lr.coef_[0])),lr.coef_[0])"
   ]
  },
  {
   "cell_type": "code",
   "execution_count": 365,
   "metadata": {},
   "outputs": [
    {
     "data": {
      "text/plain": [
       "411"
      ]
     },
     "execution_count": 365,
     "metadata": {},
     "output_type": "execute_result"
    }
   ],
   "source": [
    "index_vectorizer.vocabulary_['너무/Adverb']"
   ]
  },
  {
   "cell_type": "code",
   "execution_count": 366,
   "metadata": {},
   "outputs": [],
   "source": [
    "# vectorizer 위치를 바꿈 - 번호로 찾을 수 있도록 위치를 변경\n",
    "invert_index_vectorizer = {v:k for k,v in index_vectorizer.vocabulary_.items()}"
   ]
  },
  {
   "cell_type": "code",
   "execution_count": 367,
   "metadata": {},
   "outputs": [
    {
     "name": "stdout",
     "output_type": "stream",
     "text": [
      "dict_items([(411, '너무/Adverb'), (750, '맛있어요/Adjective'), (430, '녹는다/Verb'), (431, '녹아/Verb'), (1888, '좋아요/Adjective'), (2334, '흠잡을/Adjective'), (178, '곳/Noun'), (1470, '없는/Adjective'), (933, '반찬/Noun'), (1640, '이/Josa'), (1845, '정갈합니다/Adjective'), (2075, '코로나/Noun'), (642, '땜/Noun'), (1492, '에/Josa'), (131, '걱정/Noun'), (2281, '했는데/Verb'), (945, '방역/Noun'), (1199, '수/Modifier'), (2053, '칙/Noun'), (544, '도/Josa'), (1769, '잘/Verb'), (1953, '지키시고/Verb'), (1132, '살치실이랑/Verb'), (625, '등심/Noun'), (1022, '부드러워서/Adjective'), (1887, '좋아서/Adjective'), (527, '댓글/Noun'), (383, '남깁니다/Verb'), (1131, '살치/Verb'), (1127, '살/Noun'), (910, '미쳤네요/Adjective'), (515, '대박/Noun'), (1727, '입니다/Adjective'), (2081, '퀄리티/Noun'), (231, '굳이/Noun'), (1502, '에요/Josa'), (2030, '최고/Noun'), (1578, '외식/Noun'), (2179, '하기에/Verb'), (631, '딱/Adverb'), (1885, '좋습니다/Adjective'), (145, '격/Noun'), (1764, '자체/Noun'), (17, '가/Josa'), (473, '다른/Noun'), (1630, '음식/Noun'), (1633, '의/Josa'), (2160, '품격/Noun'), (1163, '서비스/Noun'), (686, '마인드/Noun'), (899, '뭐/Noun'), (2182, '하나/Noun'), (1848, '정말/Noun'), (830, '멋진/Adjective'), (1247, '식당/Noun'), (1647, '이네/Josa'), (1580, '요/Noun'), (1763, '자주/Noun'), (1642, '이/Suffix'), (1587, '용하겠습니다/Adjective'), (2232, '한우/Noun'), (1129, '살이/Noun'), (1345, '아주/Noun'), (249, '그냥/Noun'), (1725, '입/Noun'), (1497, '에서/Josa'), (432, '녹아요/Verb'), (2231, '한번/Noun'), (1568, '왔는데/Verb'), (652, '또/Noun'), (1535, '오고싶은/Verb'), (722, '맛/Noun'), (1532, '예요/Josa'), (1583, '요즘/Noun'), (379, '날/Noun'), (532, '더운데/Adjective'), (2293, '헌혈/Noun'), (549, '도해/Noun'), (1158, '서/Josa'), (1189, '소고기/Noun'), (1153, '생각났는데/Verb'), (2202, '하면/Verb'), (1066, '블로그/Noun'), (2248, '핫/Noun'), (2221, '한/Josa'), (385, '남도/Noun'), (1406, '애찬/Noun'), (644, '떠오르더라구요/Verb'), (292, '기대하고/Adjective'), (943, '방문/Noun'), (1514, '역시/Noun'), (294, '기대한만큼/Adjective'), (159, '고기/Noun'), (1961, '질/Noun'), (1626, '은/Josa'), (892, '물론/Adverb'), (1121, '사장/Noun'), (465, '님/Suffix'), (2061, '친절하셔서/Adjective'), (1108, '뿌듯한/Adjective'), (2200, '하루/Noun'), (562, '됐네요/Verb'), (69, '갈비/Noun'), (787, '먹고싶을/Verb'), (641, '땐/Noun'), (874, '무조건/Noun'), (1506, '여/Modifier'), (303, '기와/Noun'), (801, '먹어요/Verb'), (14, 'ㅎㅎ/KoreanParticle'), (90, '강남/Noun'), (2317, '회식/Noun'), (1789, '장소/Noun'), (666, '로/Josa'), (1853, '제격/Noun'), (321, '깔끔한/Adjective'), (399, '내부/Noun'), (407, '냉면/Noun'), (1720, '일품/Noun'), (50, '가장/Noun'), (1900, '좋은/Adjective'), (132, '건/Noun'), (2236, '할/Verb'), (639, '때/Noun'), (444, '누구/Noun'), (454, '는/Josa'), (235, '굽느라/Verb'), (1849, '정신/Noun'), (1472, '없는데/Adjective'), (214, '구워주셔서/Verb'), (1895, '좋았습니다/Adjective'), (56, '가족/Noun'), (346, '끼리/Noun'), (1999, '참/Verb'), (190, '괜찮은/Adjective'), (1967, '집/Noun'), (1651, '이라고/Josa'), (1152, '생각/Noun'), (2263, '해요/Verb'), (319, '깔끔하게/Adjective'), (1771, '잘나오구요/Verb'), (1567, '완전/Noun'), (760, '맛있음/Adjective'), (1448, '어제/Noun'), (2111, '퇴근/Noun'), (2319, '후/Noun'), (1957, '직장/Noun'), (558, '동료/Noun'), (604, '들/Suffix'), (182, '과/Josa'), (64, '간단하게/Adjective'), (804, '먹었는데/Verb'), (732, '맛있고/Adjective'), (1956, '직원/Noun'), (1039, '분들/Suffix'), (1715, '일단/Noun'), (2069, '친절했어요/Adjective'), (1782, '장/Suffix'), (1190, '소로/Noun'), (191, '괜찮을것/Adjective'), (97, '같네요/Adjective'), (1403, '앞/Noun'), (1622, '으로/Josa'), (1588, '용할것/Adjective'), (105, '같은/Adjective'), (453, '느낌/Noun'), (1649, '이드/Noun'), (423, '네/Suffix'), (1579, '요/Josa'), (746, '맛있습니다/Adjective'), (1025, '부모님/Noun'), (851, '모시/Noun'), (155, '고/Josa'), (2107, '토요일/Noun'), (1650, '이라/Josa'), (469, '다녀왔는데/Verb'), (137, '검색/Noun'), (2257, '해보니/Verb'), (1451, '어쩐지/Noun'), (1429, '양재/Noun'), (1016, '봤더라/Verb'), (91, '강남역/Noun'), (1495, '에도/Josa'), (1742, '있더군요/Adjective'), (320, '깔끔하고/Adjective'), (1008, '본점/Noun'), (688, '마찬가지/Noun'), (1844, '정갈하고/Adjective'), (2126, '특히/Adverb'), (1790, '장어/Noun'), (662, '랑/Josa'), (188, '괜찮았습니다/Adjective'), (2316, '회사/Noun'), (347, '나/Josa'), (123, '거래처/Noun'), (1248, '식사/Noun'), (1775, '잡/Noun'), (1627, '을/Josa'), (1639, '이/Determiner'), (1981, '쪽/Noun'), (1561, '와야겠네요/Verb'), (114, '개인/Noun'), (1811, '적/Suffix'), (700, '만족/Noun'), (184, '광양/Noun'), (1042, '불고기/Noun'), (1958, '직접/Noun'), (218, '구워줘서/Verb'), (2143, '편했고/Adjective'), (731, '맛있게/Adjective'), (807, '먹었습니다/Verb'), (2324, '훌륭하고/Adjective'), (1077, '비빔냉면/Noun'), (797, '먹어/Verb'), (1006, '본/Verb'), (1927, '중/Noun'), (1859, '제일/Noun'), (755, '맛있었습니다/Adjective'), (2055, '친절/Noun'), (313, '까지/Josa'), (109, '같이/Adverb'), (823, '먹을수/Verb'), (1746, '있어서/Adjective'), (1537, '오늘/Noun'), (1512, '여친/Noun'), (412, '너무나/Adverb'), (301, '기분/Noun'), (543, '데이트/Noun'), (2175, '하고/Josa'), (28, '가네요/Verb'), (516, '대박나세용/Verb'), (1141, '상권/Noun'), (242, '귀하게/Adjective'), (414, '넓은/Adjective'), (1920, '주차장/Noun'), (1753, '있으며/Adjective'), (1040, '분위기/Noun'), (158, '고급/Noun'), (1936, '지고/Noun'), (122, '거기/Noun'), (467, '다/Josa'), (439, '높은/Adjective'), (1666, '이만/Noun'), (161, '고깃집/Noun'), (1486, '없을/Adjective'), (623, '듯/Noun'), (1317, '아니/Adjective'), (838, '몇/Modifier'), (694, '만/Modifier'), (1601, '원/Modifier'), (1455, '어치/Noun'), (671, '를/Josa'), (792, '먹는데/Verb'), (153, '계속/Noun'), (1350, '안/VerbPrefix'), (209, '구워주고/Verb'), (970, '벨/Noun'), (448, '눌러도/Verb'), (878, '묵묵/Noun'), (1020, '부답/Adjective'), (1960, '진짜/Noun'), (1067, '비/Noun'), (1285, '싼값/Noun'), (396, '내고/Verb'), (1973, '짜증나/Adjective'), (1921, '죽/Noun'), (1106, '뻔함/Adjective'), (1607, '월초/Noun'), (505, '당일/Noun'), (1832, '전화/Noun'), (1531, '예약/Noun'), (1908, '주/Modifier'), (831, '메뉴/Noun'), (110, '개/Noun'), (1736, '있는/Adjective'), (1362, '안심/Noun'), (1473, '없다/Adjective'), (2243, '함/Noun'), (1994, '착석/Noun'), (1827, '전/Noun'), (2070, '카운터/Noun'), (1393, '알려/Verb'), (1914, '주든가/Verb'), (675, '마늘/Noun'), (466, '다/Adverb'), (2088, '타/Noun'), (611, '들어가서/Verb'), (1044, '불렀더니/Verb'), (829, '멀뚱거리/Noun'), (834, '며/Josa'), (1450, '어쩌라고/Adverb'), (2187, '하는/Verb'), (2158, '표정/Noun'), (1167, '서있음/Verb'), (2105, '테이블/Noun'), (1200, '수/Noun'), (517, '대비/Noun'), (1707, '인원/Noun'), (714, '많이/Adverb'), (1030, '부족해/Adjective'), (997, '보임/Noun'), (20, '가격/Noun'), (1261, '실수/Noun'), (1632, '응대/Noun'), (974, '별로/Noun'), (1575, '왠지/Adverb'), (850, '모르지만/Verb'), (299, '기복/Noun'), (1747, '있어요/Adjective'), (272, '그리고/Conjunction'), (353, '나갈/Verb'), (1984, '쯤/Suffix'), (1667, '이면/Noun'), (126, '거의/Noun'), (2323, '훈제/Noun'), (1695, '인간/Noun'), (574, '됨/Verb'), (2299, '호불호/Noun'), (2310, '확실히/Adjective'), (67, '갈릴/Noun'), (121, '거/Noun'), (101, '같아요/Adjective'), (998, '보통/Noun'), (1679, '이에요/Josa'), (2322, '후식/Noun'), (1748, '있었나요/Adjective'), (861, '못/VerbPrefix'), (825, '먹음/Verb'), (626, '디너/Noun'), (2003, '창고/Noun'), (1222, '스페셜/Noun'), (156, '고/Modifier'), (306, '기질/Noun'), (1880, '좋고/Adjective'), (206, '구워/Verb'), (1926, '줌/Noun'), (1082, '비싼/Adjective'), (2139, '편/Noun'), (1699, '인당/Verb'), (695, '만/Noun'), (1943, '지불/Noun'), (2063, '친절하셨어요/Adjective'), (216, '구워주시고/Verb'), (1465, '없게/Adjective'), (790, '먹는/Verb'), (1656, '이란/Josa'), (936, '받았습니다/Verb'), (1145, '상태/Noun'), (1902, '좋은데/Adjective'), (217, '구워주시는/Verb'), (1037, '분/Noun'), (628, '따라/Verb'), (2145, '평가/Noun'), (140, '것/Noun'), (1454, '어찌/Noun'), (377, '난/Josa'), (1467, '없나요/Adjective'), (402, '냄새/Noun'), (354, '나고/Verb'), (2159, '푸석푸석한/Adjective'), (317, '깍두기/Noun'), (1311, '아/Exclamation'), (1125, '삭함/Noun'), (1831, '전혀/Noun'), (1466, '없고/Adjective'), (446, '누룽지/Noun'), (1246, '식감/Noun'), (369, '나온/Verb'), (166, '고사리/Noun'), (1868, '조차도/Josa'), (546, '도대체/Noun'), (902, '뭘/Noun'), (811, '먹으라는/Verb'), (134, '건지/Verb'), (2029, '초심/Noun'), (1721, '잃으면/Verb'), (762, '망해요/Adjective'), (2135, '팬/Noun'), (868, '무쇠/Noun'), (1696, '인거/Josa'), (107, '같은데/Adjective'), (233, '굽네요/Verb'), (1838, '점심식사/Noun'), (1576, '외/Noun'), (1494, '에는/Josa'), (1090, '비추/Verb'), (550, '돈/Noun'), (1316, '아깝습니다/Adjective'), (1881, '좋네요/Adjective'), (1835, '점/Noun'), (741, '맛있다/Adjective'), (2059, '친절하다/Adjective'), (1349, '안/Noun'), (180, '공기/Noun'), (768, '매/Modifier'), (2071, '캐/Noun'), (2172, '하/Suffix'), (2311, '환기/Noun'), (855, '목/Noun'), (1348, '아픔/Noun'), (1437, '어둡다/Adjective'), (1954, '지하/Noun'), (1700, '인데/Josa'), (2004, '창문/Noun'), (1865, '조명/Noun'), (1436, '어두움/Noun'), (470, '다닥다닥/Adverb'), (1062, '붙어/Verb'), (1304, '씨끄럽다/Noun'), (1084, '비싼만큼/Adjective'), (1078, '비싸다/Adjective'), (147, '결론/Noun'), (479, '다신/Verb'), (1352, '안감/Noun'), (1134, '삼/Modifier'), (1177, '성/Modifier'), (2329, '훨씬/Adverb'), (389, '낫다/Noun'), (837, '명/Noun'), (1670, '이서/Noun'), (699, '만원/Noun'), (1645, '이나/Josa'), (1761, '자리/Noun'), (202, '구석/Noun'), (2097, '탱/Adverb'), (1910, '주고/Verb'), (1164, '서빙/Noun'), (1491, '엉망/Noun'), (1643, '이고/Josa'), (975, '별루/Noun'), (1169, '석/Noun'), (2103, '텅텅/Noun'), (1087, '비었던데/Verb'), (1798, '저/Noun'), (1573, '왜/Noun'), (270, '그렇게/Adverb'), (1911, '주나요/Verb'), (972, '별/Modifier'), (668, '루/Noun'), (1519, '였어요/Verb'), (2141, '편하게/Adjective'), (1755, '있음/Adjective'), (723, '맛남/Noun'), (1459, '언제나/Adverb'), (1862, '조금/Noun'), (1438, '어둡다는/Adjective'), (490, '단점/Noun'), (1101, '빼고는/Verb'), (1904, '좋음/Adjective'), (1444, '어머니/Noun'), (1156, '생신/Noun'), (1828, '전반/Noun'), (1893, '좋았고/Adjective'), (1619, '육회/Noun'), (237, '굿/Noun'), (1081, '비싸지만/Adjective'), (836, '면/Noun'), (1498, '에서는/Josa'), (1717, '일산/Noun'), (985, '보다는/Josa'), (2327, '훌륭한데/Adjective'), (529, '더/Noun'), (1898, '좋았음/Adjective'), (395, '내/Noun'), (696, '만든게/Verb'), (113, '개도/Noun'), (1314, '아까운/Adjective'), (1704, '인생/Noun'), (2034, '최악/Noun'), (497, '닭갈비/Noun'), (387, '남이섬/Noun'), (817, '먹은/Verb'), (1788, '장사치/Noun'), (1938, '지금껏/Noun'), (1673, '이었/Verb'), (0, 'ㄴ/KoreanParticle'), (455, '는데/Eomi'), (1507, '여기/Noun'), (118, '갱신/Noun'), (2280, '했네요/Verb'), (492, '달/Noun'), (1970, '짜/Verb'), (298, '기만/Noun'), (1191, '소스/Noun'), (1115, '사리/Noun'), (2036, '추가/Noun'), (496, '닭/Noun'), (1427, '양배추/Noun'), (840, '몇개/Noun'), (1004, '볶음밥/Noun'), (493, '달기/Noun'), (693, '만/Josa'), (2176, '하고/Verb'), (341, '꾸역꾸역/Adverb'), (2223, '한/Verb'), (779, '먹고/Verb'), (1282, '싹/Noun'), (965, '버리고/Verb'), (371, '나와서/Verb'), (1149, '샌드위치/Noun'), (1116, '사먹었네요/Verb'), (737, '맛있는/Adjective'), (1391, '알/Noun'), (291, '기대도/Verb'), (740, '맛있는데/Adjective'), (1796, '재료/Noun'), (1365, '안좋은/Adjective'), (1864, '조리/Noun'), (1774, '잘못/Noun'), (2210, '하신/Verb'), (1469, '없네요/Adjective'), (1641, '이/Noun'), (141, '게/Josa'), (1701, '인분/Noun'), (2220, '한/Determiner'), (1861, '조각/Noun'), (1595, '운동/Noun'), (8, 'ㅋ/KoreanParticle'), (1251, '신기하게도/Adjective'), (1396, '알바/Noun'), (1829, '전부/Noun'), (1055, '불친절합니다/Adjective'), (9, 'ㅋㅋ/KoreanParticle'), (1714, '일/Noun'), (2178, '하기/Verb'), (1264, '싫은건/Adjective'), (1392, '알겠는데/Verb'), (1195, '손님/Noun'), (1780, '잡치게/Verb'), (2167, '필요/Noun'), (1489, '없잖아요/Adjective'), (1538, '오늘이/Noun'), (2020, '첨/Adverb'), (1683, '이자/Noun'), (687, '마지막/Noun'), (3, 'ㅂㅂ/KoreanParticle'), (956, '배탈/Noun'), (391, '났습니다/Verb'), (948, '배/Noun'), (1363, '안좋네요/Adjective'), (2164, '프렌차이즈/Noun'), (1413, '약간/Noun'), (1756, '있지만/Adjective'), (1846, '정도/Noun'), (1318, '아니고/Adjective'), (2258, '해서/Verb'), (1830, '전체/Noun'), (1939, '지난/Noun'), (589, '뒤/Noun'), (1692, '인/Josa'), (1937, '지금/Noun'), (954, '배아/Noun'), (2131, '파/Noun'), (2301, '혹/Noun'), (1232, '시나/Noun'), (617, '들어와/Verb'), (1015, '봤더니/Verb'), (261, '그러시네요/Adjective'), (1496, '에바/Noun'), (1297, '쓰는/Verb'), (106, '같은게/Adjective'), (1226, '시간/Noun'), (1034, '부터/Josa'), (1877, '종일/Noun'), (1175, '설사/Noun'), (2286, '했어요/Verb'), (918, '밑/Noun'), (672, '리뷰/Noun'), (977, '보/Noun'), (463, '니까/Josa'), (1114, '사람/Noun'), (1743, '있던데/Adjective'), (265, '그런게/Adjective'), (1322, '아니라/Adjective'), (1603, '원래/Noun'), (262, '그런/Adjective'), (103, '같으니/Adjective'), (23, '가급적/Adverb'), (57, '가지/Noun'), (678, '마세요/Verb'), (983, '보다/Josa'), (1051, '불친절/Noun'), (300, '기본/Noun'), (1088, '비위생적/Noun'), (1722, '임/Noun'), (2040, '춘천/Noun'), (743, '맛있단/Adjective'), (717, '말/Noun'), (243, '그/Determiner'), (1847, '정돈/Noun'), (1319, '아니고요/Adjective'), (557, '동네/Noun'), (42, '가성/Noun'), (1732, '있게/Adjective'), (821, '먹을만/Verb'), (2247, '합니당/Verb'), (66, '갈/Verb'), (676, '마다/Josa'), (1870, '존맛/Noun'), (951, '배불러요/Adjective'), (2296, '헤으응/Noun'), (2151, '평타/Noun'), (1098, '빨리/Adverb'), (789, '먹기/Noun'), (365, '나오기/Verb'), (2051, '치즈/Noun'), (421, '넣어서/Verb'), (814, '먹으면/Verb'), (185, '괜찮네요/Adjective'), (1890, '좋아하던/Adjective'), (648, '떨어졌네요/Verb'), (363, '나서/Verb'), (1347, '아팠습니다/Adjective'), (87, '갔던/Verb'), (2054, '친구/Noun'), (1001, '복통/Noun'), (1463, '엄청/Adverb'), (167, '고생/Noun'), (1148, '새로오시는/Adjective'), (26, '가까히/Adjective'), (1372, '앉으시길래/Verb'), (124, '거리/Noun'), (579, '두기/Noun'), (2254, '해달라고/Verb'), (1033, '부탁/Noun'), (2283, '했더니/Verb'), (1397, '알바생/Noun'), (1810, '저희/Noun'), (263, '그런거/Adjective'), (2227, '한다네요/Verb'), (418, '넘어가는데/Verb'), (2190, '하는게/Verb'), (1905, '좋지/Adjective'), (1387, '않을까요/Verb'), (1260, '실망/Noun'), (1533, '예전/Noun'), (1012, '봐서/Verb'), (2087, '키/Noun'), (2085, '큰/Verb'), (139, '겁나/Verb'), (1423, '양/Noun'), (119, '걍/Adverb'), (1851, '제/Modifier'), (1616, '육/Modifier'), (1003, '볶음/Noun'), (1678, '이었음/Verb'), (1426, '양도/Noun'), (410, '너/Modifier'), (872, '무적/Noun'), (1433, '어/Suffix'), (1916, '주문/Noun'), (1770, '잘/VerbPrefix'), (613, '들어간/Verb'), (133, '건가/Noun'), (2289, '했을/Verb'), (329, '깨끗하고/Adjective'), (1612, '위치/Noun'), (1878, '좋/Adjective'), (308, '긴한데/Verb'), (1813, '적고/Verb'), (252, '그닥또/Noun'), (58, '가진/Verb'), (1388, '않을듯/Verb'), (248, '그나마/Adverb'), (748, '맛있어서/Adjective'), (1011, '봐/Verb'), (916, '밋있어/Noun'), (95, '같고/Adjective'), (420, '넘흐/Noun'), (1000, '복작복작/Adverb'), (576, '두/Determiner'), (295, '기도/Noun'), (1750, '있었음/Adjective'), (1313, '아까/Adjective'), (1598, '움/Noun'), (1503, '엔/Josa'), (932, '반/Noun'), (1410, '야채/Noun'), (1935, '지/Modifier'), (1682, '이이이/Noun'), (1821, '적어요/Verb'), (729, '맛잇으느/Noun'), (1079, '비싸다으/Adjective'), (1549, '오호/Exclamation'), (2058, '친절하고/Adjective'), (756, '맛있었어요/Adjective'), (1730, '잇게/Verb'), (277, '근데/Adverb'), (1083, '비싼데/Adjective'), (1480, '없어요/Adjective'), (598, '드세요/Verb'), (7, 'ㅈㅁㅌㅌㄱㄹ/KoreanParticle'), (1072, '비는/Verb'), (1381, '않아요/Verb'), (770, '매우/Noun'), (1086, '비쌈/Adjective'), (1852, '제/Noun'), (2083, '크게/Noun'), (1172, '선호/Noun'), (2215, '하지/Verb'), (1379, '않는/Verb'), (1508, '여긴/Verb'), (542, '데려간/Verb'), (1948, '지인/Noun'), (704, '만족했어요/Adjective'), (1136, '삼겹/Noun'), (856, '목살/Noun'), (2251, '항정살/Noun'), (1178, '세/Modifier'), (1005, '본/Modifier'), (1928, '중/Suffix'), (117, '갠/Noun'), (1625, '으론/Josa'), (1193, '손/Noun'), (338, '꼽힘/Verb'), (260, '그러나/Conjunction'), (583, '두번째/Noun'), (316, '까진/Josa'), (1664, '이렇게/Adverb'), (1029, '부위/Noun'), (1421, '얐/Noun'), (199, '구나/Noun'), (79, '감탄/Noun'), (1180, '세번/Noun'), (1978, '째/Suffix'), (815, '먹으면서/Verb'), (841, '몇번/Noun'), (1308, '씹히는거/Verb'), (962, '뱉어내고/Verb'), (810, '먹었음/Verb'), (1963, '질겨/Noun'), (253, '그때/Noun'), (1509, '여름/Noun'), (1449, '어쩌구/Noun'), (1431, '얘기/Noun'), (2275, '해줬는데/Verb'), (236, '굽는/Verb'), (1219, '스킬/Noun'), (474, '다른거/Adjective'), (284, '기/Modifier'), (1196, '손질/Noun'), (1872, '좀/Noun'), (569, '된것/Verb'), (102, '같았음/Adjective'), (1738, '있는데/Adjective'), (1218, '스러웠/Adjective'), (2321, '후론/Noun'), (1262, '실패할까봐/Adjective'), (29, '가는/Verb'), (1342, '아쉽네요/Adjective'), (325, '깜놀/Noun'), (1618, '육즙/Noun'), (912, '미침/Adjective'), (2065, '친절하시고/Adjective'), (74, '감사합니다/Verb'), (780, '먹고가요/Verb'), (471, '다르게/Adjective'), (1053, '불친절하네요/Adjective'), (895, '물어보면/Verb'), (241, '귀찮다는/Adjective'), (1268, '심하세요/Adjective'), (1137, '삼겹살/Noun'), (1617, '육전/Noun'), (2168, '필요없어요/Adjective'), (1596, '운영/Noun'), (1899, '좋으십니다/Adjective'), (1552, '올랐어요/Verb'), (348, '나/Noun'), (2009, '찾아/Verb'), (643, '떠난다/Verb'), (1539, '오랜/Modifier'), (1608, '웨이/Noun'), (2130, '팅/Noun'), (2262, '해야하는지는/Verb'), (230, '굳/Adjective'), (710, '많아서/Adjective'), (427, '노/Noun'), (1338, '아쉬워요/Adjective'), (251, '그닥/Noun'), (415, '넘/Verb'), (1277, '싸가지/Noun'), (1487, '없음/Adjective'), (605, '들/Verb'), (46, '가시길/Verb'), (1836, '점도/Noun'), (257, '그램/Noun'), (1602, '원/Noun'), (59, '각/Noun'), (1305, '씩/Suffix'), (2199, '하려고/Verb'), (2287, '했으나/Verb'), (2023, '첫/Noun'), (2033, '최소/Noun'), (2259, '해야/Verb'), (2226, '한다고/Verb'), (1654, '이라도/Josa'), (2119, '특별하면/Adjective'), (857, '몰라/Verb'), (2184, '하남/Noun'), (560, '돼지/Noun'), (1207, '수준/Noun'), (771, '매장/Noun'), (1228, '시끄러/Adjective'), (545, '도/Noun'), (650, '떼기/Verb'), (1235, '시장/Noun'), (5, 'ㅇㅇ/KoreanParticle'), (925, '바빠서/Adjective'), (664, '런가/Noun'), (1972, '짜증/Noun'), (969, '베이스/Noun'), (324, '깔려있음/Verb'), (413, '넓고/Adjective'), (959, '밴다는/Verb'), (1793, '장점/Noun'), (2120, '특별함은/Adjective'), (1752, '있으나/Adjective'), (1080, '비싸서/Adjective'), (436, '놀랐던/Verb'), (302, '기억/Noun'), (362, '나쁘진/Adjective'), (1386, '않은데/Verb'), (2326, '훌륭한/Adjective'), (1321, '아니다/Adjective'), (1581, '요기/Noun'), (104, '같으면/Adjective'), (638, '땅코/Noun'), (63, '간다/Noun'), (1611, '위생/Noun'), (1150, '샐러드/Noun'), (2019, '철/Noun'), (1204, '수세미/Noun'), (373, '나왔는데/Verb'), (1710, '인지/Josa'), (908, '미안하/Adjective'), (489, '단말/Noun'), (2230, '한마디/Noun'), (922, '바꿔/Verb'), (596, '드릴/Noun'), (312, '까요/Verb'), (923, '바꿔주는건/Verb'), (503, '당연하고/Adjective'), (1112, '사과/Noun'), (2261, '해야하는거/Verb'), (1327, '아닌가요/Adjective'), (213, '구워주러/Verb'), (1544, '오신/Noun'), (388, '남자/Noun'), (1038, '분/Suffix'), (523, '대충대충/Adverb'), (1263, '싫으시면/Adjective'), (924, '바라는게/Verb'), (1060, '불편함을/Adjective'), (452, '느낄/Verb'), (1840, '점주/Noun'), (1697, '인걸/Josa'), (1644, '이글/Noun'), (1946, '지우지/Verb'), (682, '마시고/Verb'), (1857, '제발/Noun'), (883, '문제/Noun'), (2096, '태우시고/Verb'), (1415, '얇게/Adjective'), (1289, '썰어서/Verb'), (196, '교육/Noun'), (2170, '필요합니다/Adjective'), (2142, '편하고/Adjective'), (1360, '안배/Noun'), (475, '다만/Noun'), (1445, '어수선함/Adjective'), (1294, '쏘/Verb'), (1823, '적은거/Verb'), (96, '같긔/Noun'), (1208, '숙성/Noun'), (1556, '옷/Noun'), (1355, '안나/Noun'), (636, '땀안/Verb'), (2332, '흘리고/Verb'), (1571, '왔어요/Verb'), (322, '깔끔해서/Adjective'), (864, '무례한/Adjective'), (491, '단체/Noun'), (1194, '손놈/Noun'), (458, '능력/Noun'), (769, '매니저/Noun'), (151, '계란찜/Noun'), (337, '꼭/Noun'), (816, '먹으세요/Verb'), (1657, '이랑/Josa'), (1023, '부드럽고/Adjective'), (736, '맛있네요/Adjective'), (808, '먹었어요/Verb'), (1340, '아쉬웠어요/Adjective'), (739, '맛있는네/Adjective'), (2155, '폭격/Noun'), (1966, '질도/Noun'), (1230, '시끄러워서/Adjective'), (1337, '아쉬움/Noun'), (1879, '좋게/Adjective'), (234, '굽네치킨/Noun'), (1278, '싸게/Verb'), (360, '나쁘게/Adjective'), (1530, '예상/Noun'), (1105, '뻔한/Adjective'), (1629, '음료/Noun'), (865, '무료/Noun'), (1660, '이런/Adjective'), (2008, '찾다니/Verb'), (2318, '회전/Noun'), (1620, '율도/Noun'), (1096, '빨/Noun'), (661, '라서/Josa'), (1257, '신선합니다/Adjective'), (1210, '술/Noun'), (873, '무제한/Noun'), (1941, '지려/Verb'), (480, '다양/Noun'), (877, '무한리필/Noun'), (1606, '월일/Noun'), (2282, '했는데요/Verb'), (2302, '혹시/Noun'), (1809, '저희/Modifier'), (2091, '탈/Noun'), (785, '먹고다음/Verb'), (390, '났는지/Verb'), (240, '궁금하네요/Adjective'), (382, '남겨주세요/Verb'), (80, '갑/Noun'), (1192, '소주/Noun'), (772, '맥주/Noun'), (876, '무한/Noun'), (2018, '천원/Noun'), (2035, '쵝/Noun'), (13, 'ㅎ/KoreanParticle'), (1875, '종업원/Noun'), (2024, '청결하고/Adjective'), (83, '갓/Noun'), (2115, '튀긴/Verb'), (2052, '치킨/Noun'), (1068, '비갑/Noun'), (1279, '싸고/Verb'), (1767, '잔/Noun'), (538, '덤/Noun'), (844, '모든/Noun'), (1565, '완벽/Noun'), (1457, '어흥/Adverb'), (2336, '흥흥/Noun'), (2335, '흥/Noun'), (2129, '팁/Noun'), (1188, '소/Modifier'), (281, '금구/Noun'), (1045, '불로/Noun'), (232, '굽/Noun'), (1424, '양념/Noun'), (1041, '불/Noun'), (398, '내려서/Verb'), (222, '구으세요/Verb'), (239, '굿굿굿/Noun'), (1686, '이지만/Josa'), (193, '괜찮음/Adjective'), (1805, '저렴하지만/Adjective'), (1804, '저렴하지/Adjective'), (1382, '않았다/Verb'), (691, '막국수/Noun'), (752, '맛있었고/Adjective'), (950, '배부르게/Adjective'), (19, '가게/Noun'), (2062, '친절하셨습니다/Adjective'), (1977, '짱/Noun'), (120, '걍개마싯윰/Noun'), (2, 'ㄹㅇ/KoreanParticle'), (1873, '좀비/Noun'), (1280, '싸긴/Verb'), (10, 'ㅋㅋㅋ/KoreanParticle'), (571, '된장/Noun'), (940, '밥/Noun'), (1076, '비빔국수/Noun'), (1613, '유명해지기/Adjective'), (1035, '부터/Noun'), (84, '갔는데/Verb'), (2171, '하/Exclamation'), (761, '맛집/Noun'), (563, '되/Verb'), (964, '버려서/Verb'), (1925, '줄/Noun'), (1166, '서야/Verb'), (1592, '우울하네요/Adjective'), (2078, '콜키/Noun'), (1934, '지/Josa'), (2165, '프리/Noun'), (968, '베리/Noun'), (2076, '코목살/Noun'), (2136, '퍽퍽/Noun'), (2279, '했고/Verb'), (1665, '이름/Noun'), (82, '값/Noun'), (826, '먹자마자/Verb'), (1547, '오지/Noun'), (115, '개존맛/Noun'), (568, '된/Adjective'), (1716, '일반/Noun'), (2027, '체인점/Noun'), (2177, '하고는/Josa'), (1992, '차이/Noun'), (1735, '있네요/Adjective'), (264, '그런건/Adjective'), (1688, '이해/Noun'), (565, '되는데/Verb'), (812, '먹으러/Verb'), (86, '갔다가/Verb'), (1781, '잡침/Noun'), (1806, '저렴한/Adjective'), (1326, '아닌/Adjective'), (1801, '저렇게/Adverb'), (1807, '저렴한지/Adjective'), (848, '모르겠음/Verb'), (2016, '처음/Noun'), (1733, '있냐고/Adjective'), (896, '물어봤는데/Verb'), (422, '네/Noun'), (898, '물으면/Verb'), (839, '몇/Noun'), (2128, '팀/Noun'), (2303, '혹은/Adverb'), (1461, '얼마나/Noun'), (288, '기다려야하는지/Verb'), (2274, '해줘야하는데/Verb'), (658, '라니/Josa'), (634, '딱히/Adjective'), (822, '먹을만한/Verb'), (1479, '없어서/Adjective'), (2306, '화가/Noun'), (2015, '처럼/Josa'), (553, '돌아다면서/Verb'), (157, '고/Noun'), (561, '돼지고기/Noun'), (457, '늘/Noun'), (1609, '웨이팅/Noun'), (1744, '있습니다/Adjective'), (973, '별/Noun'), (1315, '아까웁니/Noun'), (1837, '점심/Noun'), (1054, '불친절함/Adjective'), (449, '느끼고/Verb'), (1273, '싶으면/Verb'), (43, '가세/Noun'), (618, '들어왔는데/Verb'), (1356, '안내/Noun'), (2072, '커녕/Noun'), (1702, '인사/Noun'), (1186, '셋팅/Noun'), (1590, '우리/Noun'), (459, '늦게/Verb'), (1550, '온/Noun'), (2264, '해주고/Verb'), (927, '바쁜/Adjective'), (100, '같아/Adjective'), (1554, '올려진/Verb'), (893, '물수건/Noun'), (54, '가져다가/Verb'), (1290, '썼더니/Verb'), (245, '그거/Noun'), (1323, '아니라면서/Adjective'), (1525, '옆팀/Noun'), (981, '보는/Verb'), (536, '던지시더라구요/Verb'), (859, '몰랐다고/Verb'), (1906, '죄송하다고/Adjective'), (437, '놀랬으면/Adjective'), (526, '대화/Noun'), (1929, '중단/Noun'), (2290, '했을까요/Verb'), (735, '맛있긴한데/Adjective'), (2298, '협소/Noun'), (2333, '흠/Noun'), (1091, '비해/Verb'), (2146, '평범해요/Adjective'), (656, '라고/Josa'), (1562, '와인/Noun'), (1110, '사갔는데/Verb'), (1548, '오프너/Noun'), (1854, '제공/Noun'), (2196, '하더라구요/Verb'), (1631, '음식점/Noun'), (1661, '이런/Modifier'), (149, '경우/Noun'), (509, '당황/Noun'), (2292, '했지만/Verb'), (1059, '불판앞/Noun'), (629, '따먹었습니다/Verb'), (11, 'ㅋㅋㅋㅋ/KoreanParticle'), (913, '민망했어요/Adjective'), (2218, '하하/Noun'), (730, '맛있/Adjective'), (468, '다기/Noun'), (580, '두꺼운/Adjective'), (742, '맛있다는/Adjective'), (1703, '인상/Noun'), (94, '강했고/Adjective'), (2214, '하자/Noun'), (835, '면/Josa'), (333, '껍데기/Noun'), (2121, '특별했으면/Adjective'), (135, '걸/Noun'), (2043, '충분/Noun'), (1723, '임대료/Noun'), (640, '때문/Noun'), (906, '미식/Noun'), (1048, '불모/Noun'), (2325, '훌륭하다/Adjective'), (2038, '추천/Noun'), (820, '먹을거면/Verb'), (718, '말고/Josa'), (786, '먹고싶었으나/Verb'), (460, '늦은/Verb'), (2161, '품절/Noun'), (1018, '부근/Noun'), (2006, '찾기/Noun'), (2342, '힘들어서/Adjective'), (1384, '않았지만/Verb'), (1028, '부실하고/Adjective'), (211, '구워주는것도/Verb'), (1173, '설렁설렁/Adverb'), (2166, '프리미엄/Noun'), (708, '많기/Adjective'), (1794, '재/Noun'), (824, '먹음/Noun'), (1357, '안되는/Adjective'), (1988, '찐/Verb'), (1709, '인정/Noun'), (763, '맞게/Verb'), (2098, '터지는/Verb'), (309, '길었지만/Adjective'), (2045, '충분히/Adjective'), (2222, '한/Modifier'), (1677, '이었어요/Verb'), (1950, '지저분합니다/Adjective'), (1712, '인터넷/Noun'), (2010, '찾아갔는데/Verb'), (2233, '한정/Noun'), (1570, '왔습니다/Verb'), (1917, '주방/Noun'), (1500, '에서의/Josa'), (1751, '있었지만/Adjective'), (246, '그걸/Adverb'), (275, '극복/Noun'), (2186, '하네요/Verb'), (1944, '지역/Noun'), (1945, '지오다노/Noun'), (592, '뒷골목/Noun'), (2163, '프랜차이즈/Noun'), (1933, '즐비하고/Adjective'), (819, '먹을/Verb'), (1482, '없었는데/Adjective'), (1155, '생겼습니다/Verb'), (1142, '상당한데/Adjective'), (212, '구워주니까/Verb'), (531, '더욱/Noun'), (685, '마음/Noun'), (619, '들었습니다/Verb'), (2235, '한해/Noun'), (150, '곁들여/Verb'), (1891, '좋아하시는/Adjective'), (2000, '참고/Noun'), (2204, '하세요/Verb'), (1808, '저렴해/Adjective'), (993, '보이/Noun'), (1942, '지만/Josa'), (794, '먹다/Verb'), (987, '보면/Verb'), (799, '먹어서/Verb'), (152, '계산/Noun'), (282, '금액/Noun'), (1648, '이다/Josa'), (2216, '하지만/Conjunction'), (1440, '어디서/Adverb'), (796, '먹더라도/Verb'), (1085, '비쌀/Adjective'), (2250, '항정/Noun'), (1203, '수량/Noun'), (982, '보니/Verb'), (758, '맛있으니/Adjective'), (76, '감안/Noun'), (1903, '좋을/Adjective'), (98, '같다/Adjective'), (1120, '사이드/Noun'), (1982, '쫀득/Noun'), (142, '게/Noun'), (1728, '입맛/Noun'), (765, '맞다/Verb'), (720, '맘/Noun'), (440, '놓고/Verb'), (1046, '불리/Noun'), (798, '먹어도/Verb'), (1819, '적당한/Adjective'), (1996, '착한/Adjective'), (18, '가/Verb'), (725, '맛없기/Adjective'), (1443, '어려운데/Adjective'), (1795, '재래/Noun'), (285, '기/Noun'), (1430, '양파/Noun'), (1834, '절임/Noun'), (1662, '이런거/Adjective'), (482, '다쳐도/Verb'), (2137, '퍽퍽함/Noun'), (1760, '자르는/Verb'), (1069, '비계/Noun'), (1731, '있거나/Adjective'), (1133, '살코기/Noun'), (1749, '있었는데/Adjective'), (728, '맛없음/Adjective'), (2011, '찾아볼/Verb'), (1217, '슈도/Noun'), (1483, '없었다/Adjective'), (2147, '평소/Noun'), (784, '먹고다/Verb'), (425, '녀/Noun'), (12, 'ㅋㅋㅋㅋㅋ/KoreanParticle'), (424, '네이버/Noun'), (978, '보고/Noun'), (875, '무질/Noun'), (143, '겨/Noun'), (1138, '삼킬수가/Verb'), (2240, '할말은/Verb'), (716, '많지만/Adjective'), (1380, '않습니다/Verb'), (1258, '신촌/Noun'), (2313, '황소/Noun'), (176, '곱창/Noun'), (108, '같음/Adjective'), (1019, '부담/Noun'), (620, '들으시곤/Verb'), (1758, '자꾸/Noun'), (2001, '참여/Noun'), (2209, '하시려/Verb'), (966, '번/Noun'), (1320, '아니기에/Adjective'), (1250, '신경/Noun'), (1301, '쓰이긴/Verb'), (2291, '했음/Verb'), (1031, '부족해서인지/Adjective'), (2169, '필요한거/Adjective'), (1855, '제때/Noun'), (935, '받기/Verb'), (2341, '힘들더라구요/Adjective'), (1239, '시켰으면/Verb'), (1176, '섭할/Adjective'), (1104, '뻔/Noun'), (2284, '했습니다/Verb'), (1897, '좋았으면/Adjective'), (483, '닥/Noun'), (863, '무난/Noun'), (726, '맛없다/Adjective'), (1521, '였음/Verb'), (296, '기름/Noun'), (1095, '빠지는/Verb'), (225, '구조도/Noun'), (1324, '아니라서/Adjective'), (1368, '안타/Noun'), (1201, '수가/Noun'), (926, '바쁘고/Adjective'), (947, '방치/Noun'), (506, '당하기/Adjective'), (1216, '쉽습니다/Verb'), (1965, '질긴/Verb'), (508, '당해서/Adjective'), (144, '겨진/Verb'), (1339, '아쉬웠습니다/Adjective'), (507, '당하다가/Adjective'), (1968, '집게/Noun'), (659, '라도/Josa'), (1270, '십사/Noun'), (1511, '여쭤/Verb'), (1842, '젓가락/Noun'), (591, '뒤집으면/Verb'), (570, '된다고/Verb'), (2205, '하셔서/Verb'), (2113, '튀고/Verb'), (707, '많고/Adjective'), (869, '무슨/Modifier'), (805, '먹었는지/Verb'), (847, '모르겠어요/Verb'), (41, '가서/Verb'), (1243, '시킬/Verb'), (1481, '없었/Adjective'), (709, '많다/Adjective'), (1288, '써줌/Verb'), (1964, '질기/Verb'), (753, '맛있었는데/Adjective'), (1582, '요새/Noun'), (1351, '안가요/Verb'), (1797, '저/Determiner'), (1181, '세상/Noun'), (1776, '잡내/Verb'), (165, '고무/Noun'), (2022, '첫/Modifier'), (960, '뱉고싶은/Verb'), (1266, '심정/Noun'), (1267, '심하고/Adjective'), (2101, '턱/Noun'), (81, '갑니다/Verb'), (4, 'ㅅ/KoreanParticle'), (920, '바/Noun'), (1705, '인성/Noun'), (871, '무엇/Noun'), (189, '괜찮았어요/Adjective'), (712, '많은/Adjective'), (683, '마시면서/Verb'), (1366, '안주/Noun'), (361, '나쁘지/Adjective'), (1390, '않지만/Verb'), (1528, '예민하지/Adjective'), (1839, '점점/Noun'), (1541, '오르구/Verb'), (2133, '판이/Noun'), (655, '라/Josa'), (450, '느끼하고/Adjective'), (1998, '찬/Noun'), (1432, '어/Eomi'), (378, '난/Noun'), (1332, '아래/Noun'), (1385, '않은/Verb'), (2320, '후기/Noun'), (1734, '있네/Adjective'), (2224, '한건데/Verb'), (1435, '어느/Modifier'), (197, '구/Modifier'), (1594, '우지/Noun'), (1458, '언능/Adverb'), (1411, '야함/Adjective'), (2114, '튀기듯이/Verb'), (1002, '볶고/Verb'), (1762, '자시/Noun'), (53, '가져다/Verb'), (1913, '주는데/Verb'), (1036, '부턴/Josa'), (2032, '최대한/Noun'), (958, '백프로/Noun'), (1889, '좋아하는데/Adjective'), (1128, '살면서/Verb'), (350, '나가는/Verb'), (1401, '알았음/Verb'), (2090, '타이어/Noun'), (1245, '식/Suffix'), (70, '감/Noun'), (311, '깊은/Adjective'), (401, '냄비/Noun'), (541, '데/Noun'), (207, '구워서/Verb'), (1093, '빠져나가는/Verb'), (224, '구조/Noun'), (226, '국/Noun'), (793, '먹는줄/Verb'), (1100, '빼/Noun'), (495, '달라/Noun'), (228, '국자/Noun'), (1719, '일일이/Noun'), (645, '떠주는데/Verb'), (255, '그래도/Adverb'), (1979, '쩔어있고/Verb'), (1408, '앵/Adverb'), (65, '간하면/Verb'), (351, '나가는줄/Verb'), (1400, '알았습니다/Verb'), (1307, '씹다/Verb'), (961, '뱉다/Verb'), (1614, '유명해진만큼/Adjective'), (1860, '제품/Noun'), (1291, '썼으면/Verb'), (535, '덕분/Noun'), (2229, '한동안/Adverb'), (2028, '쳐다볼듯/Verb'), (1, 'ㄷㄷㄷ/KoreanParticle'), (1962, '질겅질겅/Noun'), (1094, '빠지/Verb'), (903, '믄/Modifier'), (843, '모/Noun'), (588, '둠을/Verb'), (1237, '시켰는데/Verb'), (754, '맛있었다/Adjective'), (266, '그런데/Conjunction'), (781, '먹고나니/Verb'), (462, '니글거렸음/Noun'), (297, '기름기/Noun'), (713, '많음/Adjective'), (403, '냅고/Verb'), (2080, '콩나물국/Noun'), (1074, '비린내가/Adjective'), (381, '남/Noun'), (366, '나오는/Verb'), (1097, '빨랐고/Adjective'), (208, '구워져서/Verb'), (1070, '비교/Noun'), (537, '덜/Noun'), (1969, '집중/Noun'), (374, '나은듯/Verb'), (2066, '친절하시다/Adjective'), (1740, '있다는/Adjective'), (915, '믿기지/Verb'), (1389, '않음/Verb'), (1698, '인근/Noun'), (2007, '찾는다면/Verb'), (646, '떡/Noun'), (547, '도리/Noun'), (2093, '탕/Noun'), (745, '맛있댜/Noun'), (833, '메인/Noun'), (2173, '하게/Verb'), (567, '되요/Verb'), (77, '감자/Noun'), (2014, '채전은/Verb'), (584, '두툼/Noun'), (929, '바삭바삭/Adverb'), (2153, '포슬포슬/Adverb'), (2073, '케찹/Noun'), (1987, '찍어/Verb'), (800, '먹어야/Verb'), (759, '맛있은데/Adjective'), (1757, '자극/Noun'), (1718, '일수/Noun'), (500, '닭볶음탕/Noun'), (1685, '이지/Josa'), (1375, '않나요/Verb'), (827, '먹죠/Verb'), (751, '맛있어하는/Adjective'), (2042, '충격/Noun'), (499, '닭도리탕/Noun'), (293, '기대하는/Adjective'), (78, '감자전/Noun'), (2117, '튀김전인지/Verb'), (858, '몰라서/Verb'), (632, '딱딱하고/Adjective'), (727, '맛없어서/Adjective'), (1971, '짜요/Verb'), (647, '떡볶이/Noun'), (1737, '있는건/Adjective'), (586, '둘째/Noun'), (2050, '치고/Josa'), (533, '더움/Noun'), (681, '마스크/Noun'), (1303, '씀/Verb'), (15, 'ㅎㅎㅎ/KoreanParticle'), (1063, '붙어있는/Verb'), (651, '떼는거/Verb'), (774, '맨손/Noun'), (16, 'ㅎㅎㅎㅎ/KoreanParticle'), (1209, '숟가락/Noun'), (55, '가져다줄/Verb'), (1310, '씻은/Verb'), (510, '닿는/Verb'), (1026, '부분/Noun'), (1778, '잡아서/Verb'), (171, '고요/Noun'), (1309, '씻는거/Verb'), (992, '보였네요/Verb'), (2338, '힐끔/Noun'), (1499, '에서도/Josa'), (334, '껴요/Verb'), (71, '감각/Noun'), (1856, '제로/Noun'), (939, '밤/Noun'), (1214, '술취해/Noun'), (39, '가면/Noun'), (996, '보일테니까/Verb'), (2047, '취하/Noun'), (1225, '시/Noun'), (599, '드세용/Verb'), (393, '낮/Noun'), (1493, '에가/Josa'), (1160, '서/Verb'), (2106, '토/Noun'), (1107, '뻔햇/Noun'), (394, '내/Determiner'), (1017, '부가/Noun'), (1446, '어어/Noun'), (862, '무/Noun'), (539, '덥다/Adjective'), (44, '가스/Noun'), (963, '버너/Noun'), (1672, '이어서/Josa'), (254, '그래도/Adjective'), (1259, '실내/Noun'), (1551, '온도/Noun'), (397, '내려가지를/Verb'), (1501, '에어컨/Noun'), (1147, '새로/Adjective'), (1118, '사세요/Verb'), (498, '닭고기/Noun'), (45, '가슴/Noun'), (305, '기준/Noun'), (931, '반/Modifier'), (677, '마리/Noun'), (610, '들어가는데/Verb'), (1130, '살이었음/Verb'), (112, '개개/Noun'), (111, '개/Suffix'), (909, '미쳤고/Adjective'), (1369, '안퍽퍽해/Noun'), (1558, '와/Verb'), (227, '국물/Noun'), (2068, '친절해요/Adjective'), (518, '대신/Noun'), (1980, '쪼금/Noun'), (1336, '아쉬운건/Adjective'), (1099, '빵빵/Noun'), (534, '더워요/Adjective'), (1102, '빼곤/Verb'), (1536, '오고싶을/Verb'), (2138, '페이/Noun'), (38, '가맹/Noun'), (1331, '아님/Adjective'), (881, '문/Noun'), (1221, '스티커/Noun'), (1064, '붙어있는데/Verb'), (1358, '안된다고/Adjective'), (1146, '상품권/Noun'), (860, '못/Noun'), (1299, '쓰니/Verb'), (2294, '헛수/Noun'), (1569, '왔다가/Verb'), (477, '다시/Noun'), (1534, '오/Modifier'), (665, '려고/Noun'), (1931, '즐겨찾기/Noun'), (1947, '지움/Verb'), (2149, '평일/Noun'), (1799, '저녁/Noun'), (1213, '술집/Noun'), (25, '가까/Adjective'), (2125, '특이한거/Adjective'), (614, '들어간거라고/Verb'), (573, '될듯/Verb'), (2253, '해놓고/Verb'), (1522, '영수증/Noun'), (577, '두/Josa'), (1367, '안주시/Noun'), (405, '냈는데/Verb'), (173, '고의/Noun'), (845, '모르겠네요/Verb'), (2219, '학생/Noun'), (1892, '좋아할/Adjective'), (776, '맵/Noun'), (1373, '않고/Verb'), (494, '달달/Noun'), (1021, '부드러움/Noun'), (1212, '술안주/Noun'), (2013, '채전/Verb'), (2116, '튀김전이어서/Verb'), (1220, '스타일/Noun'), (1675, '이었구/Verb'), (1825, '적절하게/Adjective'), (777, '맵구/Verb'), (2079, '콩나물/Noun'), (747, '맛있어/Adjective'), (1584, '욤/Noun'), (1820, '적당했습니다/Adjective'), (514, '대기/Noun'), (1464, '업음/Verb'), (522, '대충/Noun'), (615, '들어갔다가/Verb'), (75, '감사합니당/Verb'), (1456, '어후/Noun'), (783, '먹고는/Verb'), (1359, '안될/Adjective'), (684, '마실/Verb'), (2099, '터질거/Verb'), (2203, '하면서/Verb'), (368, '나오면서도/Verb'), (1546, '오자/Noun'), (372, '나왔네요/Verb'), (1694, '인가/Josa'), (1329, '아닌데/Adjective'), (1959, '진심/Noun'), (169, '고소하니/Adjective'), (602, '든든했어요/Adjective'), (842, '모/Modifier'), (622, '듬/Noun'), (223, '구이/Noun'), (1817, '적당하고/Adjective'), (1818, '적당하네요/Adjective'), (89, '강/Noun'), (2039, '추해요/Adjective'), (521, '대창/Noun'), (1676, '이었는데/Verb'), (764, '맞고/Verb'), (1896, '좋았어요/Adjective'), (603, '든든히/Adjective'), (986, '보단/Josa'), (286, '기고/Noun'), (357, '나무/Noun'), (1653, '이라니/Josa'), (1876, '종이컵/Noun'), (1439, '어디/Noun'), (2154, '포장마차/Noun'), (791, '먹는것도/Verb'), (749, '맛있어여/Adjective'), (175, '곱/Noun'), (34, '가득가득/Adverb'), (734, '맛있기도/Adjective'), (511, '대/Modifier'), (2132, '파김치/Noun'), (451, '느끼한/Adjective'), (1779, '잡아주는/Verb'), (2077, '콜라/Noun'), (601, '드시는/Verb'), (93, '강츄/Noun'), (487, '단/Noun'), (1976, '짠단/Verb'), (1975, '짠/Verb'), (31, '가능/Noun'), (882, '문래동/Noun'), (703, '만족해서/Adjective'), (60, '간/Noun'), (953, '배신/Noun'), (2217, '하질/Verb'), (914, '믿고/Verb'), (92, '강추/Noun'), (2109, '통통하고/Adjective'), (1983, '쫄깃한데/Noun'), (1256, '신선한/Adjective'), (1300, '쓰시는거/Verb'), (1283, '싹싹/Noun'), (803, '먹었네요/Verb'), (274, '그치만/Verb'), (35, '가득해서/Adjective'), (170, '고소해요/Adjective'), (1940, '지도/Noun'), (587, '둠/Verb'), (168, '고소하고/Adjective'), (2249, '항상/Noun'), (2295, '헤맸는데/Verb'), (488, '단골/Noun'), (187, '괜찮아요/Adjective'), (219, '구워지는/Verb'), (1013, '봐주셔서/Verb'), (271, '그렇지만/Conjunction'), (278, '글/Noun'), (1577, '외국인/Noun'), (1923, '준다면서/Verb'), (1772, '잘라/Verb'), (1773, '잘라주/Verb'), (181, '곸/Noun'), (1061, '불편했어여/Adjective'), (279, '글구/Noun'), (1659, '이러기/Verb'), (2340, '힘든데/Adjective'), (1777, '잡내가/Verb'), (355, '나는줄/Verb'), (1399, '알았는데/Verb'), (1689, '이후/Noun'), (335, '꼈어요/Verb'), (2239, '할께요/Verb'), (33, '가득/Noun'), (1993, '차있어서/Verb'), (336, '꼬숩/Noun'), (1211, '술술/Noun'), (609, '들어가는/Verb'), (1032, '부추/Noun'), (1281, '싸서/Verb'), (1907, '죠/Josa'), (417, '넘마/Verb'), (738, '맛있는것/Adjective'), (2110, '통통하니/Adjective'), (2104, '테러/Noun'), (2198, '하러/Verb'), (40, '가본/Verb'), (200, '구려/Noun'), (1330, '아닌지/Adjective'), (201, '구분/Noun'), (680, '마셨나/Verb'), (937, '받을/Verb'), (1052, '불친절하고요/Adjective'), (2021, '첨/Noun'), (828, '먼저/Noun'), (364, '나오고/Verb'), (376, '나중/Noun'), (1058, '불판/Noun'), (461, '니/Josa'), (1610, '위/Noun'), (1555, '옮겨/Verb'), (259, '그러/Adjective'), (593, '드/Noun'), (198, '구/Noun'), (256, '그래서/Adverb'), (1089, '비주/Noun'), (1460, '얼/Noun'), (654, '똥/Noun'), (1123, '사진/Noun'), (990, '보시/Noun'), (757, '맛있었어용/Adjective'), (852, '모시고도/Verb'), (36, '가려고요/Verb'), (203, '구성/Noun'), (1402, '알차고/Adjective'), (701, '만족스럽습니다/Adjective'), (481, '다음/Noun'), (2237, '할게요/Verb'), (406, '냉동/Noun'), (2092, '탑/Noun'), (2300, '호일/Noun'), (1298, '쓰는게/Verb'), (244, '그/Noun'), (172, '고유/Noun'), (238, '굿굿/Noun'), (2060, '친절하세요/Adjective'), (1441, '어딜/Adverb'), (27, '가나/Noun'), (1453, '어쩔/Modifier'), (1474, '없다고/Adjective'), (88, '갔을/Verb'), (2064, '친절하셨음/Adjective'), (1027, '부시/Noun'), (1274, '싶을/Verb'), (551, '돈가스/Noun'), (1572, '왔을/Verb'), (2056, '친절하/Adjective'), (1187, '셧/Noun'), (1586, '용/Noun'), (1284, '싼/Verb'), (1527, '예민하/Adjective'), (1255, '신분/Noun'), (606, '들께는/Verb'), (380, '날수/Noun'), (1604, '원인/Noun'), (129, '거치곤/Verb'), (802, '먹었/Verb'), (1224, '습/Noun'), (464, '니당/Verb'), (1919, '주전자/Noun'), (1589, '우동/Noun'), (711, '많아요/Adjective'), (846, '모르겠는데/Verb'), (564, '되고/Verb'), (1353, '안경/Noun'), (1354, '안끼/Noun'), (1863, '조끼/Noun'), (2134, '패딩/Noun'), (1726, '입는/Verb'), (6, 'ㅈㄴ/KoreanParticle'), (942, '밥맛/Noun'), (649, '떨어질/Verb'), (1669, '이상/Noun'), (2260, '해야하고/Verb'), (971, '변두리/Noun'), (315, '까지와/Josa'), (1681, '이유/Noun'), (1395, '알맞은/Adjective'), (667, '로는/Josa'), (1383, '않았으나/Verb'), (1057, '불친절해요/Adjective'), (1803, '저렴하더라도/Adjective'), (1812, '적게/Verb'), (1242, '시킨것도/Verb'), (1985, '찌개/Noun'), (612, '들어가자마자/Verb'), (1680, '이용/Noun'), (1484, '없었습니다/Adjective'), (1170, '선/Noun'), (919, '밑반찬/Noun'), (917, '및/Noun'), (1205, '수저/Noun'), (1184, '셀프/Noun'), (905, '미리/Noun'), (1140, '상관/Noun'), (1485, '없었지만/Adjective'), (2246, '합니다/Verb'), (1909, '주/Noun'), (2102, '턱스/Noun'), (2082, '크/Verb'), (1325, '아니면/Adjective'), (967, '벗고/Verb'), (1144, '상대/Noun'), (705, '만지고있지/Verb'), (1374, '않나/Verb'), (1238, '시켰더니/Verb'), (559, '돼있도/Verb'), (331, '깻잎/Noun'), (428, '노른자/Noun'), (1075, '비빈/Verb'), (2192, '하니/Noun'), (1476, '없다하고/Adjective'), (269, '그럼/Adjective'), (61, '간/Suffix'), (2267, '해주던가/Verb'), (600, '드셔/Verb'), (988, '보세요/Verb'), (1179, '세게/Verb'), (1655, '이라서/Josa'), (657, '라는/Josa'), (1407, '액션/Noun'), (616, '들어올/Verb'), (447, '눈/Noun'), (456, '는커녕/Josa'), (1113, '사는/Verb'), (1157, '생활/Noun'), (1693, '인/Suffix'), (1624, '으로서/Josa'), (594, '드는/Verb'), (519, '대의/Noun'), (1866, '조용한/Adjective'), (669, '룸/Noun'), (2174, '하겠다는/Verb'), (1252, '신기하다/Adjective'), (128, '거짓말/Noun'), (2206, '하시나요/Verb'), (1545, '오십분/Noun'), (136, '걸린/Verb'), (290, '기다릴/Verb'), (706, '만큼/Noun'), (1185, '셀프서비스/Noun'), (1687, '이진/Noun'), (1377, '않네여/Verb'), (2191, '하는데/Verb'), (608, '들어가구/Verb'), (788, '먹고싶진/Verb'), (1378, '않네요/Verb'), (854, '모임/Noun'), (1605, '원해서/Adjective'), (1526, '예/Modifier'), (1412, '약/Modifier'), (766, '맞춰서/Verb'), (946, '방이/Noun'), (1468, '없냐고/Adjective'), (2194, '하니까/Verb'), (2285, '했어도/Verb'), (2241, '할수/Verb'), (174, '고함/Noun'), (247, '그게/Noun'), (1646, '이냐/Josa'), (897, '물으니/Verb'), (2255, '해도/Noun'), (1233, '시스템/Noun'), (2185, '하냐/Verb'), (1634, '의미/Noun'), (1490, '없지/Adjective'), (1376, '않냐/Verb'), (1010, '봄/Noun'), (555, '돌아오는/Verb'), (501, '답변/Noun'), (1452, '어쩔/Adverb'), (1442, '어떻게/Adjective'), (1800, '저런/Noun'), (1787, '장사/Noun'), (2242, '할수있나싶네요/Verb'), (1335, '아무런/Adjective'), (1343, '아예/Noun'), (930, '밖에/Josa'), (47, '가시는거라면/Verb'), (472, '다른/Modifier'), (1265, '심/Noun'), (1047, '불만/Noun'), (552, '돈까스/Noun'), (952, '배식/Noun'), (512, '대/Suffix'), (1504, '엥꼬나/Noun'), (229, '군대/Noun'), (1165, '서서/Noun'), (2197, '하던것처럼/Verb'), (287, '기다려서/Verb'), (938, '받음/Verb'), (1658, '이랬으면/Adjective'), (116, '개지/Noun'), (637, '땅/Noun'), (2189, '하는건/Verb'), (1871, '존중/Noun'), (934, '받고/Verb'), (1739, '있다/Adjective'), (1858, '제외/Noun'), (1623, '으로만/Josa'), (630, '따져도/Verb'), (2309, '화장실/Noun'), (1674, '이었고/Verb'), (1371, '앉아도/Verb'), (1269, '심해서/Adjective'), (435, '놀람/Noun'), (1404, '앞치마/Noun'), (1949, '지저분하고/Adjective'), (1615, '유튜브/Noun'), (1706, '인스타/Noun'), (367, '나오다/Verb'), (1161, '서고/Noun'), (344, '끝내줌/Adjective'), (1991, '차돌박이/Noun'), (581, '두꺼운듯/Adjective'), (1802, '저렴하고/Adjective'), (585, '둘이가면/Verb'), (2100, '터짐/Verb'), (1287, '써/Verb'), (1119, '사실/Noun'), (1708, '인이가도/Verb'), (1241, '시키셔야/Verb'), (575, '됩니다/Verb'), (2305, '홍보/Noun'), (127, '거짓/Noun'), (1197, '솔직한가/Adjective'), (146, '격인/Noun'), (1600, '워/Noun'), (1286, '싼데/Verb'), (2207, '하시는건/Verb'), (1328, '아닌것/Adjective'), (99, '같습니다/Adjective'), (1886, '좋습니다만/Adjective'), (408, '냉삼/Noun'), (250, '그다지/Noun'), (1883, '좋다고는/Adjective'), (1478, '없습니다/Adjective'), (273, '그야말로/Adverb'), (68, '갈만/Verb'), (778, '머리/Noun'), (2183, '하나로/Noun'), (880, '묶은/Verb'), (307, '긴/Verb'), (1434, '어깨/Noun'), (419, '넘었음/Verb'), (1510, '여자/Noun'), (1691, '익은게/Verb'), (995, '보이는데/Verb'), (530, '더니/Noun'), (289, '기다리라는/Verb'), (416, '넘게/Verb'), (1543, '오시길래/Verb'), (894, '물어보니/Verb'), (1690, '익은거라고/Verb'), (1139, '상/Suffix'), (994, '보이는/Verb'), (991, '보여주니/Verb'), (1292, '쎄게/Adjective'), (2127, '틀어주고/Verb'), (48, '가시던데/Verb'), (2089, '타고/Noun'), (221, '구웠어요/Verb'), (1663, '이럴꺼면/Adjective'), (205, '구울/Noun'), (332, '껄/Noun'), (258, '그랬어요/Adjective'), (2273, '해줌/Verb'), (2277, '핸드폰/Noun'), (867, '무선/Noun'), (2046, '충전/Noun'), (2041, '충/Noun'), (690, '마포/Noun'), (1671, '이어/Verb'), (1843, '정갈하게/Adjective'), (2304, '홀/Noun'), (154, '계신/Adjective'), (1995, '착용/Noun'), (1334, '아무/Noun'), (1370, '안함/Noun'), (1227, '시국/Noun'), (1050, '불안/Noun'), (2193, '하니/Verb'), (1894, '좋았다/Adjective'), (210, '구워주는/Verb'), (1816, '적다/Verb'), (1824, '적음/Verb'), (1989, '차는/Verb'), (24, '가기/Noun'), (724, '맛맛/Noun'), (478, '다시는/Verb'), (22, '가고싶지/Verb'), (2307, '화난/Noun'), (2095, '태우듯이/Verb'), (1416, '얇고/Adjective'), (2048, '취향/Noun'), (660, '라면/Noun'), (1635, '의아/Noun'), (1874, '종로/Noun'), (1253, '신년/Noun'), (2315, '회/Noun'), (186, '괜찮다고/Adjective'), (1986, '찌게/Noun'), (624, '등/Noun'), (1729, '입사/Noun'), (556, '동기/Noun'), (866, '무서워요/Adjective'), (582, '두껍/Adjective'), (1135, '삼/Noun'), (1724, '임데/Verb'), (1418, '얇아요/Adjective'), (268, '그럴지도/Adjective'), (849, '모르니/Verb'), (1560, '와서/Verb'), (1206, '수정/Noun'), (1364, '안좋습니다/Adjective'), (1597, '울/Modifier'), (1312, '아/Josa'), (1168, '서하/Noun'), (504, '당연하다는듯이/Adjective'), (809, '먹었으면/Verb'), (2244, '함께/Adverb'), (2228, '한다는/Modifier'), (1447, '어이/Noun'), (2314, '황제/Noun'), (1182, '세트/Noun'), (2245, '합/Noun'), (204, '구어주는데/Adjective'), (1215, '숯/Noun'), (1414, '약해/Adjective'), (2331, '흐물흐물/Noun'), (283, '급하게/Adjective'), (85, '갔는데도/Verb'), (2269, '해주시/Noun'), (795, '먹다가/Verb'), (980, '보내고/Verb'), (698, '만들어주셔서/Verb'), (1183, '세팅/Noun'), (1564, '완료/Noun'), (1924, '준비/Noun'), (2268, '해주셨고/Verb'), (343, '끝/Noun'), (215, '구워주셨어요/Verb'), (164, '고를줄/Verb'), (1014, '봤는데/Verb'), (163, '고르도록/Verb'), (548, '도와주시고/Verb'), (949, '배고/Verb'), (1884, '좋더라고요/Adjective'), (1428, '양식/Noun'), (2124, '특유/Noun'), (2074, '코/Noun'), (775, '맴/Noun'), (554, '돌아서/Verb'), (1990, '차돌/Noun'), (1684, '이제/Noun'), (2270, '해주시고/Verb'), (352, '나가셨습니다/Verb'), (1815, '적네라고/Verb'), (2201, '하며/Verb'), (2212, '하였습니다/Verb'), (2308, '화로/Noun'), (304, '기존/Noun'), (220, '구웠던/Verb'), (1557, '와/Josa'), (52, '가져가/Verb'), (349, '나가기/Verb'), (37, '가려는데/Verb'), (179, '공간/Noun'), (2234, '한참/Noun'), (386, '남아있는/Verb'), (1841, '접시/Noun'), (441, '놓여있어서/Verb'), (1955, '직/Noun'), (1043, '불러도/Verb'), (1542, '오시/Noun'), (572, '된장찌개/Noun'), (2148, '평이/Noun'), (1636, '의외/Noun'), (1518, '였어여/Verb'), (148, '경/Modifier'), (2017, '천/Modifier'), (1405, '애인/Noun'), (30, '가는게/Verb'), (1850, '정원/Noun'), (345, '끼/Noun'), (1517, '였다/Verb'), (2144, '편했다/Adjective'), (1540, '오랫/Modifier'), (1638, '의향/Noun'), (733, '맛있고요/Adjective'), (323, '깔끔해요/Adjective'), (1271, '싱싱한/Adjective'), (1563, '완도/Noun'), (1126, '산/Noun'), (2312, '활/Noun'), (1826, '전/Modifier'), (999, '복의/Noun'), (342, '꿈틀/Noun'), (125, '거림/Noun'), (326, '깜짝/Noun'), (433, '놀라실/Verb'), (979, '보기/Noun'), (2339, '힘든/Adjective'), (1529, '예쁜/Adjective'), (2084, '크고/Verb'), (1766, '작은/Adjective'), (2162, '프라이/Noun'), (1092, '빗룸/Noun'), (280, '글쎄/Noun'), (719, '말씀/Noun'), (1759, '자랑/Noun'), (1652, '이라고는/Josa'), (2112, '투뿔/Noun'), (1475, '없다네요/Adjective'), (1599, '웃음/Noun'), (1171, '선사/Noun'), (2252, '해/Verb'), (1912, '주는/Verb'), (957, '백억/Noun'), (442, '누/Noun'), (1409, '야간/Noun'), (1668, '이쁘고/Adjective'), (702, '만족하셨어요/Adjective'), (1745, '있어/Adjective'), (434, '놀라웠고/Adjective'), (2180, '하기에도/Verb'), (1814, '적극/Noun'), (818, '먹은게/Verb'), (339, '꽃/Noun'), (2108, '통/Noun'), (891, '물냉/Noun'), (1344, '아이스크림/Noun'), (806, '먹었다/Verb'), (1621, '융숭/Noun'), (520, '대접/Noun'), (73, '감사한다/Verb'), (1713, '인테리어/Noun'), (1249, '식탁/Noun'), (955, '배치도/Noun'), (621, '듦/Verb'), (328, '깨끗하게/Adjective'), (566, '되어/Verb'), (2049, '층집/Noun'), (1901, '좋은고/Adjective'), (813, '먹으며/Verb'), (1515, '연인/Noun'), (1930, '즐거운/Adjective'), (2037, '추억/Noun'), (697, '만들수있는/Verb'), (358, '나물/Noun'), (1559, '와사비/Noun'), (853, '모양/Noun'), (370, '나온다/Verb'), (597, '드립니다/Verb'), (744, '맛있당/Adjective'), (1276, '싸/VerbPrefix'), (689, '마치/Noun'), (1420, '얇음/Adjective'), (1833, '절대/Noun'), (540, '덩어리/Noun'), (1471, '없는건/Adjective'), (2256, '해물탕/Noun'), (1234, '시원해서/Adjective'), (2238, '할께/Verb'), (1585, '욧/Noun'), (911, '미쳤습니다/Adjective'), (879, '묵직하고/Adjective'), (627, '디저트/Noun'), (1593, '우유/Noun'), (384, '남녀/Noun'), (429, '노소/Noun'), (1049, '불문/Noun'), (1932, '즐길/Verb'), (2026, '체인/Noun'), (195, '교대/Noun'), (1202, '수도/Noun'), (901, '뭔가/Noun'), (1765, '작고/Noun'), (1792, '장인어른/Noun'), (1786, '장모님/Noun'), (62, '간곳/Noun'), (1574, '왠만해/Adjective'), (1791, '장인/Noun'), (1785, '장모/Noun'), (276, '극찬/Noun'), (1477, '없던/Adjective'), (1198, '솔직히/Adjective'), (1520, '였으나/Verb'), (633, '딱이였는지/Adjective'), (194, '굉장히/Adjective'), (1236, '시켜/Verb'), (1007, '본것/Verb'), (524, '대패/Noun'), (1306, '씹는/Verb'), (1244, '식/Noun'), (72, '감도/Verb'), (356, '나름/Noun'), (2328, '훌륭했고/Adjective'), (1417, '얇디/Adjective'), (1419, '얇은/Adjective'), (2044, '충분한/Adjective'), (426, '년대/Noun'), (51, '가정/Noun'), (607, '들어/Verb'), (2152, '포근했고/Adjective'), (476, '다소/Noun'), (1229, '시끄러운것/Adjective'), (1103, '뺴/Noun'), (944, '방법/Noun'), (1394, '알려주/Verb'), (1784, '장난/Noun'), (1462, '엄마/Noun'), (2271, '해준거/Verb'), (984, '보다/Verb'), (907, '미안/Noun'), (1151, '생/Noun'), (1117, '사먹을/Verb'), (595, '드럽게/Adjective'), (1505, '여/Josa'), (528, '댓글단/Verb'), (1822, '적은/Verb'), (443, '누가/Noun'), (1122, '사준다/Verb'), (635, '딴데가세요/Verb'), (2150, '평점/Noun'), (1867, '조작/Noun'), (721, '맙시/Noun'), (1425, '양대/Modifier'), (2005, '창집/Noun'), (2031, '최근/Noun'), (1513, '역/Noun'), (989, '보셈/Verb'), (1065, '븐/Noun'), (900, '뭐해/Noun'), (409, '냠냠/Adverb'), (1741, '있다니/Adjective'), (673, '리알/Noun'), (1223, '슬픔/Noun'), (1918, '주셔서/Verb'), (2140, '편안하게/Adjective'), (1922, '준/Noun'), (1111, '사건/Noun'), (1295, '쓰/Verb'), (1566, '완벽한/Adjective'), (1951, '지점/Noun'), (1346, '아주머니/Noun'), (1056, '불친절해서/Adjective'), (21, '가고/Verb'), (1275, '싶지/Verb'), (2118, '특/Noun'), (1422, '양/Modifier'), (2002, '창/Noun'), (392, '났어요/Verb'), (267, '그런지/Adjective'), (183, '관리/Noun'), (2208, '하시는것/Verb'), (1293, '쎈/Adjective'), (773, '맨/Noun'), (2272, '해줄/Verb'), (1637, '의자/Noun'), (1071, '비눗물/Noun'), (2337, '흩/Verb'), (1109, '뿌려져/Verb'), (486, '닦았습니다/Verb'), (340, '꽤/Noun'), (2094, '태우고/Verb'), (2012, '찾을/Verb'), (1488, '없이/Adverb'), (2157, '퐁퐁뿌리/Noun'), (130, '거품/Noun'), (400, '내서/Verb'), (884, '문지르더니/Verb'), (2330, '휴지/Noun'), (2297, '헹주같은겅려/Noun'), (1302, '쓱/Noun'), (485, '닦아내고/Verb'), (2025, '청소/Noun'), (2188, '하는거/Verb'), (404, '냅킨/Noun'), (890, '물/Noun'), (889, '묻혀서/Verb'), (484, '닦아/Verb'), (445, '누렇데/Noun'), (886, '묻어/Verb'), (921, '바꾸고/Verb'), (941, '밥그릇/Noun'), (1553, '올려/Verb'), (578, '두고/Verb'), (2156, '퐁퐁/Noun'), (1524, '옆/Noun'), (2195, '하다가/Verb'), (1768, '잔뜩/Noun'), (888, '묻은/Verb'), (1783, '장갑/Noun'), (590, '뒤집어주시는데/Verb'), (885, '묻고/Verb'), (887, '묻었/Verb'), (692, '막창/Noun'), (1024, '부른줄/Verb'), (1398, '알았네요/Verb'), (49, '가심/Verb'), (1361, '안성맞춤/Noun'), (1997, '착함/Adjective'), (2123, '특양/Noun'), (177, '곱창전골/Noun'), (663, '런/Noun'), (2086, '클리어/Noun'), (1231, '시끄럽다/Adjective'), (310, '김희/Noun'), (1143, '상당히/Adjective'), (1591, '우십니다/Verb'), (870, '무시/Noun'), (1974, '짜증나는건/Adjective'), (359, '나빴는데/Adjective'), (138, '검정색/Noun'), (314, '까지만/Josa'), (1296, '쓰고/Verb'), (375, '나이/Noun'), (1754, '있으시던/Adjective'), (513, '대가/Noun'), (438, '높아서/Adjective'), (1516, '열심히/Adverb'), (1174, '설명/Noun'), (2266, '해주더니/Verb'), (160, '고기만/Noun'), (674, '마감/Noun'), (2211, '하신다/Verb'), (782, '먹고나서/Verb'), (1272, '싶어/Verb'), (1341, '아쉬웠지만/Adjective'), (1124, '사회/Noun'), (1523, '영업/Noun'), (32, '가능하고/Adjective'), (653, '또한/Noun'), (2278, '했/Verb'), (1628, '음/Noun'), (1711, '인지/Noun'), (2288, '했으므로/Verb'), (525, '대해/Noun'), (1162, '서는/Verb'), (670, '류/Noun'), (2057, '친절하게/Adjective'), (2276, '핵노맛/Noun'), (318, '깔끔친절죤맛/Noun'), (1915, '주말/Noun'), (2122, '특선/Noun'), (928, '바쁠/Adjective'), (904, '미디움/Noun'), (2213, '하이/Noun'), (1009, '볼/Noun'), (832, '메볼/Noun'), (162, '고량주/Noun'), (1869, '존/Noun'), (767, '맡/Verb'), (2067, '친절해서/Adjective'), (1073, '비도/Noun'), (715, '많이/Modifier'), (1159, '서/Modifier'), (2225, '한꺼/Verb'), (1240, '시키는걸/Verb'), (679, '마셔/Verb'), (1333, '아마도/Adverb'), (192, '괜찮을듯/Adjective'), (1154, '생겨서/Verb'), (330, '깨끗한/Adjective'), (1952, '지켜봤는데/Verb'), (327, '깨끗이/Adverb'), (2181, '하길래/Verb'), (1254, '신뢰/Noun'), (976, '병/Noun'), (502, '당/Modifier'), (1882, '좋다/Adjective'), (2265, '해주는/Verb')])\n"
     ]
    }
   ],
   "source": [
    "print(invert_index_vectorizer.items())"
   ]
  },
  {
   "cell_type": "code",
   "execution_count": 369,
   "metadata": {},
   "outputs": [
    {
     "data": {
      "text/plain": [
       "2343"
      ]
     },
     "execution_count": 369,
     "metadata": {},
     "output_type": "execute_result"
    }
   ],
   "source": [
    "len(lr.coef_[0])"
   ]
  },
  {
   "cell_type": "code",
   "execution_count": 375,
   "metadata": {},
   "outputs": [
    {
     "name": "stdout",
     "output_type": "stream",
     "text": [
      "[ 0.         -0.08767451  0.17790945  0.          0.          0.\n",
      "  0.          0.          0.          0.07717424  0.08119266  0.\n",
      "  0.          0.          0.20064166 -0.13557452 -0.04833829 -0.4372092\n",
      "  0.04687961 -0.10395652]\n"
     ]
    }
   ],
   "source": [
    "print(lr.coef_[0][:20])"
   ]
  },
  {
   "cell_type": "code",
   "execution_count": 370,
   "metadata": {},
   "outputs": [
    {
     "data": {
      "text/plain": [
       "<generator object <genexpr> at 0x334313850>"
      ]
     },
     "execution_count": 370,
     "metadata": {},
     "output_type": "execute_result"
    }
   ],
   "source": [
    "((value,index) for index,value in enumerate(lr.coef_[0]))"
   ]
  },
  {
   "cell_type": "code",
   "execution_count": 371,
   "metadata": {},
   "outputs": [],
   "source": [
    "# 2343개의 기울기값 index 부여, 역순정렬\n",
    "coef_pos_index = sorted(((value,index) for index,value in enumerate(lr.coef_[0])),reverse=True)"
   ]
  },
  {
   "cell_type": "code",
   "execution_count": 372,
   "metadata": {},
   "outputs": [
    {
     "name": "stdout",
     "output_type": "stream",
     "text": [
      "[(0.8889477714209618, 2030), (0.7338551433222393, 1888), (0.4955379618260688, 750), (0.4475216217381987, 544), (0.42747770182730777, 1567), (0.4184668349694444, 732), (0.4171539630886601, 760), (0.3623462878665413, 1956), (0.35321278208437323, 159), (0.3071677644197641, 1709), (0.2872237501099373, 1752), (0.2705530552056575, 744), (0.2516096646000987, 652), (0.25008977915019365, 1502), (0.2493285740478222, 178), (0.24603422677631478, 1977), (0.23816929232856202, 604), (0.2363722200216116, 1904), (0.23413633121696575, 761), (0.22856251884440898, 2002), (0.22348834095690417, 749), (0.22348834095690417, 34), (0.21911169208232326, 1941), (0.21911169208232326, 873), (0.217270449196918, 1425), (0.21657916374082165, 156), (0.2136412827415268, 1618), (0.20845427306227862, 2333), (0.2006416557443528, 14), (0.19911911770526922, 1137), (0.19525073008458055, 1870), (0.1948650632160044, 1037), (0.19171549668150148, 1565), (0.19171549668150148, 844), (0.1897857884475689, 140), (0.1785367461340547, 175), (0.17790944886632848, 1873), (0.17790944886632848, 1280), (0.17790944886632848, 120), (0.17790944886632848, 2), (0.17617007442919372, 1035), (0.17356379165503263, 223), (0.1720091111014068, 306), (0.17194609061674135, 1630), (0.16987104205871706, 1497), (0.1690925937106254, 2063), (0.1682609158014396, 325), (0.1631752293211723, 2078), (0.16065707704375196, 1210), (0.15971682369784024, 1677), (0.15873501708004942, 1942), (0.15536883807400068, 731), (0.15341814343056784, 1462), (0.15289434347710493, 1640), (0.15154223250605695, 1893), (0.15154223250605695, 1444), (0.15154223250605695, 1156), (0.14760977099172454, 1129), (0.14719248423021372, 1591), (0.14719248423021372, 1143), (0.14719248423021372, 310), (0.14537992401652802, 707), (0.14435239836168856, 779), (0.14394710864000063, 1514), (0.1371282437369008, 1571), (0.13583049210989973, 2279), (0.13583049210989973, 2076), (0.13583049210989973, 968), (0.13467746075772444, 1619), (0.13168014222927749, 737), (0.13036474951638577, 98), (0.1302390022156869, 1794), (0.12924821691807356, 1828), (0.12743976693251677, 2118), (0.12743976693251677, 1422), (0.12743976693251677, 392), (0.12722723683767145, 780), (0.12693675066039686, 454), (0.1264721422396148, 1535), (0.1264721422396148, 432), (0.12481220170172835, 237), (0.12325157259676081, 2332), (0.12325157259676081, 1556), (0.12325157259676081, 636), (0.12221584521150208, 2140), (0.12221584521150208, 1918), (0.12071424228293764, 2136), (0.11865857670603602, 1531), (0.11823892285299455, 2232), (0.11823892285299455, 1568), (0.11758674782465729, 1038), (0.11703803019588148, 1997), (0.11522800931266207, 1208), (0.11425970682142789, 1287), (0.11425970682142789, 322), (0.11306842266451612, 912), (0.11306842266451612, 74), (0.11187180298263213, 2165), (0.11115872718193733, 2058), (0.11049644678066871, 1445), (0.11049644678066871, 1360), (0.1095352005657211, 1355), (0.10941896277030615, 2022), (0.10626893113016406, 770), (0.10559799245597555, 1934), (0.10550006520463581, 1648), (0.1033032303799877, 2142), (0.10103401660858144, 1345), (0.10076289994080062, 943), (0.09819956212257008, 475), (0.09763381497512875, 1885), (0.09763381497512875, 807), (0.09751453091928859, 91), (0.09618128116067616, 1900), (0.09492212782874059, 198), (0.09278029523822673, 249), (0.0910063457218891, 218), (0.09063172976256964, 2243), (0.08843096007046888, 1960), (0.08723329866926605, 466), (0.08669228255110142, 2099), (0.08669228255110142, 1546), (0.08669228255110142, 1456), (0.08669228255110142, 1359), (0.08669228255110142, 783), (0.08669228255110142, 684), (0.08669228255110142, 372), (0.08669228255110142, 368), (0.08608511702536016, 2037), (0.08608511702536016, 1930), (0.08608511702536016, 1901), (0.08608511702536016, 1515), (0.08608511702536016, 813), (0.08608511702536016, 697), (0.08563418971937121, 1067), (0.08414595207902027, 2222), (0.08414595207902027, 1988), (0.08414595207902027, 763), (0.08414595207902027, 309), (0.08329479355922041, 2295), (0.08329479355922041, 587), (0.08329479355922041, 488), (0.08329479355922041, 168), (0.08194396481344016, 284), (0.0814495537881008, 1967), (0.08119266282100486, 2171), (0.08119266282100486, 1613), (0.08119266282100486, 1592), (0.08119266282100486, 1166), (0.08119266282100486, 1076), (0.08119266282100486, 964), (0.08119266282100486, 571), (0.08119266282100486, 10), (0.08104869520664255, 1482), (0.08050303977808772, 402), (0.08048105559458393, 303), (0.08042709793842663, 42), (0.0787094610637905, 1862), (0.0786681284911977, 2098), (0.0786681284911977, 1665), (0.0786681284911977, 1609), (0.0786681284911977, 1357), (0.07787237960313341, 2069), (0.07787237960313341, 843), (0.07717424115979264, 9), (0.07704450626202085, 2203), (0.07704450626202085, 2176), (0.07704450626202085, 1192), (0.07670907171528392, 2271), (0.07670907171528392, 1784), (0.07670907171528392, 984), (0.07670907171528392, 907), (0.07652781475735329, 1958), (0.07650491073202104, 1789), (0.07590709563006791, 563), (0.07478155080360628, 839), (0.07478155080360628, 135), (0.07450214725480456, 1639), (0.07402511567490798, 2249), (0.07402511567490798, 2009), (0.07342077317137845, 2054), (0.07304741519971737, 2231), (0.07176688694125148, 2045), (0.07176688694125148, 694), (0.07171538215494296, 1990), (0.07171538215494296, 1704), (0.0684286426391411, 2265), (0.0684286426391411, 2181), (0.0684286426391411, 1952), (0.0684286426391411, 1882), (0.0684286426391411, 1254), (0.0684286426391411, 1154), (0.0684286426391411, 976), (0.0684286426391411, 502), (0.0684286426391411, 330), (0.0684286426391411, 327), (0.06817230302637717, 1331), (0.06654119560911984, 756), (0.06567422949074621, 2236), (0.06542407734586336, 669), (0.06542407734586336, 572), (0.06435208557663544, 1725), (0.06397400134660024, 2324), (0.06397400134660024, 2230), (0.06397400134660024, 2025), (0.06397400134660024, 1998), (0.06397400134660024, 1940), (0.06397400134660024, 1894), (0.06397400134660024, 1713), (0.06397400134660024, 699), (0.06397400134660024, 674), (0.06296423649619742, 1507), (0.06252325475445386, 182), (0.0608133830506221, 2255), (0.0608133830506221, 214), (0.06015417656577587, 1811), (0.05836181703921746, 1879), (0.05836181703921746, 1562), (0.05836181703921746, 1191), (0.05818492390569529, 216), (0.05703555468487293, 1426), (0.05688730865695663, 662), (0.05536560735524516, 671), (0.05452800745678501, 2182), (0.052750032602317906, 2250), (0.052750032602317906, 1996), (0.052750032602317906, 1982), (0.052750032602317906, 1808), (0.052750032602317906, 1440), (0.052750032602317906, 1203), (0.052750032602317906, 1085), (0.052750032602317906, 1046), (0.052750032602317906, 993), (0.052750032602317906, 799), (0.052750032602317906, 796), (0.052750032602317906, 794), (0.052750032602317906, 758), (0.052750032602317906, 720), (0.052750032602317906, 440), (0.052750032602317906, 282), (0.052750032602317906, 76), (0.05074655745069845, 301), (0.049699432423006604, 717), (0.04931605430974322, 2233), (0.04931605430974322, 1686), (0.04931605430974322, 1575), (0.04931605430974322, 987), (0.04931605430974322, 765), (0.04931605430974322, 152), (0.04931605430974322, 151), (0.04874348216956225, 1848), (0.0468796079369057, 2216), (0.0468796079369057, 1120), (0.0468796079369057, 18), (0.044989753308189766, 2223), (0.044989753308189766, 985), (0.044989753308189766, 982), (0.043445629644331026, 142), (0.042140091688716796, 2202), (0.042140091688716796, 831), (0.041984664975270765, 722), (0.04001165135175634, 714), (0.03831212456537485, 2187), (0.0369799177829647, 1727), (0.03373376112469629, 2239), (0.02945981380031136, 1250), (0.027059303065206316, 1827), (0.026853154058293856, 1633), (0.01939031351196932, 1769), (0.017017984018255147, 940), (0.016411804490557166, 545), (0.010447211851721228, 948), (0.0073502009149180245, 1627), (0.007273447732526977, 1147), (0.005377334451672379, 1927), (0.0, 2342), (0.0, 2341), (0.0, 2340), (0.0, 2339), (0.0, 2336), (0.0, 2335), (0.0, 2334), (0.0, 2331), (0.0, 2330), (0.0, 2329), (0.0, 2328), (0.0, 2327), (0.0, 2326), (0.0, 2325), (0.0, 2323), (0.0, 2322), (0.0, 2321), (0.0, 2318), (0.0, 2316), (0.0, 2315), (0.0, 2314), (0.0, 2313), (0.0, 2312), (0.0, 2311), (0.0, 2309), (0.0, 2308), (0.0, 2307), (0.0, 2306), (0.0, 2305), (0.0, 2304), (0.0, 2303), (0.0, 2302), (0.0, 2301), (0.0, 2300), (0.0, 2298), (0.0, 2297), (0.0, 2296), (0.0, 2294), (0.0, 2293), (0.0, 2292), (0.0, 2291), (0.0, 2290), (0.0, 2288), (0.0, 2287), (0.0, 2286), (0.0, 2285), (0.0, 2283), (0.0, 2282), (0.0, 2280), (0.0, 2278), (0.0, 2277), (0.0, 2276), (0.0, 2275), (0.0, 2274), (0.0, 2273), (0.0, 2270), (0.0, 2269), (0.0, 2268), (0.0, 2267), (0.0, 2266), (0.0, 2264), (0.0, 2261), (0.0, 2260), (0.0, 2259), (0.0, 2257), (0.0, 2256), (0.0, 2254), (0.0, 2253), (0.0, 2252), (0.0, 2251), (0.0, 2248), (0.0, 2247), (0.0, 2245), (0.0, 2244), (0.0, 2242), (0.0, 2241), (0.0, 2240), (0.0, 2238), (0.0, 2237), (0.0, 2235), (0.0, 2234), (0.0, 2228), (0.0, 2227), (0.0, 2226), (0.0, 2225), (0.0, 2224), (0.0, 2221), (0.0, 2220), (0.0, 2219), (0.0, 2218), (0.0, 2217), (0.0, 2214), (0.0, 2213), (0.0, 2212), (0.0, 2211), (0.0, 2210), (0.0, 2209), (0.0, 2208), (0.0, 2207), (0.0, 2206), (0.0, 2204), (0.0, 2201), (0.0, 2200), (0.0, 2199), (0.0, 2197), (0.0, 2196), (0.0, 2195), (0.0, 2194), (0.0, 2193), (0.0, 2192), (0.0, 2191), (0.0, 2190), (0.0, 2189), (0.0, 2188), (0.0, 2185), (0.0, 2184), (0.0, 2183), (0.0, 2180), (0.0, 2179), (0.0, 2178), (0.0, 2177), (0.0, 2174), (0.0, 2173), (0.0, 2172), (0.0, 2170), (0.0, 2169), (0.0, 2168), (0.0, 2167), (0.0, 2166), (0.0, 2164), (0.0, 2163), (0.0, 2162), (0.0, 2161), (0.0, 2160), (0.0, 2159), (0.0, 2158), (0.0, 2157), (0.0, 2156), (0.0, 2155), (0.0, 2154), (0.0, 2153), (0.0, 2152), (0.0, 2151), (0.0, 2149), (0.0, 2148), (0.0, 2147), (0.0, 2146), (0.0, 2145), (0.0, 2144), (0.0, 2143), (0.0, 2141), (0.0, 2139), (0.0, 2138), (0.0, 2137), (0.0, 2135), (0.0, 2134), (0.0, 2133), (0.0, 2132), (0.0, 2131), (0.0, 2129), (0.0, 2128), (0.0, 2127), (0.0, 2126), (0.0, 2125), (0.0, 2123), (0.0, 2122), (0.0, 2121), (0.0, 2120), (0.0, 2119), (0.0, 2117), (0.0, 2116), (0.0, 2115), (0.0, 2114), (0.0, 2112), (0.0, 2111), (0.0, 2110), (0.0, 2109), (0.0, 2108), (0.0, 2107), (0.0, 2103), (0.0, 2102), (0.0, 2100), (0.0, 2097), (0.0, 2096), (0.0, 2095), (0.0, 2093), (0.0, 2092), (0.0, 2091), (0.0, 2090), (0.0, 2089), (0.0, 2088), (0.0, 2087), (0.0, 2086), (0.0, 2085), (0.0, 2084), (0.0, 2083), (0.0, 2082), (0.0, 2081), (0.0, 2080), (0.0, 2079), (0.0, 2077), (0.0, 2075), (0.0, 2073), (0.0, 2072), (0.0, 2071), (0.0, 2070), (0.0, 2068), (0.0, 2067), (0.0, 2066), (0.0, 2064), (0.0, 2062), (0.0, 2061), (0.0, 2060), (0.0, 2059), (0.0, 2057), (0.0, 2056), (0.0, 2055), (0.0, 2053), (0.0, 2052), (0.0, 2051), (0.0, 2048), (0.0, 2046), (0.0, 2044), (0.0, 2043), (0.0, 2042), (0.0, 2041), (0.0, 2040), (0.0, 2039), (0.0, 2038), (0.0, 2036), (0.0, 2035), (0.0, 2034), (0.0, 2033), (0.0, 2032), (0.0, 2031), (0.0, 2029), (0.0, 2027), (0.0, 2026), (0.0, 2024), (0.0, 2023), (0.0, 2020), (0.0, 2019), (0.0, 2018), (0.0, 2015), (0.0, 2014), (0.0, 2013), (0.0, 2011), (0.0, 2010), (0.0, 2008), (0.0, 2007), (0.0, 2006), (0.0, 2005), (0.0, 2004), (0.0, 2001), (0.0, 2000), (0.0, 1999), (0.0, 1995), (0.0, 1994), (0.0, 1993), (0.0, 1992), (0.0, 1991), (0.0, 1987), (0.0, 1986), (0.0, 1984), (0.0, 1983), (0.0, 1981), (0.0, 1980), (0.0, 1979), (0.0, 1978), (0.0, 1976), (0.0, 1975), (0.0, 1974), (0.0, 1973), (0.0, 1972), (0.0, 1971), (0.0, 1970), (0.0, 1969), (0.0, 1964), (0.0, 1957), (0.0, 1955), (0.0, 1954), (0.0, 1953), (0.0, 1950), (0.0, 1949), (0.0, 1948), (0.0, 1947), (0.0, 1946), (0.0, 1945), (0.0, 1944), (0.0, 1943), (0.0, 1939), (0.0, 1938), (0.0, 1936), (0.0, 1935), (0.0, 1933), (0.0, 1932), (0.0, 1931), (0.0, 1929), (0.0, 1924), (0.0, 1923), (0.0, 1922), (0.0, 1921), (0.0, 1920), (0.0, 1919), (0.0, 1915), (0.0, 1914), (0.0, 1912), (0.0, 1911), (0.0, 1910), (0.0, 1906), (0.0, 1905), (0.0, 1899), (0.0, 1898), (0.0, 1897), (0.0, 1896), (0.0, 1895), (0.0, 1892), (0.0, 1891), (0.0, 1890), (0.0, 1889), (0.0, 1887), (0.0, 1886), (0.0, 1884), (0.0, 1883), (0.0, 1881), (0.0, 1880), (0.0, 1877), (0.0, 1876), (0.0, 1874), (0.0, 1871), (0.0, 1869), (0.0, 1868), (0.0, 1866), (0.0, 1865), (0.0, 1864), (0.0, 1863), (0.0, 1861), (0.0, 1858), (0.0, 1857), (0.0, 1855), (0.0, 1854), (0.0, 1853), (0.0, 1850), (0.0, 1847), (0.0, 1845), (0.0, 1844), (0.0, 1843), (0.0, 1841), (0.0, 1840), (0.0, 1839), (0.0, 1838), (0.0, 1836), (0.0, 1834), (0.0, 1833), (0.0, 1832), (0.0, 1831), (0.0, 1830), (0.0, 1829), (0.0, 1826), (0.0, 1825), (0.0, 1823), (0.0, 1822), (0.0, 1821), (0.0, 1820), (0.0, 1818), (0.0, 1817), (0.0, 1816), (0.0, 1815), (0.0, 1814), (0.0, 1810), (0.0, 1809), (0.0, 1807), (0.0, 1806), (0.0, 1805), (0.0, 1804), (0.0, 1802), (0.0, 1801), (0.0, 1800), (0.0, 1798), (0.0, 1797), (0.0, 1796), (0.0, 1795), (0.0, 1793), (0.0, 1792), (0.0, 1791), (0.0, 1790), (0.0, 1788), (0.0, 1787), (0.0, 1786), (0.0, 1785), (0.0, 1783), (0.0, 1782), (0.0, 1781), (0.0, 1780), (0.0, 1779), (0.0, 1777), (0.0, 1776), (0.0, 1775), (0.0, 1774), (0.0, 1773), (0.0, 1772), (0.0, 1771), (0.0, 1768), (0.0, 1767), (0.0, 1766), (0.0, 1764), (0.0, 1762), (0.0, 1760), (0.0, 1759), (0.0, 1758), (0.0, 1757), (0.0, 1756), (0.0, 1755), (0.0, 1754), (0.0, 1753), (0.0, 1751), (0.0, 1750), (0.0, 1749), (0.0, 1748), (0.0, 1747), (0.0, 1745), (0.0, 1744), (0.0, 1743), (0.0, 1742), (0.0, 1741), (0.0, 1740), (0.0, 1739), (0.0, 1738), (0.0, 1735), (0.0, 1734), (0.0, 1733), (0.0, 1732), (0.0, 1731), (0.0, 1730), (0.0, 1729), (0.0, 1726), (0.0, 1723), (0.0, 1722), (0.0, 1721), (0.0, 1720), (0.0, 1719), (0.0, 1718), (0.0, 1717), (0.0, 1716), (0.0, 1714), (0.0, 1712), (0.0, 1711), (0.0, 1710), (0.0, 1708), (0.0, 1707), (0.0, 1706), (0.0, 1705), (0.0, 1703), (0.0, 1700), (0.0, 1698), (0.0, 1697), (0.0, 1695), (0.0, 1693), (0.0, 1692), (0.0, 1691), (0.0, 1690), (0.0, 1689), (0.0, 1688), (0.0, 1687), (0.0, 1685), (0.0, 1684), (0.0, 1683), (0.0, 1682), (0.0, 1676), (0.0, 1675), (0.0, 1674), (0.0, 1673), (0.0, 1671), (0.0, 1670), (0.0, 1669), (0.0, 1668), (0.0, 1667), (0.0, 1666), (0.0, 1664), (0.0, 1663), (0.0, 1662), (0.0, 1661), (0.0, 1660), (0.0, 1659), (0.0, 1658), (0.0, 1656), (0.0, 1655), (0.0, 1654), (0.0, 1653), (0.0, 1652), (0.0, 1651), (0.0, 1649), (0.0, 1647), (0.0, 1646), (0.0, 1644), (0.0, 1643), (0.0, 1638), (0.0, 1636), (0.0, 1635), (0.0, 1634), (0.0, 1631), (0.0, 1629), (0.0, 1628), (0.0, 1625), (0.0, 1624), (0.0, 1623), (0.0, 1621), (0.0, 1620), (0.0, 1617), (0.0, 1615), (0.0, 1607), (0.0, 1606), (0.0, 1605), (0.0, 1604), (0.0, 1602), (0.0, 1601), (0.0, 1600), (0.0, 1599), (0.0, 1598), (0.0, 1597), (0.0, 1596), (0.0, 1595), (0.0, 1594), (0.0, 1593), (0.0, 1589), (0.0, 1588), (0.0, 1587), (0.0, 1586), (0.0, 1585), (0.0, 1584), (0.0, 1583), (0.0, 1582), (0.0, 1581), (0.0, 1578), (0.0, 1577), (0.0, 1576), (0.0, 1574), (0.0, 1573), (0.0, 1572), (0.0, 1570), (0.0, 1569), (0.0, 1566), (0.0, 1564), (0.0, 1563), (0.0, 1561), (0.0, 1559), (0.0, 1558), (0.0, 1557), (0.0, 1554), (0.0, 1553), (0.0, 1552), (0.0, 1550), (0.0, 1549), (0.0, 1548), (0.0, 1547), (0.0, 1545), (0.0, 1544), (0.0, 1543), (0.0, 1542), (0.0, 1541), (0.0, 1540), (0.0, 1538), (0.0, 1537), (0.0, 1536), (0.0, 1534), (0.0, 1533), (0.0, 1530), (0.0, 1529), (0.0, 1528), (0.0, 1527), (0.0, 1526), (0.0, 1525), (0.0, 1524), (0.0, 1523), (0.0, 1522), (0.0, 1520), (0.0, 1519), (0.0, 1518), (0.0, 1517), (0.0, 1516), (0.0, 1513), (0.0, 1512), (0.0, 1510), (0.0, 1509), (0.0, 1508), (0.0, 1506), (0.0, 1505), (0.0, 1504), (0.0, 1503), (0.0, 1500), (0.0, 1498), (0.0, 1496), (0.0, 1495), (0.0, 1494), (0.0, 1491), (0.0, 1490), (0.0, 1489), (0.0, 1486), (0.0, 1483), (0.0, 1480), (0.0, 1479), (0.0, 1478), (0.0, 1477), (0.0, 1476), (0.0, 1475), (0.0, 1474), (0.0, 1473), (0.0, 1471), (0.0, 1470), (0.0, 1469), (0.0, 1468), (0.0, 1467), (0.0, 1465), (0.0, 1461), (0.0, 1459), (0.0, 1458), (0.0, 1457), (0.0, 1455), (0.0, 1454), (0.0, 1453), (0.0, 1452), (0.0, 1451), (0.0, 1450), (0.0, 1449), (0.0, 1448), (0.0, 1447), (0.0, 1443), (0.0, 1442), (0.0, 1441), (0.0, 1439), (0.0, 1438), (0.0, 1437), (0.0, 1436), (0.0, 1435), (0.0, 1434), (0.0, 1432), (0.0, 1431), (0.0, 1430), (0.0, 1429), (0.0, 1427), (0.0, 1421), (0.0, 1420), (0.0, 1419), (0.0, 1417), (0.0, 1416), (0.0, 1415), (0.0, 1414), (0.0, 1413), (0.0, 1412), (0.0, 1411), (0.0, 1410), (0.0, 1409), (0.0, 1408), (0.0, 1407), (0.0, 1406), (0.0, 1404), (0.0, 1402), (0.0, 1401), (0.0, 1399), (0.0, 1398), (0.0, 1397), (0.0, 1394), (0.0, 1393), (0.0, 1392), (0.0, 1390), (0.0, 1387), (0.0, 1386), (0.0, 1385), (0.0, 1384), (0.0, 1382), (0.0, 1381), (0.0, 1380), (0.0, 1379), (0.0, 1377), (0.0, 1376), (0.0, 1375), (0.0, 1374), (0.0, 1373), (0.0, 1372), (0.0, 1371), (0.0, 1370), (0.0, 1369), (0.0, 1367), (0.0, 1366), (0.0, 1365), (0.0, 1364), (0.0, 1363), (0.0, 1362), (0.0, 1361), (0.0, 1358), (0.0, 1354), (0.0, 1353), (0.0, 1352), (0.0, 1351), (0.0, 1349), (0.0, 1348), (0.0, 1347), (0.0, 1344), (0.0, 1343), (0.0, 1342), (0.0, 1341), (0.0, 1340), (0.0, 1338), (0.0, 1335), (0.0, 1334), (0.0, 1333), (0.0, 1332), (0.0, 1328), (0.0, 1327), (0.0, 1326), (0.0, 1325), (0.0, 1323), (0.0, 1321), (0.0, 1320), (0.0, 1319), (0.0, 1317), (0.0, 1316), (0.0, 1315), (0.0, 1314), (0.0, 1313), (0.0, 1312), (0.0, 1311), (0.0, 1308), (0.0, 1306), (0.0, 1305), (0.0, 1304), (0.0, 1302), (0.0, 1301), (0.0, 1300), (0.0, 1299), (0.0, 1298), (0.0, 1297), (0.0, 1296), (0.0, 1295), (0.0, 1293), (0.0, 1292), (0.0, 1290), (0.0, 1289), (0.0, 1288), (0.0, 1286), (0.0, 1285), (0.0, 1284), (0.0, 1283), (0.0, 1282), (0.0, 1281), (0.0, 1279), (0.0, 1278), (0.0, 1277), (0.0, 1276), (0.0, 1274), (0.0, 1273), (0.0, 1272), (0.0, 1271), (0.0, 1269), (0.0, 1268), (0.0, 1267), (0.0, 1266), (0.0, 1265), (0.0, 1264), (0.0, 1263), (0.0, 1262), (0.0, 1260), (0.0, 1258), (0.0, 1257), (0.0, 1256), (0.0, 1255), (0.0, 1253), (0.0, 1252), (0.0, 1251), (0.0, 1249), (0.0, 1248), (0.0, 1246), (0.0, 1245), (0.0, 1244), (0.0, 1241), (0.0, 1240), (0.0, 1239), (0.0, 1238), (0.0, 1237), (0.0, 1236), (0.0, 1235), (0.0, 1234), (0.0, 1233), (0.0, 1232), (0.0, 1231), (0.0, 1230), (0.0, 1229), (0.0, 1228), (0.0, 1227), (0.0, 1224), (0.0, 1223), (0.0, 1222), (0.0, 1221), (0.0, 1220), (0.0, 1219), (0.0, 1218), (0.0, 1217), (0.0, 1215), (0.0, 1213), (0.0, 1211), (0.0, 1207), (0.0, 1204), (0.0, 1200), (0.0, 1199), (0.0, 1198), (0.0, 1197), (0.0, 1196), (0.0, 1194), (0.0, 1190), (0.0, 1189), (0.0, 1188), (0.0, 1187), (0.0, 1186), (0.0, 1185), (0.0, 1183), (0.0, 1182), (0.0, 1181), (0.0, 1180), (0.0, 1179), (0.0, 1178), (0.0, 1177), (0.0, 1176), (0.0, 1175), (0.0, 1174), (0.0, 1173), (0.0, 1172), (0.0, 1171), (0.0, 1169), (0.0, 1168), (0.0, 1167), (0.0, 1165), (0.0, 1164), (0.0, 1162), (0.0, 1161), (0.0, 1159), (0.0, 1157), (0.0, 1155), (0.0, 1153), (0.0, 1151), (0.0, 1150), (0.0, 1149), (0.0, 1148), (0.0, 1146), (0.0, 1145), (0.0, 1144), (0.0, 1142), (0.0, 1141), (0.0, 1139), (0.0, 1138), (0.0, 1136), (0.0, 1134), (0.0, 1133), (0.0, 1132), (0.0, 1131), (0.0, 1128), (0.0, 1126), (0.0, 1125), (0.0, 1124), (0.0, 1122), (0.0, 1119), (0.0, 1117), (0.0, 1116), (0.0, 1115), (0.0, 1113), (0.0, 1112), (0.0, 1111), (0.0, 1110), (0.0, 1108), (0.0, 1106), (0.0, 1105), (0.0, 1104), (0.0, 1103), (0.0, 1102), (0.0, 1101), (0.0, 1100), (0.0, 1099), (0.0, 1098), (0.0, 1097), (0.0, 1096), (0.0, 1093), (0.0, 1092), (0.0, 1091), (0.0, 1090), (0.0, 1088), (0.0, 1087), (0.0, 1086), (0.0, 1084), (0.0, 1083), (0.0, 1082), (0.0, 1081), (0.0, 1080), (0.0, 1079), (0.0, 1078), (0.0, 1077), (0.0, 1075), (0.0, 1073), (0.0, 1072), (0.0, 1070), (0.0, 1069), (0.0, 1068), (0.0, 1066), (0.0, 1065), (0.0, 1064), (0.0, 1062), (0.0, 1061), (0.0, 1060), (0.0, 1059), (0.0, 1055), (0.0, 1054), (0.0, 1051), (0.0, 1050), (0.0, 1049), (0.0, 1048), (0.0, 1047), (0.0, 1045), (0.0, 1044), (0.0, 1043), (0.0, 1042), (0.0, 1041), (0.0, 1040), (0.0, 1036), (0.0, 1034), (0.0, 1033), (0.0, 1032), (0.0, 1031), (0.0, 1030), (0.0, 1029), (0.0, 1028), (0.0, 1027), (0.0, 1025), (0.0, 1024), (0.0, 1023), (0.0, 1022), (0.0, 1021), (0.0, 1020), (0.0, 1019), (0.0, 1018), (0.0, 1016), (0.0, 1014), (0.0, 1013), (0.0, 1012), (0.0, 1010), (0.0, 1009), (0.0, 1008), (0.0, 1007), (0.0, 1005), (0.0, 1002), (0.0, 1001), (0.0, 1000), (0.0, 999), (0.0, 997), (0.0, 995), (0.0, 994), (0.0, 991), (0.0, 989), (0.0, 988), (0.0, 981), (0.0, 980), (0.0, 979), (0.0, 975), (0.0, 973), (0.0, 971), (0.0, 970), (0.0, 969), (0.0, 967), (0.0, 966), (0.0, 965), (0.0, 962), (0.0, 960), (0.0, 959), (0.0, 958), (0.0, 957), (0.0, 956), (0.0, 955), (0.0, 954), (0.0, 953), (0.0, 952), (0.0, 951), (0.0, 950), (0.0, 949), (0.0, 946), (0.0, 945), (0.0, 944), (0.0, 942), (0.0, 941), (0.0, 938), (0.0, 936), (0.0, 935), (0.0, 934), (0.0, 932), (0.0, 930), (0.0, 929), (0.0, 928), (0.0, 927), (0.0, 925), (0.0, 924), (0.0, 923), (0.0, 922), (0.0, 921), (0.0, 920), (0.0, 918), (0.0, 916), (0.0, 915), (0.0, 914), (0.0, 913), (0.0, 911), (0.0, 910), (0.0, 909), (0.0, 908), (0.0, 906), (0.0, 904), (0.0, 902), (0.0, 900), (0.0, 898), (0.0, 897), (0.0, 896), (0.0, 895), (0.0, 894), (0.0, 893), (0.0, 892), (0.0, 891), (0.0, 890), (0.0, 889), (0.0, 888), (0.0, 887), (0.0, 886), (0.0, 885), (0.0, 884), (0.0, 883), (0.0, 882), (0.0, 881), (0.0, 880), (0.0, 879), (0.0, 878), (0.0, 877), (0.0, 876), (0.0, 875), (0.0, 874), (0.0, 871), (0.0, 870), (0.0, 868), (0.0, 867), (0.0, 865), (0.0, 864), (0.0, 859), (0.0, 858), (0.0, 857), (0.0, 856), (0.0, 855), (0.0, 854), (0.0, 853), (0.0, 852), (0.0, 851), (0.0, 850), (0.0, 848), (0.0, 846), (0.0, 845), (0.0, 842), (0.0, 841), (0.0, 840), (0.0, 838), (0.0, 837), (0.0, 836), (0.0, 835), (0.0, 834), (0.0, 833), (0.0, 832), (0.0, 830), (0.0, 829), (0.0, 827), (0.0, 826), (0.0, 825), (0.0, 824), (0.0, 823), (0.0, 822), (0.0, 821), (0.0, 820), (0.0, 818), (0.0, 817), (0.0, 816), (0.0, 815), (0.0, 814), (0.0, 811), (0.0, 810), (0.0, 809), (0.0, 808), (0.0, 806), (0.0, 804), (0.0, 803), (0.0, 802), (0.0, 801), (0.0, 800), (0.0, 795), (0.0, 793), (0.0, 792), (0.0, 791), (0.0, 790), (0.0, 789), (0.0, 788), (0.0, 787), (0.0, 786), (0.0, 785), (0.0, 784), (0.0, 782), (0.0, 781), (0.0, 778), (0.0, 777), (0.0, 776), (0.0, 772), (0.0, 771), (0.0, 769), (0.0, 768), (0.0, 767), (0.0, 766), (0.0, 764), (0.0, 762), (0.0, 759), (0.0, 757), (0.0, 755), (0.0, 754), (0.0, 753), (0.0, 752), (0.0, 751), (0.0, 747), (0.0, 745), (0.0, 743), (0.0, 742), (0.0, 739), (0.0, 738), (0.0, 736), (0.0, 734), (0.0, 733), (0.0, 730), (0.0, 729), (0.0, 728), (0.0, 727), (0.0, 726), (0.0, 725), (0.0, 724), (0.0, 723), (0.0, 719), (0.0, 718), (0.0, 716), (0.0, 715), (0.0, 713), (0.0, 712), (0.0, 711), (0.0, 709), (0.0, 708), (0.0, 706), (0.0, 705), (0.0, 704), (0.0, 703), (0.0, 702), (0.0, 701), (0.0, 700), (0.0, 698), (0.0, 696), (0.0, 695), (0.0, 693), (0.0, 692), (0.0, 691), (0.0, 690), (0.0, 689), (0.0, 688), (0.0, 687), (0.0, 686), (0.0, 685), (0.0, 683), (0.0, 682), (0.0, 679), (0.0, 676), (0.0, 675), (0.0, 673), (0.0, 672), (0.0, 670), (0.0, 668), (0.0, 665), (0.0, 664), (0.0, 663), (0.0, 661), (0.0, 660), (0.0, 658), (0.0, 657), (0.0, 653), (0.0, 650), (0.0, 649), (0.0, 648), (0.0, 647), (0.0, 645), (0.0, 644), (0.0, 643), (0.0, 642), (0.0, 641), (0.0, 640), (0.0, 638), (0.0, 637), (0.0, 635), (0.0, 634), (0.0, 633), (0.0, 632), (0.0, 630), (0.0, 629), (0.0, 628), (0.0, 627), (0.0, 626), (0.0, 625), (0.0, 624), (0.0, 622), (0.0, 621), (0.0, 620), (0.0, 619), (0.0, 618), (0.0, 617), (0.0, 616), (0.0, 615), (0.0, 614), (0.0, 611), (0.0, 609), (0.0, 608), (0.0, 607), (0.0, 606), (0.0, 605), (0.0, 603), (0.0, 602), (0.0, 601), (0.0, 600), (0.0, 598), (0.0, 597), (0.0, 596), (0.0, 595), (0.0, 594), (0.0, 592), (0.0, 590), (0.0, 589), (0.0, 588), (0.0, 585), (0.0, 584), (0.0, 583), (0.0, 581), (0.0, 580), (0.0, 579), (0.0, 578), (0.0, 577), (0.0, 576), (0.0, 575), (0.0, 574), (0.0, 573), (0.0, 569), (0.0, 568), (0.0, 567), (0.0, 566), (0.0, 565), (0.0, 564), (0.0, 562), (0.0, 561), (0.0, 560), (0.0, 559), (0.0, 558), (0.0, 557), (0.0, 556), (0.0, 555), (0.0, 553), (0.0, 552), (0.0, 551), (0.0, 550), (0.0, 549), (0.0, 548), (0.0, 547), (0.0, 546), (0.0, 543), (0.0, 542), (0.0, 541), (0.0, 540), (0.0, 538), (0.0, 537), (0.0, 536), (0.0, 534), (0.0, 531), (0.0, 530), (0.0, 528), (0.0, 527), (0.0, 526), (0.0, 525), (0.0, 524), (0.0, 523), (0.0, 522), (0.0, 520), (0.0, 519), (0.0, 518), (0.0, 516), (0.0, 515), (0.0, 514), (0.0, 513), (0.0, 512), (0.0, 511), (0.0, 509), (0.0, 505), (0.0, 504), (0.0, 503), (0.0, 501), (0.0, 500), (0.0, 499), (0.0, 494), (0.0, 493), (0.0, 491), (0.0, 490), (0.0, 489), (0.0, 487), (0.0, 485), (0.0, 484), (0.0, 483), (0.0, 482), (0.0, 481), (0.0, 480), (0.0, 478), (0.0, 476), (0.0, 474), (0.0, 472), (0.0, 471), (0.0, 470), (0.0, 469), (0.0, 468), (0.0, 464), (0.0, 462), (0.0, 460), (0.0, 459), (0.0, 458), (0.0, 457), (0.0, 456), (0.0, 455), (0.0, 452), (0.0, 451), (0.0, 450), (0.0, 449), (0.0, 448), (0.0, 447), (0.0, 446), (0.0, 445), (0.0, 444), (0.0, 443), (0.0, 442), (0.0, 441), (0.0, 439), (0.0, 438), (0.0, 437), (0.0, 436), (0.0, 435), (0.0, 434), (0.0, 433), (0.0, 431), (0.0, 430), (0.0, 429), (0.0, 428), (0.0, 427), (0.0, 426), (0.0, 425), (0.0, 424), (0.0, 422), (0.0, 421), (0.0, 420), (0.0, 419), (0.0, 418), (0.0, 417), (0.0, 416), (0.0, 415), (0.0, 414), (0.0, 413), (0.0, 412), (0.0, 409), (0.0, 408), (0.0, 407), (0.0, 406), (0.0, 405), (0.0, 404), (0.0, 403), (0.0, 401), (0.0, 400), (0.0, 399), (0.0, 398), (0.0, 396), (0.0, 391), (0.0, 390), (0.0, 389), (0.0, 388), (0.0, 387), (0.0, 386), (0.0, 385), (0.0, 384), (0.0, 383), (0.0, 382), (0.0, 381), (0.0, 380), (0.0, 379), (0.0, 378), (0.0, 377), (0.0, 375), (0.0, 374), (0.0, 373), (0.0, 371), (0.0, 370), (0.0, 369), (0.0, 367), (0.0, 366), (0.0, 365), (0.0, 363), (0.0, 362), (0.0, 360), (0.0, 359), (0.0, 358), (0.0, 357), (0.0, 356), (0.0, 355), (0.0, 354), (0.0, 353), (0.0, 352), (0.0, 350), (0.0, 349), (0.0, 348), (0.0, 346), (0.0, 345), (0.0, 344), (0.0, 343), (0.0, 342), (0.0, 341), (0.0, 339), (0.0, 338), (0.0, 337), (0.0, 336), (0.0, 335), (0.0, 333), (0.0, 332), (0.0, 331), (0.0, 328), (0.0, 326), (0.0, 324), (0.0, 323), (0.0, 321), (0.0, 320), (0.0, 319), (0.0, 318), (0.0, 317), (0.0, 316), (0.0, 315), (0.0, 314), (0.0, 312), (0.0, 311), (0.0, 307), (0.0, 304), (0.0, 302), (0.0, 299), (0.0, 298), (0.0, 297), (0.0, 295), (0.0, 294), (0.0, 293), (0.0, 292), (0.0, 291), (0.0, 290), (0.0, 289), (0.0, 288), (0.0, 287), (0.0, 285), (0.0, 283), (0.0, 281), (0.0, 280), (0.0, 279), (0.0, 278), (0.0, 277), (0.0, 276), (0.0, 275), (0.0, 273), (0.0, 271), (0.0, 270), (0.0, 269), (0.0, 267), (0.0, 266), (0.0, 265), (0.0, 264), (0.0, 263), (0.0, 262), (0.0, 261), (0.0, 260), (0.0, 258), (0.0, 257), (0.0, 255), (0.0, 253), (0.0, 251), (0.0, 250), (0.0, 247), (0.0, 246), (0.0, 245), (0.0, 244), (0.0, 242), (0.0, 241), (0.0, 240), (0.0, 239), (0.0, 238), (0.0, 236), (0.0, 235), (0.0, 234), (0.0, 233), (0.0, 232), (0.0, 231), (0.0, 230), (0.0, 229), (0.0, 228), (0.0, 227), (0.0, 226), (0.0, 224), (0.0, 222), (0.0, 221), (0.0, 220), (0.0, 219), (0.0, 217), (0.0, 215), (0.0, 213), (0.0, 212), (0.0, 211), (0.0, 210), (0.0, 209), (0.0, 208), (0.0, 207), (0.0, 206), (0.0, 205), (0.0, 204), (0.0, 203), (0.0, 202), (0.0, 199), (0.0, 197), (0.0, 196), (0.0, 194), (0.0, 193), (0.0, 192), (0.0, 191), (0.0, 190), (0.0, 189), (0.0, 188), (0.0, 187), (0.0, 186), (0.0, 185), (0.0, 184), (0.0, 183), (0.0, 181), (0.0, 180), (0.0, 179), (0.0, 177), (0.0, 174), (0.0, 173), (0.0, 172), (0.0, 170), (0.0, 169), (0.0, 167), (0.0, 166), (0.0, 165), (0.0, 164), (0.0, 163), (0.0, 162), (0.0, 161), (0.0, 160), (0.0, 157), (0.0, 154), (0.0, 153), (0.0, 150), (0.0, 149), (0.0, 147), (0.0, 146), (0.0, 145), (0.0, 143), (0.0, 141), (0.0, 139), (0.0, 138), (0.0, 137), (0.0, 136), (0.0, 132), (0.0, 131), (0.0, 130), (0.0, 129), (0.0, 128), (0.0, 127), (0.0, 125), (0.0, 124), (0.0, 123), (0.0, 122), (0.0, 118), (0.0, 117), (0.0, 116), (0.0, 115), (0.0, 114), (0.0, 113), (0.0, 112), (0.0, 110), (0.0, 109), (0.0, 108), (0.0, 107), (0.0, 105), (0.0, 104), (0.0, 103), (0.0, 102), (0.0, 100), (0.0, 99), (0.0, 97), (0.0, 96), (0.0, 95), (0.0, 94), (0.0, 93), (0.0, 92), (0.0, 90), (0.0, 89), (0.0, 88), (0.0, 87), (0.0, 86), (0.0, 85), (0.0, 83), (0.0, 81), (0.0, 80), (0.0, 79), (0.0, 77), (0.0, 75), (0.0, 73), (0.0, 72), (0.0, 70), (0.0, 69), (0.0, 68), (0.0, 66), (0.0, 65), (0.0, 64), (0.0, 63), (0.0, 62), (0.0, 61), (0.0, 60), (0.0, 59), (0.0, 56), (0.0, 54), (0.0, 53), (0.0, 52), (0.0, 51), (0.0, 49), (0.0, 48), (0.0, 47), (0.0, 46), (0.0, 43), (0.0, 38), (0.0, 37), (0.0, 36), (0.0, 35), (0.0, 33), (0.0, 32), (0.0, 31), (0.0, 29), (0.0, 28), (0.0, 27), (0.0, 26), (0.0, 25), (0.0, 23), (0.0, 22), (0.0, 13), (0.0, 12), (0.0, 11), (0.0, 8), (0.0, 7), (0.0, 6), (0.0, 5), (0.0, 4), (0.0, 3), (0.0, 0), (-0.0010579255447641066, 1746), (-0.0013286335679305356, 2065), (-0.006599726515465937, 631), (-0.010031582925865982, 1961), (-0.011251980953442542, 453), (-0.01824336789717319, 748), (-0.02242681940351251, 2049), (-0.022452727110365788, 84), (-0.022761508012521445, 1039), (-0.02576389146681938, 2258), (-0.03252531482353731, 2281), (-0.03463431690008396, 1195), (-0.03549778630109404, 272), (-0.03619188352870337, 1226), (-0.03647670716998652, 1852), (-0.03647670716998652, 655), (-0.03647670716998652, 50), (-0.03713684716744294, 2317), (-0.037606788377640706, 1642), (-0.03894339075470444, 860), (-0.03894339075470444, 495), (-0.040579259855197454, 1907), (-0.040579259855197454, 972), (-0.040579259855197454, 899), (-0.04122703670038798, 1611), (-0.04122703670038798, 463), (-0.04145850106345381, 819), (-0.04164478707011789, 1158), (-0.04242224223198503, 1121), (-0.04260180029737717, 710), (-0.04268826193174411, 1913), (-0.04268826193174411, 1123), (-0.04268826193174411, 1058), (-0.04268826193174411, 828), (-0.04268826193174411, 461), (-0.04268826193174411, 286), (-0.04268826193174411, 111), (-0.04268826193174411, 40), (-0.04295883339646559, 1917), (-0.04295883339646559, 977), (-0.04297181310390289, 1163), (-0.043921642401105104, 812), (-0.04519150765327719, 2047), (-0.04519150765327719, 1856), (-0.04519150765327719, 1225), (-0.04519150765327719, 1160), (-0.04519150765327719, 1026), (-0.04519150765327719, 393), (-0.04519150765327719, 171), (-0.04548268428131957, 1963), (-0.04566073340930086, 2198), (-0.04566073340930086, 2104), (-0.04566073340930086, 2021), (-0.04566073340930086, 1610), (-0.04566073340930086, 1555), (-0.04566073340930086, 1460), (-0.04566073340930086, 1330), (-0.04566073340930086, 1089), (-0.04566073340930086, 1052), (-0.04566073340930086, 990), (-0.04566073340930086, 937), (-0.04566073340930086, 680), (-0.04566073340930086, 654), (-0.04566073340930086, 593), (-0.04566073340930086, 376), (-0.04566073340930086, 364), (-0.04566073340930086, 259), (-0.04566073340930086, 256), (-0.04566073340930086, 201), (-0.04566073340930086, 200), (-0.046002925708710854, 1657), (-0.046002925708710854, 465), (-0.04645084216922681, 2105), (-0.04739324513340208, 1603), (-0.04739324513340208, 1511), (-0.0483382852789847, 2338), (-0.0483382852789847, 2106), (-0.0483382852789847, 1778), (-0.0483382852789847, 1499), (-0.0483382852789847, 1493), (-0.0483382852789847, 1310), (-0.0483382852789847, 1309), (-0.0483382852789847, 1303), (-0.0483382852789847, 1214), (-0.0483382852789847, 1209), (-0.0483382852789847, 1107), (-0.0483382852789847, 1063), (-0.0483382852789847, 996), (-0.0483382852789847, 992), (-0.0483382852789847, 939), (-0.0483382852789847, 599), (-0.0483382852789847, 510), (-0.0483382852789847, 334), (-0.0483382852789847, 71), (-0.0483382852789847, 55), (-0.0483382852789847, 39), (-0.0483382852789847, 16), (-0.04892181856781592, 300), (-0.04985638647105335, 1968), (-0.04985638647105335, 1095), (-0.04985638647105335, 1015), (-0.04985638647105335, 869), (-0.04985638647105335, 847), (-0.04985638647105335, 570), (-0.04995110187594383, 1403), (-0.050437460523931034, 2246), (-0.050437460523931034, 1318), (-0.05172643990358658, 1424), (-0.05172643990358658, 394), (-0.05181368593406137, 797), (-0.05223008447661682, 1391), (-0.05223008447661682, 656), (-0.05332798920335035, 2205), (-0.05332798920335035, 2113), (-0.05332798920335035, 1965), (-0.05332798920335035, 1481), (-0.05332798920335035, 1368), (-0.05332798920335035, 1339), (-0.05332798920335035, 1324), (-0.05332798920335035, 1270), (-0.05332798920335035, 1243), (-0.05332798920335035, 1216), (-0.05332798920335035, 1201), (-0.05332798920335035, 926), (-0.05332798920335035, 805), (-0.05332798920335035, 659), (-0.05332798920335035, 591), (-0.05332798920335035, 508), (-0.05332798920335035, 507), (-0.05332798920335035, 506), (-0.05332798920335035, 225), (-0.05332798920335035, 144), (-0.05346049385298791, 2175), (-0.05442407887863524, 2284), (-0.05442407887863524, 1702), (-0.05442407887863524, 1680), (-0.05442407887863524, 1184), (-0.05442407887863524, 82), (-0.05476866015210974, 1152), (-0.05667529744328635, 983), (-0.05670055361407327, 1715), (-0.05670055361407327, 1501), (-0.05670055361407327, 1389), (-0.05670055361407327, 1127), (-0.05670055361407327, 963), (-0.05670055361407327, 931), (-0.05670055361407327, 735), (-0.05670055361407327, 532), (-0.05670055361407327, 498), (-0.05670055361407327, 44), (-0.056813048448754434, 497), (-0.057252629615606836, 1205), (-0.057252629615606836, 1170), (-0.057252629615606836, 919), (-0.057252629615606836, 905), (-0.057252629615606836, 361), (-0.05786939804990158, 473), (-0.059835247730682085, 1770), (-0.059835247730682085, 861), (-0.06064872978130623, 1672), (-0.06064872978130623, 1551), (-0.06064872978130623, 1446), (-0.06064872978130623, 1259), (-0.06064872978130623, 1130), (-0.06064872978130623, 1118), (-0.06064872978130623, 1017), (-0.06064872978130623, 862), (-0.06064872978130623, 677), (-0.06064872978130623, 610), (-0.06064872978130623, 539), (-0.06064872978130623, 397), (-0.06064872978130623, 305), (-0.06064872978130623, 254), (-0.06066506846552367, 2016), (-0.06123924797031106, 1985), (-0.06123924797031106, 1909), (-0.06123924797031106, 1812), (-0.06123924797031106, 1803), (-0.06123924797031106, 1485), (-0.06123924797031106, 1484), (-0.06123924797031106, 1395), (-0.06123924797031106, 1383), (-0.06123924797031106, 1242), (-0.06123924797031106, 1140), (-0.06123924797031106, 1057), (-0.06123924797031106, 917), (-0.06123924797031106, 667), (-0.06123924797031106, 612), (-0.061688997541504205, 1926), (-0.061688997541504205, 1322), (-0.06388151820890788, 119), (-0.06426931449603435, 1761), (-0.0647317219893518, 1728), (-0.0648040418198806, 1819), (-0.0648040418198806, 798), (-0.06823557781455784, 1641), (-0.06910910932581178, 395), (-0.07002448757161484, 1612), (-0.07002448757161484, 329), (-0.07002448757161484, 248), (-0.07002448757161484, 133), (-0.07113696728298555, 1903), (-0.07295345999318413, 1681), (-0.07295345999318413, 106), (-0.0746031411997195, 1114), (-0.0749004366643646, 2289), (-0.0749004366643646, 1878), (-0.0749004366643646, 1851), (-0.0749004366643646, 1678), (-0.0749004366643646, 1616), (-0.0749004366643646, 1388), (-0.0749004366643646, 1011), (-0.0749004366643646, 1003), (-0.0749004366643646, 872), (-0.0749004366643646, 613), (-0.0749004366643646, 308), (-0.0749004366643646, 252), (-0.0749004366643646, 58), (-0.07518492515723381, 639), (-0.0779174242035733, 2186), (-0.07803335945982325, 2337), (-0.07803335945982325, 2272), (-0.07803335945982325, 2094), (-0.07803335945982325, 2012), (-0.07803335945982325, 1637), (-0.07803335945982325, 1488), (-0.07803335945982325, 1109), (-0.07803335945982325, 1071), (-0.07803335945982325, 773), (-0.07803335945982325, 486), (-0.07803335945982325, 340), (-0.0786872478609887, 1650), (-0.08028770121848157, 347), (-0.08115851971039491, 1590), (-0.08196698080048731, 1966), (-0.08196698080048731, 535), (-0.08245407340077596, 681), (-0.08353778591313779, 1423), (-0.084426075036024, 1472), (-0.08473377751872166, 1580), (-0.08557391634316362, 678), (-0.08640705344801099, 1247), (-0.08767451025953304, 2229), (-0.08767451025953304, 2028), (-0.08767451025953304, 1860), (-0.08767451025953304, 1614), (-0.08767451025953304, 1400), (-0.08767451025953304, 1291), (-0.08767451025953304, 351), (-0.08767451025953304, 1), (-0.08784328480221021, 296), (-0.0879337844157989, 1736), (-0.0879337844157989, 933), (-0.08797250498859956, 1842), (-0.0885876018726028, 529), (-0.09035207852986767, 1908), (-0.09065805217448446, 57), (-0.090829830769882, 1466), (-0.09096536856263913, 1849), (-0.09129472104019982, 1701), (-0.09388017704246249, 1763), (-0.09421425303607558, 1875), (-0.09421425303607558, 1799), (-0.09614403859693461, 1925), (-0.0966765705579694, 774), (-0.0966765705579694, 651), (-0.09817184846834104, 1837), (-0.09867905097902029, 20), (-0.09899715784006138, 2130), (-0.09970619709277004, 1006), (-0.10039246162672048, 740), (-0.10251566718903445, 1608), (-0.10290787499809644, 1053), (-0.10290787499809644, 901), (-0.10324990677369071, 1937), (-0.10324990677369071, 1928), (-0.10345287980717316, 126), (-0.10395652438020339, 19), (-0.10408137026679241, 423), (-0.10611468088647152, 623), (-0.10691619604788487, 1622), (-0.1071813539455922, 1487), (-0.1090708390982726, 1336), (-0.1098861578147844, 2003), (-0.1098861578147844, 1902), (-0.11007356199038762, 1765), (-0.11007356199038762, 1202), (-0.11046526272797615, 1724), (-0.11046526272797615, 1560), (-0.11046526272797615, 1418), (-0.11046526272797615, 1206), (-0.11046526272797615, 1135), (-0.11046526272797615, 866), (-0.11046526272797615, 849), (-0.11046526272797615, 582), (-0.11046526272797615, 268), (-0.11310915709636116, 1463), (-0.11450207252219571, 1645), (-0.11450525923121367, 1696), (-0.11666566595655951, 274), (-0.11748811859367177, 1699), (-0.11841478842800168, 134), (-0.11933348199881198, 646), (-0.12046422467743077, 410), (-0.12105947572526525, 1521), (-0.12129745956261247, 45), (-0.12143595994392029, 313), (-0.12227952083985068, 1916), (-0.1250708281904282, 2074), (-0.1250708281904282, 1337), (-0.1250708281904282, 1074), (-0.1250708281904282, 158), (-0.1256690579354958, 1989), (-0.1256690579354958, 1824), (-0.1256690579354958, 24), (-0.12672504118568811, 1433), (-0.12793675768209553, 1193), (-0.12884041322845294, 2017), (-0.12884041322845294, 1405), (-0.12884041322845294, 148), (-0.12884041322845294, 30), (-0.13377976719724197, 2124), (-0.13377976719724197, 1428), (-0.13377976719724197, 775), (-0.13377976719724197, 554), (-0.13415974795967783, 1378), (-0.13415974795967783, 479), (-0.13557452295983152, 15), (-0.1356450376504661, 1261), (-0.13949697462148017, 243), (-0.14269483764925642, 2319), (-0.14297794756479898, 1813), (-0.14350156714369564, 1346), (-0.14350156714369564, 1275), (-0.14350156714369564, 1056), (-0.14350156714369564, 21), (-0.1450104403556651, 121), (-0.1462360729732855, 1396), (-0.14881889986617616, 496), (-0.159499200885654, 101), (-0.1595915227828559, 1294), (-0.159983967610051, 947), (-0.16076779658312695, 477), (-0.16333911356805975, 978), (-0.16499485206735473, 2215), (-0.167169624467644, 2320), (-0.17101371250028502, 1356), (-0.1736080578354181, 666), (-0.1742825541302859, 746), (-0.17467813035182794, 467), (-0.1753490205190661, 1307), (-0.1753490205190661, 961), (-0.17585783333088748, 1959), (-0.17585783333088748, 1329), (-0.1774321954650934, 155), (-0.17799532351399805, 78), (-0.18666004125813715, 2310), (-0.18762270795288508, 1872), (-0.18792811938407275, 1626), (-0.18993595473632663, 2263), (-0.18993595473632663, 741), (-0.19006911652910138, 1632), (-0.19409523371273416, 2050), (-0.19409523371273416, 1737), (-0.19409523371273416, 586), (-0.19409523371273416, 533), (-0.1966865670470918, 863), (-0.1991019236330893, 1350), (-0.19965756384470992, 2299), (-0.19965756384470992, 67), (-0.20028450602787315, 1464), (-0.20033047965972456, 2150), (-0.20033047965972456, 1867), (-0.20033047965972456, 721), (-0.20434453928677762, 2262), (-0.20434453928677762, 1539), (-0.20486255248769836, 1962), (-0.20486255248769836, 1094), (-0.20486255248769836, 903), (-0.20711320795286195, 1951), (-0.21283420116347973, 1846), (-0.21350005683384904, 517), (-0.2180731097221337, 41), (-0.22014712398077524, 195), (-0.2344296226943154, 1579), (-0.23838269669634835, 492), (-0.24426197351883164, 1835), (-0.2495007043070918, 2101), (-0.2507720208027859, 1212), (-0.27438862251409074, 986), (-0.2840959442647912, 411), (-0.2860613620970467, 1694), (-0.2940782361041134, 1492), (-0.29470904001128695, 1532), (-0.3081994029462095, 1859), (-0.3198098774564583, 521), (-0.338352263626729, 1004), (-0.4372091979471157, 17), (-0.5025925878948774, 1679), (-0.5118265325382171, 998), (-0.5372522536653858, 176), (-1.0232903344058606, 974)]\n"
     ]
    }
   ],
   "source": [
    "print(coef_pos_index)"
   ]
  },
  {
   "cell_type": "code",
   "execution_count": 374,
   "metadata": {},
   "outputs": [
    {
     "name": "stdout",
     "output_type": "stream",
     "text": [
      "최고/Noun 0.8889477714209618\n",
      "좋아요/Adjective 0.7338551433222393\n",
      "맛있어요/Adjective 0.4955379618260688\n",
      "도/Josa 0.4475216217381987\n",
      "완전/Noun 0.42747770182730777\n",
      "맛있고/Adjective 0.4184668349694444\n",
      "맛있음/Adjective 0.4171539630886601\n",
      "직원/Noun 0.3623462878665413\n",
      "고기/Noun 0.35321278208437323\n",
      "인정/Noun 0.3071677644197641\n",
      "있으나/Adjective 0.2872237501099373\n",
      "맛있당/Adjective 0.2705530552056575\n",
      "또/Noun 0.2516096646000987\n",
      "에요/Josa 0.25008977915019365\n",
      "곳/Noun 0.2493285740478222\n",
      "짱/Noun 0.24603422677631478\n",
      "들/Suffix 0.23816929232856202\n",
      "좋음/Adjective 0.2363722200216116\n",
      "맛집/Noun 0.23413633121696575\n",
      "창/Noun 0.22856251884440898\n"
     ]
    }
   ],
   "source": [
    "# 긍정의 표현중 높은 20개를 출력\n",
    "for coef in coef_pos_index[:20]:\n",
    "    print(invert_index_vectorizer[coef[1]],coef[0]) # 2030단어, 0.8889477714209618"
   ]
  },
  {
   "cell_type": "code",
   "execution_count": 377,
   "metadata": {},
   "outputs": [
    {
     "name": "stdout",
     "output_type": "stream",
     "text": [
      "가서/Verb -0.2180731097221337\n",
      "교대/Noun -0.22014712398077524\n",
      "요/Josa -0.2344296226943154\n",
      "달/Noun -0.23838269669634835\n",
      "점/Noun -0.24426197351883164\n",
      "턱/Noun -0.2495007043070918\n",
      "술안주/Noun -0.2507720208027859\n",
      "보단/Josa -0.27438862251409074\n",
      "너무/Adverb -0.2840959442647912\n",
      "인가/Josa -0.2860613620970467\n",
      "에/Josa -0.2940782361041134\n",
      "예요/Josa -0.29470904001128695\n",
      "제일/Noun -0.3081994029462095\n",
      "대창/Noun -0.3198098774564583\n",
      "볶음밥/Noun -0.338352263626729\n",
      "가/Josa -0.4372091979471157\n",
      "이에요/Josa -0.5025925878948774\n",
      "보통/Noun -0.5118265325382171\n",
      "곱창/Noun -0.5372522536653858\n",
      "별로/Noun -1.0232903344058606\n"
     ]
    }
   ],
   "source": [
    "# 부정의 표현중 높은 20개를 출력\n",
    "for coef in coef_pos_index[-20:]:\n",
    "    print(invert_index_vectorizer[coef[1]],coef[0])"
   ]
  },
  {
   "cell_type": "code",
   "execution_count": null,
   "metadata": {},
   "outputs": [],
   "source": []
  }
 ],
 "metadata": {
  "kernelspec": {
   "display_name": "Python 3",
   "language": "python",
   "name": "python3"
  },
  "language_info": {
   "codemirror_mode": {
    "name": "ipython",
    "version": 3
   },
   "file_extension": ".py",
   "mimetype": "text/x-python",
   "name": "python",
   "nbconvert_exporter": "python",
   "pygments_lexer": "ipython3",
   "version": "3.12.3"
  }
 },
 "nbformat": 4,
 "nbformat_minor": 2
}
