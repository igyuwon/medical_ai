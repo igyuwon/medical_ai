{
 "cells": [
  {
   "cell_type": "code",
   "execution_count": 1,
   "metadata": {},
   "outputs": [],
   "source": [
    "import matplotlib.pyplot as plt\n",
    "import matplotlib\n",
    "import numpy as np\n",
    "import pandas as pd\n",
    "matplotlib.rcParams['axes.unicode_minus'] = False  # 마이너스 표시 해결\n",
    "# 한글설정\n",
    "matplotlib.rcParams['font.family'] = 'Malgun Gothic' # windows 사용자\n",
    "# matplotlib.rcParams['font.family'] = 'AppleGothic Gothic' # Mac사용자\n",
    "matplotlib.rcParams['font.size'] = '10' # 글자크기"
   ]
  },
  {
   "cell_type": "markdown",
   "metadata": {},
   "source": [
    "연령별 인구현황\n",
    "- 2023년 1월 연령별 인구수를 가로 막대그래프로 출력하시오.\n",
    "- 남자범위 : usecols='B,E:Y',    여자범위 : usecols='B,AB:AV'"
   ]
  },
  {
   "cell_type": "markdown",
   "metadata": {},
   "source": [
    "남자데이터,여자데이터 가져오기"
   ]
  },
  {
   "cell_type": "code",
   "execution_count": 2,
   "metadata": {},
   "outputs": [
    {
     "data": {
      "text/html": [
       "<div>\n",
       "<style scoped>\n",
       "    .dataframe tbody tr th:only-of-type {\n",
       "        vertical-align: middle;\n",
       "    }\n",
       "\n",
       "    .dataframe tbody tr th {\n",
       "        vertical-align: top;\n",
       "    }\n",
       "\n",
       "    .dataframe thead th {\n",
       "        text-align: right;\n",
       "    }\n",
       "</style>\n",
       "<table border=\"1\" class=\"dataframe\">\n",
       "  <thead>\n",
       "    <tr style=\"text-align: right;\">\n",
       "      <th></th>\n",
       "      <th>0~4세</th>\n",
       "      <th>5~9세</th>\n",
       "      <th>10~14세</th>\n",
       "      <th>15~19세</th>\n",
       "      <th>20~24세</th>\n",
       "      <th>25~29세</th>\n",
       "      <th>30~34세</th>\n",
       "      <th>35~39세</th>\n",
       "      <th>40~44세</th>\n",
       "      <th>45~49세</th>\n",
       "      <th>...</th>\n",
       "      <th>55~59세</th>\n",
       "      <th>60~64세</th>\n",
       "      <th>65~69세</th>\n",
       "      <th>70~74세</th>\n",
       "      <th>75~79세</th>\n",
       "      <th>80~84세</th>\n",
       "      <th>85~89세</th>\n",
       "      <th>90~94세</th>\n",
       "      <th>95~99세</th>\n",
       "      <th>100세 이상</th>\n",
       "    </tr>\n",
       "    <tr>\n",
       "      <th>행정기관</th>\n",
       "      <th></th>\n",
       "      <th></th>\n",
       "      <th></th>\n",
       "      <th></th>\n",
       "      <th></th>\n",
       "      <th></th>\n",
       "      <th></th>\n",
       "      <th></th>\n",
       "      <th></th>\n",
       "      <th></th>\n",
       "      <th></th>\n",
       "      <th></th>\n",
       "      <th></th>\n",
       "      <th></th>\n",
       "      <th></th>\n",
       "      <th></th>\n",
       "      <th></th>\n",
       "      <th></th>\n",
       "      <th></th>\n",
       "      <th></th>\n",
       "      <th></th>\n",
       "    </tr>\n",
       "  </thead>\n",
       "  <tbody>\n",
       "    <tr>\n",
       "      <th>전국</th>\n",
       "      <td>726,460</td>\n",
       "      <td>1,072,653</td>\n",
       "      <td>1,211,077</td>\n",
       "      <td>1,211,949</td>\n",
       "      <td>1,524,378</td>\n",
       "      <td>1,823,908</td>\n",
       "      <td>1,737,714</td>\n",
       "      <td>1,684,266</td>\n",
       "      <td>2,055,130</td>\n",
       "      <td>2,039,606</td>\n",
       "      <td>...</td>\n",
       "      <td>2,052,227</td>\n",
       "      <td>2,097,254</td>\n",
       "      <td>1,554,976</td>\n",
       "      <td>1,038,388</td>\n",
       "      <td>713,448</td>\n",
       "      <td>507,915</td>\n",
       "      <td>212,726</td>\n",
       "      <td>54,180</td>\n",
       "      <td>8,880</td>\n",
       "      <td>1,307</td>\n",
       "    </tr>\n",
       "  </tbody>\n",
       "</table>\n",
       "<p>1 rows × 21 columns</p>\n",
       "</div>"
      ],
      "text/plain": [
       "         0~4세       5~9세     10~14세     15~19세     20~24세     25~29세  \\\n",
       "행정기관                                                                   \n",
       "전국    726,460  1,072,653  1,211,077  1,211,949  1,524,378  1,823,908   \n",
       "\n",
       "         30~34세     35~39세     40~44세     45~49세  ...     55~59세     60~64세  \\\n",
       "행정기관                                              ...                         \n",
       "전국    1,737,714  1,684,266  2,055,130  2,039,606  ...  2,052,227  2,097,254   \n",
       "\n",
       "         65~69세     70~74세   75~79세   80~84세   85~89세  90~94세 95~99세 100세 이상  \n",
       "행정기관                                                                          \n",
       "전국    1,554,976  1,038,388  713,448  507,915  212,726  54,180  8,880   1,307  \n",
       "\n",
       "[1 rows x 21 columns]"
      ]
     },
     "execution_count": 2,
     "metadata": {},
     "output_type": "execute_result"
    }
   ],
   "source": [
    "# 남자데이터\n",
    "df = pd.read_excel('../z20_data/20230104_연령별인구현황.xlsx',skiprows=3,index_col='행정기관',usecols='B,E:Y')\n",
    "# df = pd.read_excel('../z20_data/20230104_연령별인구현황.xlsx',skiprows=3,thousands = ',',index_col='행정기관',usecols='B,E:Y')\n",
    "df = df.head(1)\n",
    "df"
   ]
  },
  {
   "cell_type": "code",
   "execution_count": 3,
   "metadata": {},
   "outputs": [],
   "source": [
    "# 천단위 표시 제거\n",
    "df.iloc[0] = df.iloc[0].str.replace(\",\",\"\").astype(int)"
   ]
  },
  {
   "cell_type": "code",
   "execution_count": 4,
   "metadata": {},
   "outputs": [
    {
     "data": {
      "text/html": [
       "<div>\n",
       "<style scoped>\n",
       "    .dataframe tbody tr th:only-of-type {\n",
       "        vertical-align: middle;\n",
       "    }\n",
       "\n",
       "    .dataframe tbody tr th {\n",
       "        vertical-align: top;\n",
       "    }\n",
       "\n",
       "    .dataframe thead th {\n",
       "        text-align: right;\n",
       "    }\n",
       "</style>\n",
       "<table border=\"1\" class=\"dataframe\">\n",
       "  <thead>\n",
       "    <tr style=\"text-align: right;\">\n",
       "      <th></th>\n",
       "      <th>0~4세.1</th>\n",
       "      <th>5~9세.1</th>\n",
       "      <th>10~14세.1</th>\n",
       "      <th>15~19세.1</th>\n",
       "      <th>20~24세.1</th>\n",
       "      <th>25~29세.1</th>\n",
       "      <th>30~34세.1</th>\n",
       "      <th>35~39세.1</th>\n",
       "      <th>40~44세.1</th>\n",
       "      <th>45~49세.1</th>\n",
       "      <th>...</th>\n",
       "      <th>55~59세.1</th>\n",
       "      <th>60~64세.1</th>\n",
       "      <th>65~69세.1</th>\n",
       "      <th>70~74세.1</th>\n",
       "      <th>75~79세.1</th>\n",
       "      <th>80~84세.1</th>\n",
       "      <th>85~89세.1</th>\n",
       "      <th>90~94세.1</th>\n",
       "      <th>95~99세.1</th>\n",
       "      <th>100세 이상.1</th>\n",
       "    </tr>\n",
       "    <tr>\n",
       "      <th>행정기관</th>\n",
       "      <th></th>\n",
       "      <th></th>\n",
       "      <th></th>\n",
       "      <th></th>\n",
       "      <th></th>\n",
       "      <th></th>\n",
       "      <th></th>\n",
       "      <th></th>\n",
       "      <th></th>\n",
       "      <th></th>\n",
       "      <th></th>\n",
       "      <th></th>\n",
       "      <th></th>\n",
       "      <th></th>\n",
       "      <th></th>\n",
       "      <th></th>\n",
       "      <th></th>\n",
       "      <th></th>\n",
       "      <th></th>\n",
       "      <th></th>\n",
       "      <th></th>\n",
       "    </tr>\n",
       "  </thead>\n",
       "  <tbody>\n",
       "    <tr>\n",
       "      <th>전국</th>\n",
       "      <td>691045</td>\n",
       "      <td>1020598</td>\n",
       "      <td>1144645</td>\n",
       "      <td>1134811</td>\n",
       "      <td>1402493</td>\n",
       "      <td>1642682</td>\n",
       "      <td>1579871</td>\n",
       "      <td>1598401</td>\n",
       "      <td>1980502</td>\n",
       "      <td>1990483</td>\n",
       "      <td>...</td>\n",
       "      <td>2017243</td>\n",
       "      <td>2132394</td>\n",
       "      <td>1649709</td>\n",
       "      <td>1174486</td>\n",
       "      <td>908877</td>\n",
       "      <td>802501</td>\n",
       "      <td>459932</td>\n",
       "      <td>177039</td>\n",
       "      <td>39806</td>\n",
       "      <td>6604</td>\n",
       "    </tr>\n",
       "  </tbody>\n",
       "</table>\n",
       "<p>1 rows × 21 columns</p>\n",
       "</div>"
      ],
      "text/plain": [
       "      0~4세.1   5~9세.1  10~14세.1  15~19세.1  20~24세.1  25~29세.1  30~34세.1  \\\n",
       "행정기관                                                                      \n",
       "전국    691045  1020598   1144645   1134811   1402493   1642682   1579871   \n",
       "\n",
       "      35~39세.1  40~44세.1  45~49세.1  ...  55~59세.1  60~64세.1  65~69세.1  \\\n",
       "행정기관                                ...                                 \n",
       "전국     1598401   1980502   1990483  ...   2017243   2132394   1649709   \n",
       "\n",
       "      70~74세.1  75~79세.1  80~84세.1  85~89세.1  90~94세.1  95~99세.1  100세 이상.1  \n",
       "행정기관                                                                         \n",
       "전국     1174486    908877    802501    459932    177039     39806       6604  \n",
       "\n",
       "[1 rows x 21 columns]"
      ]
     },
     "execution_count": 4,
     "metadata": {},
     "output_type": "execute_result"
    }
   ],
   "source": [
    "# 여자데이터\n",
    "df2 = pd.read_excel('../z20_data/20230104_연령별인구현황.xlsx',skiprows=3,thousands = ',',index_col='행정기관',usecols='B,AB:AV')\n",
    "df2 = df2.head(1)\n",
    "df2"
   ]
  },
  {
   "cell_type": "code",
   "execution_count": 5,
   "metadata": {},
   "outputs": [
    {
     "data": {
      "text/plain": [
       "Index(['0~4세.1', '5~9세.1', '10~14세.1', '15~19세.1', '20~24세.1', '25~29세.1',\n",
       "       '30~34세.1', '35~39세.1', '40~44세.1', '45~49세.1', '50~54세.1', '55~59세.1',\n",
       "       '60~64세.1', '65~69세.1', '70~74세.1', '75~79세.1', '80~84세.1', '85~89세.1',\n",
       "       '90~94세.1', '95~99세.1', '100세 이상.1'],\n",
       "      dtype='object')"
      ]
     },
     "execution_count": 5,
     "metadata": {},
     "output_type": "execute_result"
    }
   ],
   "source": [
    "df2.columns"
   ]
  },
  {
   "cell_type": "markdown",
   "metadata": {},
   "source": [
    "남자데이터, 여자데이터 컬럼명을 동일"
   ]
  },
  {
   "cell_type": "code",
   "execution_count": 6,
   "metadata": {},
   "outputs": [],
   "source": [
    "df2.columns = df.columns"
   ]
  },
  {
   "cell_type": "markdown",
   "metadata": {},
   "source": [
    "가로막대그래프 그리기"
   ]
  },
  {
   "cell_type": "code",
   "execution_count": 7,
   "metadata": {},
   "outputs": [
    {
     "data": {
      "text/plain": [
       "<BarContainer object of 21 artists>"
      ]
     },
     "execution_count": 7,
     "metadata": {},
     "output_type": "execute_result"
    },
    {
     "data": {
      "image/png": "[encoded data removed]",
      "text/plain": [
       "<Figure size 640x480 with 1 Axes>"
      ]
     },
     "metadata": {},
     "output_type": "display_data"
    }
   ],
   "source": [
    "# 가로 막대 그래프\n",
    "plt.barh(df.columns,-df.iloc[0]//1000)\n",
    "plt.barh(df2.columns,df2.iloc[0]//1000)"
   ]
  },
  {
   "cell_type": "markdown",
   "metadata": {},
   "source": [
    "1월,2월,3월,4월 합산을 해서 가로막대그래프를 출력하시오."
   ]
  },
  {
   "cell_type": "code",
   "execution_count": 14,
   "metadata": {},
   "outputs": [],
   "source": [
    "# 파일 월별 불러오고 컬럼 통일\n",
    "# 남자 1월\n",
    "df_m1 = pd.read_excel('../z20_data/20230104_연령별인구현황.xlsx',skiprows=3,thousands = ',',index_col='행정기관',usecols='B,E:Y')\n",
    "df_m1  = df_m1 .head(1)\n",
    "# 남자 2월\n",
    "df_m2  = pd.read_excel('../z20_data/20230104_연령별인구현황.xlsx',skiprows=3,thousands = ',',index_col='행정기관',usecols='B,AY:BS')\n",
    "df_m2  = df_m2 .head(1)\n",
    "df_m2.columns = df_m1.columns\n",
    "# 남자 3월\n",
    "df_m3  = pd.read_excel('../z20_data/20230104_연령별인구현황.xlsx',skiprows=3,thousands = ',',index_col='행정기관',usecols='B,CS:DM')\n",
    "df_m3  = df_m3 .head(1)\n",
    "df_m3.columns = df_m1.columns\n",
    "# 남자 4월\n",
    "df_m4  = pd.read_excel('../z20_data/20230104_연령별인구현황.xlsx',skiprows=3,thousands = ',',index_col='행정기관',usecols='B,EM:FG')\n",
    "df_m4  = df_m4 .head(1)\n",
    "df_m4.columns = df_m1.columns\n",
    "# 여자 1월\n",
    "df_w1 = pd.read_excel('../z20_data/20230104_연령별인구현황.xlsx',skiprows=3,thousands = ',',index_col='행정기관',usecols='B,AB:AV')\n",
    "df_w1 = df_w1.head(1)\n",
    "df_w1.columns = df_m1.columns\n",
    "# 여자 2월\n",
    "df_w2 = pd.read_excel('../z20_data/20230104_연령별인구현황.xlsx',skiprows=3,thousands = ',',index_col='행정기관',usecols='B,BV:CP')\n",
    "df_w2 = df_w2.head(1)\n",
    "df_w2.columns = df_m1.columns\n",
    "# 여자 3월\n",
    "df_w3 = pd.read_excel('../z20_data/20230104_연령별인구현황.xlsx',skiprows=3,thousands = ',',index_col='행정기관',usecols='B,DP:EJ')\n",
    "df_w3 = df_w3.head(1)\n",
    "df_w3.columns = df_m1.columns\n",
    "# 여자 4월\n",
    "df_w4 = pd.read_excel('../z20_data/20230104_연령별인구현황.xlsx',skiprows=3,thousands = ',',index_col='행정기관',usecols='B,FJ:GD')\n",
    "df_w4 = df_w4.head(1)\n",
    "df_w4.columns = df_m1.columns"
   ]
  },
  {
   "cell_type": "code",
   "execution_count": 25,
   "metadata": {},
   "outputs": [],
   "source": [
    "# 남자 연령대별 1~4월 더함\n",
    "m1_m2_add = df_m1.add(df_m2, fill_value=0)\n",
    "m12_m3_add = m1_m2_add.add(df_m3, fill_value=0)\n",
    "m123_m4_add = m12_m3_add.add(df_m4, fill_value=0)\n",
    "\n",
    "# 여자 연령대별 1~4월 더함\n",
    "w1_w2_add = df_w1.add(df_m2, fill_value=0)\n",
    "w12_w3_add = w1_w2_add.add(df_m3, fill_value=0)\n",
    "w123_w4_add = w12_w3_add.add(df_m4, fill_value=0)\n"
   ]
  },
  {
   "cell_type": "code",
   "execution_count": 26,
   "metadata": {},
   "outputs": [
    {
     "data": {
      "text/html": [
       "<div>\n",
       "<style scoped>\n",
       "    .dataframe tbody tr th:only-of-type {\n",
       "        vertical-align: middle;\n",
       "    }\n",
       "\n",
       "    .dataframe tbody tr th {\n",
       "        vertical-align: top;\n",
       "    }\n",
       "\n",
       "    .dataframe thead th {\n",
       "        text-align: right;\n",
       "    }\n",
       "</style>\n",
       "<table border=\"1\" class=\"dataframe\">\n",
       "  <thead>\n",
       "    <tr style=\"text-align: right;\">\n",
       "      <th></th>\n",
       "      <th>0~4세</th>\n",
       "      <th>5~9세</th>\n",
       "      <th>10~14세</th>\n",
       "      <th>15~19세</th>\n",
       "      <th>20~24세</th>\n",
       "      <th>25~29세</th>\n",
       "      <th>30~34세</th>\n",
       "      <th>35~39세</th>\n",
       "      <th>40~44세</th>\n",
       "      <th>45~49세</th>\n",
       "      <th>...</th>\n",
       "      <th>55~59세</th>\n",
       "      <th>60~64세</th>\n",
       "      <th>65~69세</th>\n",
       "      <th>70~74세</th>\n",
       "      <th>75~79세</th>\n",
       "      <th>80~84세</th>\n",
       "      <th>85~89세</th>\n",
       "      <th>90~94세</th>\n",
       "      <th>95~99세</th>\n",
       "      <th>100세 이상</th>\n",
       "    </tr>\n",
       "    <tr>\n",
       "      <th>행정기관</th>\n",
       "      <th></th>\n",
       "      <th></th>\n",
       "      <th></th>\n",
       "      <th></th>\n",
       "      <th></th>\n",
       "      <th></th>\n",
       "      <th></th>\n",
       "      <th></th>\n",
       "      <th></th>\n",
       "      <th></th>\n",
       "      <th></th>\n",
       "      <th></th>\n",
       "      <th></th>\n",
       "      <th></th>\n",
       "      <th></th>\n",
       "      <th></th>\n",
       "      <th></th>\n",
       "      <th></th>\n",
       "      <th></th>\n",
       "      <th></th>\n",
       "      <th></th>\n",
       "    </tr>\n",
       "  </thead>\n",
       "  <tbody>\n",
       "    <tr>\n",
       "      <th>전국</th>\n",
       "      <td>2882055</td>\n",
       "      <td>4263636</td>\n",
       "      <td>4836643</td>\n",
       "      <td>4836450</td>\n",
       "      <td>6051599</td>\n",
       "      <td>7266690</td>\n",
       "      <td>6980058</td>\n",
       "      <td>6694138</td>\n",
       "      <td>8230214</td>\n",
       "      <td>8126553</td>\n",
       "      <td>...</td>\n",
       "      <td>8213035</td>\n",
       "      <td>8423862</td>\n",
       "      <td>6271963</td>\n",
       "      <td>4167359</td>\n",
       "      <td>2868779</td>\n",
       "      <td>2053413</td>\n",
       "      <td>864048</td>\n",
       "      <td>220484</td>\n",
       "      <td>36152</td>\n",
       "      <td>5584</td>\n",
       "    </tr>\n",
       "  </tbody>\n",
       "</table>\n",
       "<p>1 rows × 21 columns</p>\n",
       "</div>"
      ],
      "text/plain": [
       "         0~4세     5~9세   10~14세   15~19세   20~24세   25~29세   30~34세   35~39세  \\\n",
       "행정기관                                                                           \n",
       "전국    2882055  4263636  4836643  4836450  6051599  7266690  6980058  6694138   \n",
       "\n",
       "       40~44세   45~49세  ...   55~59세   60~64세   65~69세   70~74세   75~79세  \\\n",
       "행정기관                    ...                                                \n",
       "전국    8230214  8126553  ...  8213035  8423862  6271963  4167359  2868779   \n",
       "\n",
       "       80~84세  85~89세  90~94세  95~99세  100세 이상  \n",
       "행정기관                                            \n",
       "전국    2053413  864048  220484   36152     5584  \n",
       "\n",
       "[1 rows x 21 columns]"
      ]
     },
     "execution_count": 26,
     "metadata": {},
     "output_type": "execute_result"
    }
   ],
   "source": [
    "m123_m4_add"
   ]
  },
  {
   "cell_type": "code",
   "execution_count": 27,
   "metadata": {},
   "outputs": [
    {
     "data": {
      "text/html": [
       "<div>\n",
       "<style scoped>\n",
       "    .dataframe tbody tr th:only-of-type {\n",
       "        vertical-align: middle;\n",
       "    }\n",
       "\n",
       "    .dataframe tbody tr th {\n",
       "        vertical-align: top;\n",
       "    }\n",
       "\n",
       "    .dataframe thead th {\n",
       "        text-align: right;\n",
       "    }\n",
       "</style>\n",
       "<table border=\"1\" class=\"dataframe\">\n",
       "  <thead>\n",
       "    <tr style=\"text-align: right;\">\n",
       "      <th></th>\n",
       "      <th>0~4세</th>\n",
       "      <th>5~9세</th>\n",
       "      <th>10~14세</th>\n",
       "      <th>15~19세</th>\n",
       "      <th>20~24세</th>\n",
       "      <th>25~29세</th>\n",
       "      <th>30~34세</th>\n",
       "      <th>35~39세</th>\n",
       "      <th>40~44세</th>\n",
       "      <th>45~49세</th>\n",
       "      <th>...</th>\n",
       "      <th>55~59세</th>\n",
       "      <th>60~64세</th>\n",
       "      <th>65~69세</th>\n",
       "      <th>70~74세</th>\n",
       "      <th>75~79세</th>\n",
       "      <th>80~84세</th>\n",
       "      <th>85~89세</th>\n",
       "      <th>90~94세</th>\n",
       "      <th>95~99세</th>\n",
       "      <th>100세 이상</th>\n",
       "    </tr>\n",
       "    <tr>\n",
       "      <th>행정기관</th>\n",
       "      <th></th>\n",
       "      <th></th>\n",
       "      <th></th>\n",
       "      <th></th>\n",
       "      <th></th>\n",
       "      <th></th>\n",
       "      <th></th>\n",
       "      <th></th>\n",
       "      <th></th>\n",
       "      <th></th>\n",
       "      <th></th>\n",
       "      <th></th>\n",
       "      <th></th>\n",
       "      <th></th>\n",
       "      <th></th>\n",
       "      <th></th>\n",
       "      <th></th>\n",
       "      <th></th>\n",
       "      <th></th>\n",
       "      <th></th>\n",
       "      <th></th>\n",
       "    </tr>\n",
       "  </thead>\n",
       "  <tbody>\n",
       "    <tr>\n",
       "      <th>전국</th>\n",
       "      <td>2846640</td>\n",
       "      <td>4211581</td>\n",
       "      <td>4770211</td>\n",
       "      <td>4759312</td>\n",
       "      <td>5929714</td>\n",
       "      <td>7085464</td>\n",
       "      <td>6822215</td>\n",
       "      <td>6608273</td>\n",
       "      <td>8155586</td>\n",
       "      <td>8077430</td>\n",
       "      <td>...</td>\n",
       "      <td>8178051</td>\n",
       "      <td>8459002</td>\n",
       "      <td>6366696</td>\n",
       "      <td>4303457</td>\n",
       "      <td>3064208</td>\n",
       "      <td>2347999</td>\n",
       "      <td>1111254</td>\n",
       "      <td>343343</td>\n",
       "      <td>67078</td>\n",
       "      <td>10881</td>\n",
       "    </tr>\n",
       "  </tbody>\n",
       "</table>\n",
       "<p>1 rows × 21 columns</p>\n",
       "</div>"
      ],
      "text/plain": [
       "         0~4세     5~9세   10~14세   15~19세   20~24세   25~29세   30~34세   35~39세  \\\n",
       "행정기관                                                                           \n",
       "전국    2846640  4211581  4770211  4759312  5929714  7085464  6822215  6608273   \n",
       "\n",
       "       40~44세   45~49세  ...   55~59세   60~64세   65~69세   70~74세   75~79세  \\\n",
       "행정기관                    ...                                                \n",
       "전국    8155586  8077430  ...  8178051  8459002  6366696  4303457  3064208   \n",
       "\n",
       "       80~84세   85~89세  90~94세  95~99세  100세 이상  \n",
       "행정기관                                             \n",
       "전국    2347999  1111254  343343   67078    10881  \n",
       "\n",
       "[1 rows x 21 columns]"
      ]
     },
     "execution_count": 27,
     "metadata": {},
     "output_type": "execute_result"
    }
   ],
   "source": [
    "w123_w4_add"
   ]
  },
  {
   "cell_type": "code",
   "execution_count": 28,
   "metadata": {},
   "outputs": [
    {
     "data": {
      "text/plain": [
       "<BarContainer object of 21 artists>"
      ]
     },
     "execution_count": 28,
     "metadata": {},
     "output_type": "execute_result"
    },
    {
     "data": {
      "image/png": "[encoded data removed]",
      "text/plain": [
       "<Figure size 640x480 with 1 Axes>"
      ]
     },
     "metadata": {},
     "output_type": "display_data"
    }
   ],
   "source": [
    "plt.barh(m123_m4_add.columns,-m123_m4_add.iloc[0]//1000)\n",
    "plt.barh(w123_w4_add.columns,w123_w4_add.iloc[0]//1000)"
   ]
  },
  {
   "cell_type": "code",
   "execution_count": null,
   "metadata": {},
   "outputs": [],
   "source": []
  }
 ],
 "metadata": {
  "kernelspec": {
   "display_name": "Python 3",
   "language": "python",
   "name": "python3"
  },
  "language_info": {
   "codemirror_mode": {
    "name": "ipython",
    "version": 3
   },
   "file_extension": ".py",
   "mimetype": "text/x-python",
   "name": "python",
   "nbconvert_exporter": "python",
   "pygments_lexer": "ipython3",
   "version": "3.12.2"
  }
 },
 "nbformat": 4,
 "nbformat_minor": 2
}
